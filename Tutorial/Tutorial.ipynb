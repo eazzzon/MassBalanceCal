{
 "cells": [
  {
   "cell_type": "markdown",
   "metadata": {},
   "source": [
    "## Tutorial\n",
    "This notebook shows a general example of mass balance calculation, we currently support two algorithms:\n",
    "1. [Non-negative algorithm](https://epubs.siam.org/doi/pdf/10.1137/1.9781611971217.bm), it solves KKT (Karush-Kuhn-Tucker) conditions for the non-negative least squares problem\n",
    "2. Matrix decomposition, following [Li et al. (2020)](https://www.sciencedirect.com/science/article/pii/S0009281920300301?casa_token=sT59EIzD3QkAAAAA:bQSW0-dssOb6YRtOMb-69ctkXC0BzW5_zlalxk4EV2GFwhm4apnk73tsq4TKVc4vipPyIImq8Twg) and [Ghiorso 1983](https://www.sciencedirect.com/science/article/pii/0098300483900080). The compositional matrix will be broken down by singular value decomposition, the coefficients will then calculated."
   ]
  },
  {
   "cell_type": "code",
   "execution_count": 1,
   "metadata": {},
   "outputs": [],
   "source": [
    "import pandas as pd\n",
    "import matplotlib.pyplot as plt\n",
    "import os, sys\n",
    "if not os.path.exists('massbalance') and os.path.exists('../massbalance'):    # hack to allow scripts to be placed in subdirectories next to pyAp\n",
    "    sys.path.insert(1, os.path.abspath('..'))\n",
    "from massbalance.mb_tools import MassBalance  # this is the core class of the mb calculation"
   ]
  },
  {
   "cell_type": "markdown",
   "metadata": {},
   "source": [
    "### 1. Define elements for calculation"
   ]
  },
  {
   "cell_type": "markdown",
   "metadata": {},
   "source": [
    "We first need to define element list for mass balance calculation, special attention goes to `FeO` term, which we use `FeO`, not ``FeOt`` nor ``FeOtot``, this is consistent with the input excel files. Feel free to change the order of the elements"
   ]
  },
  {
   "cell_type": "code",
   "execution_count": 2,
   "metadata": {},
   "outputs": [],
   "source": [
    "cmpnts = ['SiO2','Al2O3', 'TiO2', 'MgO', 'FeO', 'MnO',  'CaO', 'Na2O', 'K2O', 'P2O5', 'Cr2O3']  # change your desired elements for mass balance calculation"
   ]
  },
  {
   "cell_type": "markdown",
   "metadata": {},
   "source": [
    "if you also want to integrate standard deviation on elements, this can be done manually or by the following line"
   ]
  },
  {
   "cell_type": "code",
   "execution_count": 3,
   "metadata": {},
   "outputs": [
    {
     "data": {
      "text/plain": [
       "['SiO2_std',\n",
       " 'Al2O3_std',\n",
       " 'TiO2_std',\n",
       " 'MgO_std',\n",
       " 'FeO_std',\n",
       " 'MnO_std',\n",
       " 'CaO_std',\n",
       " 'Na2O_std',\n",
       " 'K2O_std',\n",
       " 'P2O5_std',\n",
       " 'Cr2O3_std']"
      ]
     },
     "execution_count": 3,
     "metadata": {},
     "output_type": "execute_result"
    }
   ],
   "source": [
    "cmpnts_std =[x + '_std' for x in cmpnts]  # save columns for std\n",
    "cmpnts_std"
   ]
  },
  {
   "cell_type": "markdown",
   "metadata": {},
   "source": [
    "### 2. Load data"
   ]
  },
  {
   "cell_type": "markdown",
   "metadata": {},
   "source": [
    "The easist way is to copy paste data in the input excel file, please also check README file for details of data prepration"
   ]
  },
  {
   "cell_type": "code",
   "execution_count": 4,
   "metadata": {},
   "outputs": [],
   "source": [
    "nat_comp = pd.ExcelFile(\"input_comp.xlsx\")"
   ]
  },
  {
   "cell_type": "markdown",
   "metadata": {},
   "source": [
    "We load the whole excel spreadsheet to a pandas ExcelFile, to access data in your spreadsheet, you can do so by looping through ExcelFile to a dictionary:"
   ]
  },
  {
   "cell_type": "code",
   "execution_count": 5,
   "metadata": {},
   "outputs": [],
   "source": [
    "nat_dict = {}  # create dictionary to collect compositions of different phases\n",
    "nat_phases = []  # create list to save all phases in the calculation. Note bulk will be the bulk compsition, run_index will be your sample number, or rock id . etc\n",
    "for sheet_name in nat_comp.sheet_names:\n",
    "    nat_phases.append(sheet_name)\n",
    "    nat_dict[sheet_name] = nat_comp.parse(sheet_name)"
   ]
  },
  {
   "cell_type": "markdown",
   "metadata": {},
   "source": [
    "``nat_phases`` stores the sheet names, ``nat_dict`` stores the data of each sheet. "
   ]
  },
  {
   "cell_type": "code",
   "execution_count": 6,
   "metadata": {},
   "outputs": [
    {
     "data": {
      "text/plain": [
       "['melt', 'ol', 'sp', 'py', 'pureFe', 'pureNa', 'bulk', 'run_index']"
      ]
     },
     "execution_count": 6,
     "metadata": {},
     "output_type": "execute_result"
    }
   ],
   "source": [
    "nat_phases"
   ]
  },
  {
   "cell_type": "markdown",
   "metadata": {},
   "source": [
    "Use the sheet name to access data, let's what we have in the ``gl`` phase\n"
   ]
  },
  {
   "cell_type": "code",
   "execution_count": 7,
   "metadata": {},
   "outputs": [
    {
     "data": {
      "text/html": [
       "<div>\n",
       "<style scoped>\n",
       "    .dataframe tbody tr th:only-of-type {\n",
       "        vertical-align: middle;\n",
       "    }\n",
       "\n",
       "    .dataframe tbody tr th {\n",
       "        vertical-align: top;\n",
       "    }\n",
       "\n",
       "    .dataframe thead th {\n",
       "        text-align: right;\n",
       "    }\n",
       "</style>\n",
       "<table border=\"1\" class=\"dataframe\">\n",
       "  <thead>\n",
       "    <tr style=\"text-align: right;\">\n",
       "      <th></th>\n",
       "      <th>Run_no</th>\n",
       "      <th>SiO2</th>\n",
       "      <th>Al2O3</th>\n",
       "      <th>P2O5</th>\n",
       "      <th>CaO</th>\n",
       "      <th>FeO</th>\n",
       "      <th>Na2O</th>\n",
       "      <th>MgO</th>\n",
       "      <th>TiO2</th>\n",
       "      <th>K2O</th>\n",
       "      <th>...</th>\n",
       "      <th>Al2O3_std</th>\n",
       "      <th>P2O5_std</th>\n",
       "      <th>CaO_std</th>\n",
       "      <th>FeO_std</th>\n",
       "      <th>Na2O_std</th>\n",
       "      <th>MgO_std</th>\n",
       "      <th>TiO2_std</th>\n",
       "      <th>K2O_std</th>\n",
       "      <th>MnO_std</th>\n",
       "      <th>Cr2O3_std</th>\n",
       "    </tr>\n",
       "  </thead>\n",
       "  <tbody>\n",
       "    <tr>\n",
       "      <th>0</th>\n",
       "      <td>02As1</td>\n",
       "      <td>46.66</td>\n",
       "      <td>10.16</td>\n",
       "      <td>0.17</td>\n",
       "      <td>11.64</td>\n",
       "      <td>13.06</td>\n",
       "      <td>1.95</td>\n",
       "      <td>13.15</td>\n",
       "      <td>2.43</td>\n",
       "      <td>0.49</td>\n",
       "      <td>...</td>\n",
       "      <td>0.17</td>\n",
       "      <td>0.10</td>\n",
       "      <td>0.22</td>\n",
       "      <td>0.34</td>\n",
       "      <td>0.10</td>\n",
       "      <td>0.26</td>\n",
       "      <td>0.20</td>\n",
       "      <td>0.04</td>\n",
       "      <td>0.04</td>\n",
       "      <td>0.04</td>\n",
       "    </tr>\n",
       "    <tr>\n",
       "      <th>1</th>\n",
       "      <td>01As1</td>\n",
       "      <td>46.96</td>\n",
       "      <td>10.34</td>\n",
       "      <td>0.20</td>\n",
       "      <td>11.81</td>\n",
       "      <td>13.21</td>\n",
       "      <td>1.84</td>\n",
       "      <td>12.16</td>\n",
       "      <td>2.53</td>\n",
       "      <td>0.44</td>\n",
       "      <td>...</td>\n",
       "      <td>0.11</td>\n",
       "      <td>0.07</td>\n",
       "      <td>0.20</td>\n",
       "      <td>0.21</td>\n",
       "      <td>0.10</td>\n",
       "      <td>0.12</td>\n",
       "      <td>0.14</td>\n",
       "      <td>0.05</td>\n",
       "      <td>0.03</td>\n",
       "      <td>0.08</td>\n",
       "    </tr>\n",
       "    <tr>\n",
       "      <th>2</th>\n",
       "      <td>04As1</td>\n",
       "      <td>47.20</td>\n",
       "      <td>10.80</td>\n",
       "      <td>0.23</td>\n",
       "      <td>12.13</td>\n",
       "      <td>12.77</td>\n",
       "      <td>1.87</td>\n",
       "      <td>11.04</td>\n",
       "      <td>2.65</td>\n",
       "      <td>0.48</td>\n",
       "      <td>...</td>\n",
       "      <td>0.11</td>\n",
       "      <td>0.05</td>\n",
       "      <td>0.21</td>\n",
       "      <td>0.45</td>\n",
       "      <td>0.14</td>\n",
       "      <td>0.09</td>\n",
       "      <td>0.16</td>\n",
       "      <td>0.05</td>\n",
       "      <td>0.05</td>\n",
       "      <td>0.03</td>\n",
       "    </tr>\n",
       "    <tr>\n",
       "      <th>3</th>\n",
       "      <td>03As1</td>\n",
       "      <td>48.38</td>\n",
       "      <td>11.36</td>\n",
       "      <td>0.18</td>\n",
       "      <td>12.63</td>\n",
       "      <td>13.03</td>\n",
       "      <td>1.42</td>\n",
       "      <td>10.35</td>\n",
       "      <td>2.54</td>\n",
       "      <td>0.43</td>\n",
       "      <td>...</td>\n",
       "      <td>0.16</td>\n",
       "      <td>0.06</td>\n",
       "      <td>0.12</td>\n",
       "      <td>0.27</td>\n",
       "      <td>0.07</td>\n",
       "      <td>0.19</td>\n",
       "      <td>0.27</td>\n",
       "      <td>0.05</td>\n",
       "      <td>0.05</td>\n",
       "      <td>0.05</td>\n",
       "    </tr>\n",
       "    <tr>\n",
       "      <th>4</th>\n",
       "      <td>05As1</td>\n",
       "      <td>47.18</td>\n",
       "      <td>11.63</td>\n",
       "      <td>0.23</td>\n",
       "      <td>12.84</td>\n",
       "      <td>12.57</td>\n",
       "      <td>2.04</td>\n",
       "      <td>9.42</td>\n",
       "      <td>2.60</td>\n",
       "      <td>0.51</td>\n",
       "      <td>...</td>\n",
       "      <td>0.12</td>\n",
       "      <td>0.05</td>\n",
       "      <td>0.25</td>\n",
       "      <td>0.20</td>\n",
       "      <td>0.12</td>\n",
       "      <td>0.18</td>\n",
       "      <td>0.23</td>\n",
       "      <td>0.05</td>\n",
       "      <td>0.04</td>\n",
       "      <td>0.05</td>\n",
       "    </tr>\n",
       "  </tbody>\n",
       "</table>\n",
       "<p>5 rows × 25 columns</p>\n",
       "</div>"
      ],
      "text/plain": [
       "  Run_no   SiO2  Al2O3  P2O5    CaO    FeO  Na2O    MgO  TiO2   K2O  ...  \\\n",
       "0  02As1  46.66  10.16  0.17  11.64  13.06  1.95  13.15  2.43  0.49  ...   \n",
       "1  01As1  46.96  10.34  0.20  11.81  13.21  1.84  12.16  2.53  0.44  ...   \n",
       "2  04As1  47.20  10.80  0.23  12.13  12.77  1.87  11.04  2.65  0.48  ...   \n",
       "3  03As1  48.38  11.36  0.18  12.63  13.03  1.42  10.35  2.54  0.43  ...   \n",
       "4  05As1  47.18  11.63  0.23  12.84  12.57  2.04   9.42  2.60  0.51  ...   \n",
       "\n",
       "   Al2O3_std  P2O5_std  CaO_std  FeO_std  Na2O_std  MgO_std  TiO2_std  \\\n",
       "0       0.17      0.10     0.22     0.34      0.10     0.26      0.20   \n",
       "1       0.11      0.07     0.20     0.21      0.10     0.12      0.14   \n",
       "2       0.11      0.05     0.21     0.45      0.14     0.09      0.16   \n",
       "3       0.16      0.06     0.12     0.27      0.07     0.19      0.27   \n",
       "4       0.12      0.05     0.25     0.20      0.12     0.18      0.23   \n",
       "\n",
       "   K2O_std  MnO_std  Cr2O3_std  \n",
       "0     0.04     0.04       0.04  \n",
       "1     0.05     0.03       0.08  \n",
       "2     0.05     0.05       0.03  \n",
       "3     0.05     0.05       0.05  \n",
       "4     0.05     0.04       0.05  \n",
       "\n",
       "[5 rows x 25 columns]"
      ]
     },
     "execution_count": 7,
     "metadata": {},
     "output_type": "execute_result"
    }
   ],
   "source": [
    "nat_dict['melt'].head()"
   ]
  },
  {
   "cell_type": "markdown",
   "metadata": {},
   "source": [
    "we use `run_index` sheet to store all runs we wish to perform mass balance with, we can check by doing:"
   ]
  },
  {
   "cell_type": "code",
   "execution_count": 8,
   "metadata": {},
   "outputs": [
    {
     "data": {
      "text/html": [
       "<div>\n",
       "<style scoped>\n",
       "    .dataframe tbody tr th:only-of-type {\n",
       "        vertical-align: middle;\n",
       "    }\n",
       "\n",
       "    .dataframe tbody tr th {\n",
       "        vertical-align: top;\n",
       "    }\n",
       "\n",
       "    .dataframe thead th {\n",
       "        text-align: right;\n",
       "    }\n",
       "</style>\n",
       "<table border=\"1\" class=\"dataframe\">\n",
       "  <thead>\n",
       "    <tr style=\"text-align: right;\">\n",
       "      <th></th>\n",
       "      <th>Run_no</th>\n",
       "      <th>T_C</th>\n",
       "      <th>fO2</th>\n",
       "    </tr>\n",
       "  </thead>\n",
       "  <tbody>\n",
       "    <tr>\n",
       "      <th>0</th>\n",
       "      <td>02As1</td>\n",
       "      <td>1320</td>\n",
       "      <td>QFM</td>\n",
       "    </tr>\n",
       "    <tr>\n",
       "      <th>1</th>\n",
       "      <td>01As1</td>\n",
       "      <td>1302</td>\n",
       "      <td>QFM</td>\n",
       "    </tr>\n",
       "    <tr>\n",
       "      <th>2</th>\n",
       "      <td>04As1</td>\n",
       "      <td>1280</td>\n",
       "      <td>QFM</td>\n",
       "    </tr>\n",
       "    <tr>\n",
       "      <th>3</th>\n",
       "      <td>03As1</td>\n",
       "      <td>1260</td>\n",
       "      <td>QFM</td>\n",
       "    </tr>\n",
       "    <tr>\n",
       "      <th>4</th>\n",
       "      <td>05As1</td>\n",
       "      <td>1240</td>\n",
       "      <td>QFM</td>\n",
       "    </tr>\n",
       "    <tr>\n",
       "      <th>5</th>\n",
       "      <td>06As1</td>\n",
       "      <td>1200</td>\n",
       "      <td>QFM</td>\n",
       "    </tr>\n",
       "    <tr>\n",
       "      <th>6</th>\n",
       "      <td>15As1</td>\n",
       "      <td>1180</td>\n",
       "      <td>QFM</td>\n",
       "    </tr>\n",
       "    <tr>\n",
       "      <th>7</th>\n",
       "      <td>17As1</td>\n",
       "      <td>1170</td>\n",
       "      <td>QFM</td>\n",
       "    </tr>\n",
       "    <tr>\n",
       "      <th>8</th>\n",
       "      <td>14As1</td>\n",
       "      <td>1160</td>\n",
       "      <td>QFM</td>\n",
       "    </tr>\n",
       "  </tbody>\n",
       "</table>\n",
       "</div>"
      ],
      "text/plain": [
       "  Run_no   T_C  fO2\n",
       "0  02As1  1320  QFM\n",
       "1  01As1  1302  QFM\n",
       "2  04As1  1280  QFM\n",
       "3  03As1  1260  QFM\n",
       "4  05As1  1240  QFM\n",
       "5  06As1  1200  QFM\n",
       "6  15As1  1180  QFM\n",
       "7  17As1  1170  QFM\n",
       "8  14As1  1160  QFM"
      ]
     },
     "execution_count": 8,
     "metadata": {},
     "output_type": "execute_result"
    }
   ],
   "source": [
    "nat_dict['run_index']"
   ]
  },
  {
   "cell_type": "markdown",
   "metadata": {},
   "source": [
    "### 3. Mass balance calculation with MCMC progagting errors"
   ]
  },
  {
   "cell_type": "markdown",
   "metadata": {},
   "source": [
    "``MassBalance`` class does the core calculation.\n",
    "To start the calculation, we need to define the ``MassBalance`` class by passing all necessary infos for calculations:\n",
    "1. `input_comp` -- load the ExcelFile variable\n",
    "2. `comp_col` -- load element list\n",
    "3. `comp_std_col` -- load element std list (if avaiable), default is ``None``\n",
    "4. `match_column` -- this is the column name that saves your expts run no., sample no., or rock id. in each spreadsheet\n",
    "5. `bulk_sheet` -- sheet name of which saves bulk composition(s)\n",
    "6. `index_sheet` -- sheet name stores entire infos about expts run numbers ± condition, sample numbers or rock id.\n",
    "7. `normalize` -- normalize your data to 100 during calculation, default is ``True``"
   ]
  },
  {
   "cell_type": "code",
   "execution_count": 9,
   "metadata": {},
   "outputs": [],
   "source": [
    "mb_cal = MassBalance(\n",
    "    input_comp=nat_comp,\n",
    "    comp_col=cmpnts,\n",
    "    comp_std_col=cmpnts_std,\n",
    "    match_column=\"Run_no\",\n",
    "    bulk_sheet=\"bulk\",\n",
    "    index_sheet=\"run_index\",\n",
    "    normalize=True,\n",
    ")"
   ]
  },
  {
   "cell_type": "markdown",
   "metadata": {},
   "source": [
    "``mb_cal`` is a variable we create for mass balance calculation\n",
    "The calculation is done by calling the compute method in the `MassBalance` class as `mb_cal.compute()`\n",
    "Four parameters can be tuned during computing:\n",
    "1. `mc` -- define the number of MC calculations, the default is None, which will be a one time calculation\n",
    "2. `exportFiles` -- we can export the results to excel file `output.xlsx` and `output_mean_median_std.xlsx`. If `mc` is given, `output_mean_median_std.xlsx`stores statistical infos for mc results\n",
    "3. `batch_bulk`: define if you have different bulk for each group of phases, this is useful for layers in layered intrusions or expts with variable starting compositions for different runs. If you only have one bulk composition, can turn it to `False`\n",
    "4. `method`: use `nnl` for non-negative method, `svd` for matrix decomposition method"
   ]
  },
  {
   "cell_type": "markdown",
   "metadata": {},
   "source": [
    "Below we give examples to perform 100 times MC calculation with non-negative method, export files, and we have pre-defined a batch bulk composition in the input file. More examples are given in the python scipt along with this code"
   ]
  },
  {
   "cell_type": "code",
   "execution_count": 10,
   "metadata": {},
   "outputs": [],
   "source": [
    "res_dict = mb_cal.compute(mc=100, exportFiles=True, filename='output', batch_bulk=True, method='nnl')"
   ]
  },
  {
   "cell_type": "markdown",
   "metadata": {},
   "source": [
    "The result is saved in a python dictionary, with each key responses to the expts run no., sample no, or rock id you defined in the index sheet\n",
    "Let's take a look the results of first experimental run `02As1`"
   ]
  },
  {
   "cell_type": "code",
   "execution_count": 11,
   "metadata": {},
   "outputs": [
    {
     "data": {
      "text/html": [
       "<div>\n",
       "<style scoped>\n",
       "    .dataframe tbody tr th:only-of-type {\n",
       "        vertical-align: middle;\n",
       "    }\n",
       "\n",
       "    .dataframe tbody tr th {\n",
       "        vertical-align: top;\n",
       "    }\n",
       "\n",
       "    .dataframe thead th {\n",
       "        text-align: right;\n",
       "    }\n",
       "</style>\n",
       "<table border=\"1\" class=\"dataframe\">\n",
       "  <thead>\n",
       "    <tr style=\"text-align: right;\">\n",
       "      <th></th>\n",
       "      <th>melt</th>\n",
       "      <th>ol</th>\n",
       "      <th>sp</th>\n",
       "      <th>py</th>\n",
       "      <th>pureFe</th>\n",
       "      <th>pureNa</th>\n",
       "      <th>r2</th>\n",
       "      <th>residues</th>\n",
       "    </tr>\n",
       "  </thead>\n",
       "  <tbody>\n",
       "    <tr>\n",
       "      <th>0</th>\n",
       "      <td>0.972007</td>\n",
       "      <td>0.019963</td>\n",
       "      <td>0.0</td>\n",
       "      <td>0.0</td>\n",
       "      <td>0.0</td>\n",
       "      <td>0.000617</td>\n",
       "      <td>1.210055</td>\n",
       "      <td>1.464233</td>\n",
       "    </tr>\n",
       "    <tr>\n",
       "      <th>1</th>\n",
       "      <td>0.969902</td>\n",
       "      <td>0.034408</td>\n",
       "      <td>0.0</td>\n",
       "      <td>0.0</td>\n",
       "      <td>0.0</td>\n",
       "      <td>0.000000</td>\n",
       "      <td>0.693343</td>\n",
       "      <td>0.480725</td>\n",
       "    </tr>\n",
       "    <tr>\n",
       "      <th>2</th>\n",
       "      <td>0.984905</td>\n",
       "      <td>0.022151</td>\n",
       "      <td>0.0</td>\n",
       "      <td>0.0</td>\n",
       "      <td>0.0</td>\n",
       "      <td>0.001736</td>\n",
       "      <td>0.739943</td>\n",
       "      <td>0.547515</td>\n",
       "    </tr>\n",
       "    <tr>\n",
       "      <th>3</th>\n",
       "      <td>0.981304</td>\n",
       "      <td>0.012035</td>\n",
       "      <td>0.0</td>\n",
       "      <td>0.0</td>\n",
       "      <td>0.0</td>\n",
       "      <td>0.000790</td>\n",
       "      <td>1.348193</td>\n",
       "      <td>1.817623</td>\n",
       "    </tr>\n",
       "    <tr>\n",
       "      <th>4</th>\n",
       "      <td>0.985537</td>\n",
       "      <td>0.021023</td>\n",
       "      <td>0.0</td>\n",
       "      <td>0.0</td>\n",
       "      <td>0.0</td>\n",
       "      <td>0.000849</td>\n",
       "      <td>0.777954</td>\n",
       "      <td>0.605213</td>\n",
       "    </tr>\n",
       "    <tr>\n",
       "      <th>...</th>\n",
       "      <td>...</td>\n",
       "      <td>...</td>\n",
       "      <td>...</td>\n",
       "      <td>...</td>\n",
       "      <td>...</td>\n",
       "      <td>...</td>\n",
       "      <td>...</td>\n",
       "      <td>...</td>\n",
       "    </tr>\n",
       "    <tr>\n",
       "      <th>95</th>\n",
       "      <td>0.996193</td>\n",
       "      <td>0.004963</td>\n",
       "      <td>0.0</td>\n",
       "      <td>0.0</td>\n",
       "      <td>0.0</td>\n",
       "      <td>0.000918</td>\n",
       "      <td>0.856391</td>\n",
       "      <td>0.733406</td>\n",
       "    </tr>\n",
       "    <tr>\n",
       "      <th>96</th>\n",
       "      <td>0.976517</td>\n",
       "      <td>0.024658</td>\n",
       "      <td>0.0</td>\n",
       "      <td>0.0</td>\n",
       "      <td>0.0</td>\n",
       "      <td>0.000733</td>\n",
       "      <td>0.786997</td>\n",
       "      <td>0.619365</td>\n",
       "    </tr>\n",
       "    <tr>\n",
       "      <th>97</th>\n",
       "      <td>0.979646</td>\n",
       "      <td>0.016153</td>\n",
       "      <td>0.0</td>\n",
       "      <td>0.0</td>\n",
       "      <td>0.0</td>\n",
       "      <td>0.001697</td>\n",
       "      <td>0.831592</td>\n",
       "      <td>0.691545</td>\n",
       "    </tr>\n",
       "    <tr>\n",
       "      <th>98</th>\n",
       "      <td>0.978553</td>\n",
       "      <td>0.026964</td>\n",
       "      <td>0.0</td>\n",
       "      <td>0.0</td>\n",
       "      <td>0.0</td>\n",
       "      <td>0.000634</td>\n",
       "      <td>0.534931</td>\n",
       "      <td>0.286151</td>\n",
       "    </tr>\n",
       "    <tr>\n",
       "      <th>99</th>\n",
       "      <td>0.977152</td>\n",
       "      <td>0.018072</td>\n",
       "      <td>0.0</td>\n",
       "      <td>0.0</td>\n",
       "      <td>0.0</td>\n",
       "      <td>0.000242</td>\n",
       "      <td>1.202750</td>\n",
       "      <td>1.446607</td>\n",
       "    </tr>\n",
       "  </tbody>\n",
       "</table>\n",
       "<p>100 rows × 8 columns</p>\n",
       "</div>"
      ],
      "text/plain": [
       "        melt        ol   sp   py  pureFe    pureNa        r2  residues\n",
       "0   0.972007  0.019963  0.0  0.0     0.0  0.000617  1.210055  1.464233\n",
       "1   0.969902  0.034408  0.0  0.0     0.0  0.000000  0.693343  0.480725\n",
       "2   0.984905  0.022151  0.0  0.0     0.0  0.001736  0.739943  0.547515\n",
       "3   0.981304  0.012035  0.0  0.0     0.0  0.000790  1.348193  1.817623\n",
       "4   0.985537  0.021023  0.0  0.0     0.0  0.000849  0.777954  0.605213\n",
       "..       ...       ...  ...  ...     ...       ...       ...       ...\n",
       "95  0.996193  0.004963  0.0  0.0     0.0  0.000918  0.856391  0.733406\n",
       "96  0.976517  0.024658  0.0  0.0     0.0  0.000733  0.786997  0.619365\n",
       "97  0.979646  0.016153  0.0  0.0     0.0  0.001697  0.831592  0.691545\n",
       "98  0.978553  0.026964  0.0  0.0     0.0  0.000634  0.534931  0.286151\n",
       "99  0.977152  0.018072  0.0  0.0     0.0  0.000242  1.202750  1.446607\n",
       "\n",
       "[100 rows x 8 columns]"
      ]
     },
     "execution_count": 11,
     "metadata": {},
     "output_type": "execute_result"
    }
   ],
   "source": [
    "res_02As1 = res_dict['02As1']\n",
    "res_02As1"
   ]
  },
  {
   "cell_type": "markdown",
   "metadata": {},
   "source": [
    "This is the MC results (100 times), to calculate statistical infos, you can simply call the built-in pandas functions as:"
   ]
  },
  {
   "cell_type": "code",
   "execution_count": 12,
   "metadata": {},
   "outputs": [
    {
     "data": {
      "text/html": [
       "<div>\n",
       "<style scoped>\n",
       "    .dataframe tbody tr th:only-of-type {\n",
       "        vertical-align: middle;\n",
       "    }\n",
       "\n",
       "    .dataframe tbody tr th {\n",
       "        vertical-align: top;\n",
       "    }\n",
       "\n",
       "    .dataframe thead th {\n",
       "        text-align: right;\n",
       "    }\n",
       "</style>\n",
       "<table border=\"1\" class=\"dataframe\">\n",
       "  <thead>\n",
       "    <tr style=\"text-align: right;\">\n",
       "      <th></th>\n",
       "      <th>melt</th>\n",
       "      <th>ol</th>\n",
       "      <th>sp</th>\n",
       "      <th>py</th>\n",
       "      <th>pureFe</th>\n",
       "      <th>pureNa</th>\n",
       "      <th>r2</th>\n",
       "      <th>residues</th>\n",
       "    </tr>\n",
       "  </thead>\n",
       "  <tbody>\n",
       "    <tr>\n",
       "      <th>count</th>\n",
       "      <td>100.000000</td>\n",
       "      <td>100.000000</td>\n",
       "      <td>100.0</td>\n",
       "      <td>100.0</td>\n",
       "      <td>100.000000</td>\n",
       "      <td>100.000000</td>\n",
       "      <td>100.000000</td>\n",
       "      <td>100.000000</td>\n",
       "    </tr>\n",
       "    <tr>\n",
       "      <th>mean</th>\n",
       "      <td>0.980495</td>\n",
       "      <td>0.021119</td>\n",
       "      <td>0.0</td>\n",
       "      <td>0.0</td>\n",
       "      <td>0.000010</td>\n",
       "      <td>0.000747</td>\n",
       "      <td>0.788174</td>\n",
       "      <td>0.698590</td>\n",
       "    </tr>\n",
       "    <tr>\n",
       "      <th>std</th>\n",
       "      <td>0.009050</td>\n",
       "      <td>0.007082</td>\n",
       "      <td>0.0</td>\n",
       "      <td>0.0</td>\n",
       "      <td>0.000075</td>\n",
       "      <td>0.000756</td>\n",
       "      <td>0.279560</td>\n",
       "      <td>0.493126</td>\n",
       "    </tr>\n",
       "    <tr>\n",
       "      <th>min</th>\n",
       "      <td>0.956614</td>\n",
       "      <td>0.000000</td>\n",
       "      <td>0.0</td>\n",
       "      <td>0.0</td>\n",
       "      <td>0.000000</td>\n",
       "      <td>0.000000</td>\n",
       "      <td>0.203204</td>\n",
       "      <td>0.041292</td>\n",
       "    </tr>\n",
       "    <tr>\n",
       "      <th>25%</th>\n",
       "      <td>0.975097</td>\n",
       "      <td>0.016954</td>\n",
       "      <td>0.0</td>\n",
       "      <td>0.0</td>\n",
       "      <td>0.000000</td>\n",
       "      <td>0.000000</td>\n",
       "      <td>0.589938</td>\n",
       "      <td>0.348027</td>\n",
       "    </tr>\n",
       "    <tr>\n",
       "      <th>50%</th>\n",
       "      <td>0.980201</td>\n",
       "      <td>0.021249</td>\n",
       "      <td>0.0</td>\n",
       "      <td>0.0</td>\n",
       "      <td>0.000000</td>\n",
       "      <td>0.000512</td>\n",
       "      <td>0.746237</td>\n",
       "      <td>0.556900</td>\n",
       "    </tr>\n",
       "    <tr>\n",
       "      <th>75%</th>\n",
       "      <td>0.985670</td>\n",
       "      <td>0.024924</td>\n",
       "      <td>0.0</td>\n",
       "      <td>0.0</td>\n",
       "      <td>0.000000</td>\n",
       "      <td>0.001174</td>\n",
       "      <td>0.930806</td>\n",
       "      <td>0.866401</td>\n",
       "    </tr>\n",
       "    <tr>\n",
       "      <th>max</th>\n",
       "      <td>1.009803</td>\n",
       "      <td>0.039007</td>\n",
       "      <td>0.0</td>\n",
       "      <td>0.0</td>\n",
       "      <td>0.000680</td>\n",
       "      <td>0.002758</td>\n",
       "      <td>1.570241</td>\n",
       "      <td>2.465656</td>\n",
       "    </tr>\n",
       "  </tbody>\n",
       "</table>\n",
       "</div>"
      ],
      "text/plain": [
       "             melt          ol     sp     py      pureFe      pureNa  \\\n",
       "count  100.000000  100.000000  100.0  100.0  100.000000  100.000000   \n",
       "mean     0.980495    0.021119    0.0    0.0    0.000010    0.000747   \n",
       "std      0.009050    0.007082    0.0    0.0    0.000075    0.000756   \n",
       "min      0.956614    0.000000    0.0    0.0    0.000000    0.000000   \n",
       "25%      0.975097    0.016954    0.0    0.0    0.000000    0.000000   \n",
       "50%      0.980201    0.021249    0.0    0.0    0.000000    0.000512   \n",
       "75%      0.985670    0.024924    0.0    0.0    0.000000    0.001174   \n",
       "max      1.009803    0.039007    0.0    0.0    0.000680    0.002758   \n",
       "\n",
       "               r2    residues  \n",
       "count  100.000000  100.000000  \n",
       "mean     0.788174    0.698590  \n",
       "std      0.279560    0.493126  \n",
       "min      0.203204    0.041292  \n",
       "25%      0.589938    0.348027  \n",
       "50%      0.746237    0.556900  \n",
       "75%      0.930806    0.866401  \n",
       "max      1.570241    2.465656  "
      ]
     },
     "execution_count": 12,
     "metadata": {},
     "output_type": "execute_result"
    }
   ],
   "source": [
    "res_02As1.describe()"
   ]
  },
  {
   "cell_type": "markdown",
   "metadata": {},
   "source": [
    "or only interested parameters"
   ]
  },
  {
   "cell_type": "code",
   "execution_count": 13,
   "metadata": {},
   "outputs": [
    {
     "data": {
      "text/html": [
       "<div>\n",
       "<style scoped>\n",
       "    .dataframe tbody tr th:only-of-type {\n",
       "        vertical-align: middle;\n",
       "    }\n",
       "\n",
       "    .dataframe tbody tr th {\n",
       "        vertical-align: top;\n",
       "    }\n",
       "\n",
       "    .dataframe thead th {\n",
       "        text-align: right;\n",
       "    }\n",
       "</style>\n",
       "<table border=\"1\" class=\"dataframe\">\n",
       "  <thead>\n",
       "    <tr style=\"text-align: right;\">\n",
       "      <th></th>\n",
       "      <th>melt</th>\n",
       "      <th>ol</th>\n",
       "      <th>sp</th>\n",
       "      <th>py</th>\n",
       "      <th>pureFe</th>\n",
       "      <th>pureNa</th>\n",
       "      <th>r2</th>\n",
       "      <th>residues</th>\n",
       "    </tr>\n",
       "  </thead>\n",
       "  <tbody>\n",
       "    <tr>\n",
       "      <th>mean</th>\n",
       "      <td>0.980495</td>\n",
       "      <td>0.021119</td>\n",
       "      <td>0.0</td>\n",
       "      <td>0.0</td>\n",
       "      <td>0.000010</td>\n",
       "      <td>0.000747</td>\n",
       "      <td>0.788174</td>\n",
       "      <td>0.698590</td>\n",
       "    </tr>\n",
       "    <tr>\n",
       "      <th>median</th>\n",
       "      <td>0.980201</td>\n",
       "      <td>0.021249</td>\n",
       "      <td>0.0</td>\n",
       "      <td>0.0</td>\n",
       "      <td>0.000000</td>\n",
       "      <td>0.000512</td>\n",
       "      <td>0.746237</td>\n",
       "      <td>0.556900</td>\n",
       "    </tr>\n",
       "    <tr>\n",
       "      <th>std</th>\n",
       "      <td>0.009050</td>\n",
       "      <td>0.007082</td>\n",
       "      <td>0.0</td>\n",
       "      <td>0.0</td>\n",
       "      <td>0.000075</td>\n",
       "      <td>0.000756</td>\n",
       "      <td>0.279560</td>\n",
       "      <td>0.493126</td>\n",
       "    </tr>\n",
       "  </tbody>\n",
       "</table>\n",
       "</div>"
      ],
      "text/plain": [
       "            melt        ol   sp   py    pureFe    pureNa        r2  residues\n",
       "mean    0.980495  0.021119  0.0  0.0  0.000010  0.000747  0.788174  0.698590\n",
       "median  0.980201  0.021249  0.0  0.0  0.000000  0.000512  0.746237  0.556900\n",
       "std     0.009050  0.007082  0.0  0.0  0.000075  0.000756  0.279560  0.493126"
      ]
     },
     "execution_count": 13,
     "metadata": {},
     "output_type": "execute_result"
    }
   ],
   "source": [
    "res_02As1.agg(['mean', 'median', 'std'])"
   ]
  },
  {
   "cell_type": "markdown",
   "metadata": {},
   "source": [
    "To plot the result, you can simply do:"
   ]
  },
  {
   "cell_type": "code",
   "execution_count": 14,
   "metadata": {},
   "outputs": [
    {
     "data": {
      "image/png": "[encoded data removed]",
      "text/plain": [
       "<Figure size 432x288 with 2 Axes>"
      ]
     },
     "metadata": {
      "needs_background": "light"
     },
     "output_type": "display_data"
    }
   ],
   "source": [
    "fig, axes = plt.subplots(1,2, constrained_layout=True)\n",
    "axes[0].hist(res_02As1['melt'], density=True)\n",
    "axes[1].hist(res_02As1['ol'], density=True)\n",
    "axes[0].set_xlabel('melt')\n",
    "axes[1].set_xlabel('ol')\n",
    "plt.show()"
   ]
  },
  {
   "cell_type": "markdown",
   "metadata": {},
   "source": [
    "We pre-defined pure FeO and pure Na2O phases as the evaluation of Fe loss and Na loss, if you don't want to check this, simply delete these sheets\n",
    "Below we give an example to calculate Fe loss (%) and Na loss (%) in the first experimental run `02As1`\n"
   ]
  },
  {
   "cell_type": "code",
   "execution_count": 15,
   "metadata": {},
   "outputs": [
    {
     "data": {
      "text/plain": [
       "12.42"
      ]
     },
     "execution_count": 15,
     "metadata": {},
     "output_type": "execute_result"
    }
   ],
   "source": [
    "nat_bulk = nat_dict['bulk'].set_index('Run_no')\n",
    "nat_bulk.loc['02As1', 'FeO']"
   ]
  },
  {
   "cell_type": "code",
   "execution_count": 16,
   "metadata": {},
   "outputs": [
    {
     "data": {
      "text/plain": [
       "1.96"
      ]
     },
     "execution_count": 16,
     "metadata": {},
     "output_type": "execute_result"
    }
   ],
   "source": [
    "nat_bulk.loc['02As1', 'Na2O']"
   ]
  },
  {
   "cell_type": "code",
   "execution_count": 17,
   "metadata": {},
   "outputs": [
    {
     "data": {
      "text/plain": [
       "mean      0.008072\n",
       "median    0.000000\n",
       "std       0.060354\n",
       "Name: Fe_loss, dtype: float64"
      ]
     },
     "execution_count": 17,
     "metadata": {},
     "output_type": "execute_result"
    }
   ],
   "source": [
    "res_02As1['Fe_loss'] = res_02As1['pureFe'] / nat_bulk.loc['02As1', 'FeO'] * 100 * 100\n",
    "res_02As1['Fe_loss'].agg(['mean', 'median', 'std'])"
   ]
  },
  {
   "cell_type": "code",
   "execution_count": 18,
   "metadata": {},
   "outputs": [
    {
     "data": {
      "text/plain": [
       "mean      3.810991\n",
       "median    2.613951\n",
       "std       3.858733\n",
       "Name: Na2O_loss, dtype: float64"
      ]
     },
     "execution_count": 18,
     "metadata": {},
     "output_type": "execute_result"
    }
   ],
   "source": [
    "res_02As1['Na2O_loss'] = res_02As1['pureNa'] / nat_bulk.loc['02As1', 'Na2O'] * 100 * 100\n",
    "res_02As1['Na2O_loss'].agg(['mean', 'median', 'std'])"
   ]
  },
  {
   "cell_type": "markdown",
   "metadata": {},
   "source": [
    "# Fin ~ happy coding!"
   ]
  }
 ],
 "metadata": {
  "kernelspec": {
   "display_name": "Python 3.9.6 ('base')",
   "language": "python",
   "name": "python3"
  },
  "language_info": {
   "codemirror_mode": {
    "name": "ipython",
    "version": 3
   },
   "file_extension": ".py",
   "mimetype": "text/x-python",
   "name": "python",
   "nbconvert_exporter": "python",
   "pygments_lexer": "ipython3",
   "version": "3.9.6"
  },
  "orig_nbformat": 4,
  "vscode": {
   "interpreter": {
    "hash": "dbfc26f88d4be79d14d7fd08a335d9cb9196b9d1da0cd3f4e161d45a5650b80a"
   }
  }
 },
 "nbformat": 4,
 "nbformat_minor": 2
}
