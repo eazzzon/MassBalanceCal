{
 "cells": [
  {
   "cell_type": "code",
   "execution_count": 1,
   "metadata": {},
   "outputs": [],
   "source": [
    "import pandas as pd\n",
    "import matplotlib.pyplot as plt\n",
    "import os, sys\n",
    "if not os.path.exists('massbalance') and os.path.exists('../massbalance'):    # hack to allow scripts to be placed in subdirectories next to pyAp\n",
    "    sys.path.insert(1, os.path.abspath('..'))\n",
    "from massbalance.mb_tools import MassBalance  # this is the core class of the mb calculation"
   ]
  },
  {
   "cell_type": "markdown",
   "metadata": {},
   "source": [
    "### 1. Define elements for calculation"
   ]
  },
  {
   "cell_type": "code",
   "execution_count": 2,
   "metadata": {},
   "outputs": [],
   "source": [
    "cmpnts = ['SiO2','Al2O3', 'TiO2', 'MgO', 'FeO', 'MnO',  'CaO', 'Na2O', 'K2O', 'P2O5', 'Cr2O3']  # change your desired elements for mass balance calculation"
   ]
  },
  {
   "cell_type": "code",
   "execution_count": 3,
   "metadata": {},
   "outputs": [
    {
     "data": {
      "text/plain": [
       "['SiO2_std',\n",
       " 'Al2O3_std',\n",
       " 'TiO2_std',\n",
       " 'MgO_std',\n",
       " 'FeO_std',\n",
       " 'MnO_std',\n",
       " 'CaO_std',\n",
       " 'Na2O_std',\n",
       " 'K2O_std',\n",
       " 'P2O5_std',\n",
       " 'Cr2O3_std']"
      ]
     },
     "execution_count": 3,
     "metadata": {},
     "output_type": "execute_result"
    }
   ],
   "source": [
    "cmpnts_std =[x + '_std' for x in cmpnts]  # save columns for std\n",
    "cmpnts_std"
   ]
  },
  {
   "cell_type": "markdown",
   "metadata": {},
   "source": [
    "### 2. Load data"
   ]
  },
  {
   "cell_type": "code",
   "execution_count": 4,
   "metadata": {},
   "outputs": [],
   "source": [
    "nat_comp = pd.ExcelFile(\"input_comp.xlsx\")"
   ]
  },
  {
   "cell_type": "markdown",
   "metadata": {},
   "source": [
    "We load the whole excel spreadsheet to a pandas ExcelFile, to access data in your spreadsheet, you can do so by looping through ExcelFile to a dictionary:"
   ]
  },
  {
   "cell_type": "code",
   "execution_count": 5,
   "metadata": {},
   "outputs": [],
   "source": [
    "nat_dict = {}  # create dictionary to collect compositions of different phases\n",
    "nat_phases = []  # create list to save all phases in the calculation. Note bulk will be the bulk compsition, run_index will be your sample number, or rock id . etc\n",
    "for sheet_name in nat_comp.sheet_names:\n",
    "    nat_phases.append(sheet_name)\n",
    "    nat_dict[sheet_name] = nat_comp.parse(sheet_name)"
   ]
  },
  {
   "cell_type": "markdown",
   "metadata": {},
   "source": [
    "``nat_phases`` stores the sheet names, ``nat_dict`` stores the data of each sheet. "
   ]
  },
  {
   "cell_type": "code",
   "execution_count": 6,
   "metadata": {},
   "outputs": [
    {
     "data": {
      "text/plain": [
       "['gl', 'ol', 'sp', 'py', 'pureFe', 'pureNa', 'bulk', 'run_index']"
      ]
     },
     "execution_count": 6,
     "metadata": {},
     "output_type": "execute_result"
    }
   ],
   "source": [
    "nat_phases"
   ]
  },
  {
   "cell_type": "markdown",
   "metadata": {},
   "source": [
    "Use the sheet name to access data, let's what we have in the ``gl`` phase\n"
   ]
  },
  {
   "cell_type": "code",
   "execution_count": 7,
   "metadata": {},
   "outputs": [
    {
     "data": {
      "text/html": [
       "<div>\n",
       "<style scoped>\n",
       "    .dataframe tbody tr th:only-of-type {\n",
       "        vertical-align: middle;\n",
       "    }\n",
       "\n",
       "    .dataframe tbody tr th {\n",
       "        vertical-align: top;\n",
       "    }\n",
       "\n",
       "    .dataframe thead th {\n",
       "        text-align: right;\n",
       "    }\n",
       "</style>\n",
       "<table border=\"1\" class=\"dataframe\">\n",
       "  <thead>\n",
       "    <tr style=\"text-align: right;\">\n",
       "      <th></th>\n",
       "      <th>Run_no</th>\n",
       "      <th>SiO2</th>\n",
       "      <th>Al2O3</th>\n",
       "      <th>P2O5</th>\n",
       "      <th>CaO</th>\n",
       "      <th>FeO</th>\n",
       "      <th>Na2O</th>\n",
       "      <th>MgO</th>\n",
       "      <th>TiO2</th>\n",
       "      <th>K2O</th>\n",
       "      <th>...</th>\n",
       "      <th>Al2O3_std</th>\n",
       "      <th>P2O5_std</th>\n",
       "      <th>CaO_std</th>\n",
       "      <th>FeO_std</th>\n",
       "      <th>Na2O_std</th>\n",
       "      <th>MgO_std</th>\n",
       "      <th>TiO2_std</th>\n",
       "      <th>K2O_std</th>\n",
       "      <th>MnO_std</th>\n",
       "      <th>Cr2O3_std</th>\n",
       "    </tr>\n",
       "  </thead>\n",
       "  <tbody>\n",
       "    <tr>\n",
       "      <th>0</th>\n",
       "      <td>02As1</td>\n",
       "      <td>46.66</td>\n",
       "      <td>10.16</td>\n",
       "      <td>0.17</td>\n",
       "      <td>11.64</td>\n",
       "      <td>13.06</td>\n",
       "      <td>1.95</td>\n",
       "      <td>13.15</td>\n",
       "      <td>2.43</td>\n",
       "      <td>0.49</td>\n",
       "      <td>...</td>\n",
       "      <td>0.17</td>\n",
       "      <td>0.10</td>\n",
       "      <td>0.22</td>\n",
       "      <td>0.34</td>\n",
       "      <td>0.10</td>\n",
       "      <td>0.26</td>\n",
       "      <td>0.20</td>\n",
       "      <td>0.04</td>\n",
       "      <td>0.04</td>\n",
       "      <td>0.04</td>\n",
       "    </tr>\n",
       "    <tr>\n",
       "      <th>1</th>\n",
       "      <td>01As1</td>\n",
       "      <td>46.96</td>\n",
       "      <td>10.34</td>\n",
       "      <td>0.20</td>\n",
       "      <td>11.81</td>\n",
       "      <td>13.21</td>\n",
       "      <td>1.84</td>\n",
       "      <td>12.16</td>\n",
       "      <td>2.53</td>\n",
       "      <td>0.44</td>\n",
       "      <td>...</td>\n",
       "      <td>0.11</td>\n",
       "      <td>0.07</td>\n",
       "      <td>0.20</td>\n",
       "      <td>0.21</td>\n",
       "      <td>0.10</td>\n",
       "      <td>0.12</td>\n",
       "      <td>0.14</td>\n",
       "      <td>0.05</td>\n",
       "      <td>0.03</td>\n",
       "      <td>0.08</td>\n",
       "    </tr>\n",
       "    <tr>\n",
       "      <th>2</th>\n",
       "      <td>04As1</td>\n",
       "      <td>47.20</td>\n",
       "      <td>10.80</td>\n",
       "      <td>0.23</td>\n",
       "      <td>12.13</td>\n",
       "      <td>12.77</td>\n",
       "      <td>1.87</td>\n",
       "      <td>11.04</td>\n",
       "      <td>2.65</td>\n",
       "      <td>0.48</td>\n",
       "      <td>...</td>\n",
       "      <td>0.11</td>\n",
       "      <td>0.05</td>\n",
       "      <td>0.21</td>\n",
       "      <td>0.45</td>\n",
       "      <td>0.14</td>\n",
       "      <td>0.09</td>\n",
       "      <td>0.16</td>\n",
       "      <td>0.05</td>\n",
       "      <td>0.05</td>\n",
       "      <td>0.03</td>\n",
       "    </tr>\n",
       "    <tr>\n",
       "      <th>3</th>\n",
       "      <td>03As1</td>\n",
       "      <td>48.38</td>\n",
       "      <td>11.36</td>\n",
       "      <td>0.18</td>\n",
       "      <td>12.63</td>\n",
       "      <td>13.03</td>\n",
       "      <td>1.42</td>\n",
       "      <td>10.35</td>\n",
       "      <td>2.54</td>\n",
       "      <td>0.43</td>\n",
       "      <td>...</td>\n",
       "      <td>0.16</td>\n",
       "      <td>0.06</td>\n",
       "      <td>0.12</td>\n",
       "      <td>0.27</td>\n",
       "      <td>0.07</td>\n",
       "      <td>0.19</td>\n",
       "      <td>0.27</td>\n",
       "      <td>0.05</td>\n",
       "      <td>0.05</td>\n",
       "      <td>0.05</td>\n",
       "    </tr>\n",
       "    <tr>\n",
       "      <th>4</th>\n",
       "      <td>05As1</td>\n",
       "      <td>47.18</td>\n",
       "      <td>11.63</td>\n",
       "      <td>0.23</td>\n",
       "      <td>12.84</td>\n",
       "      <td>12.57</td>\n",
       "      <td>2.04</td>\n",
       "      <td>9.42</td>\n",
       "      <td>2.60</td>\n",
       "      <td>0.51</td>\n",
       "      <td>...</td>\n",
       "      <td>0.12</td>\n",
       "      <td>0.05</td>\n",
       "      <td>0.25</td>\n",
       "      <td>0.20</td>\n",
       "      <td>0.12</td>\n",
       "      <td>0.18</td>\n",
       "      <td>0.23</td>\n",
       "      <td>0.05</td>\n",
       "      <td>0.04</td>\n",
       "      <td>0.05</td>\n",
       "    </tr>\n",
       "  </tbody>\n",
       "</table>\n",
       "<p>5 rows × 25 columns</p>\n",
       "</div>"
      ],
      "text/plain": [
       "  Run_no   SiO2  Al2O3  P2O5    CaO    FeO  Na2O    MgO  TiO2   K2O  ...  \\\n",
       "0  02As1  46.66  10.16  0.17  11.64  13.06  1.95  13.15  2.43  0.49  ...   \n",
       "1  01As1  46.96  10.34  0.20  11.81  13.21  1.84  12.16  2.53  0.44  ...   \n",
       "2  04As1  47.20  10.80  0.23  12.13  12.77  1.87  11.04  2.65  0.48  ...   \n",
       "3  03As1  48.38  11.36  0.18  12.63  13.03  1.42  10.35  2.54  0.43  ...   \n",
       "4  05As1  47.18  11.63  0.23  12.84  12.57  2.04   9.42  2.60  0.51  ...   \n",
       "\n",
       "   Al2O3_std  P2O5_std  CaO_std  FeO_std  Na2O_std  MgO_std  TiO2_std  \\\n",
       "0       0.17      0.10     0.22     0.34      0.10     0.26      0.20   \n",
       "1       0.11      0.07     0.20     0.21      0.10     0.12      0.14   \n",
       "2       0.11      0.05     0.21     0.45      0.14     0.09      0.16   \n",
       "3       0.16      0.06     0.12     0.27      0.07     0.19      0.27   \n",
       "4       0.12      0.05     0.25     0.20      0.12     0.18      0.23   \n",
       "\n",
       "   K2O_std  MnO_std  Cr2O3_std  \n",
       "0     0.04     0.04       0.04  \n",
       "1     0.05     0.03       0.08  \n",
       "2     0.05     0.05       0.03  \n",
       "3     0.05     0.05       0.05  \n",
       "4     0.05     0.04       0.05  \n",
       "\n",
       "[5 rows x 25 columns]"
      ]
     },
     "execution_count": 7,
     "metadata": {},
     "output_type": "execute_result"
    }
   ],
   "source": [
    "nat_dict['gl'].head()"
   ]
  },
  {
   "cell_type": "markdown",
   "metadata": {},
   "source": [
    "### 3. Mass balance calculation"
   ]
  },
  {
   "cell_type": "code",
   "execution_count": 8,
   "metadata": {},
   "outputs": [],
   "source": [
    "mb_cal = MassBalance(\n",
    "    input_comp=nat_comp,\n",
    "    comp_col=cmpnts,\n",
    "    comp_std_col=cmpnts_std,\n",
    "    match_column=\"Run_no\",\n",
    "    bulk_sheet=\"bulk\",\n",
    "    index_sheet=\"run_index\",\n",
    "    normalize=True,\n",
    ")"
   ]
  },
  {
   "cell_type": "code",
   "execution_count": 9,
   "metadata": {},
   "outputs": [
    {
     "name": "stderr",
     "output_type": "stream",
     "text": [
      "c:\\Users\\u0149514\\Documents\\GitHub\\MassBalanceCal\\massbalance\\mb_tools.py:99: FutureWarning: save is not part of the public API, usage can give unexpected results and will be removed in a future version\n",
      "  writer.save()\n",
      "c:\\Users\\u0149514\\Documents\\GitHub\\MassBalanceCal\\massbalance\\mb_tools.py:106: FutureWarning: save is not part of the public API, usage can give unexpected results and will be removed in a future version\n",
      "  writer.save()\n"
     ]
    }
   ],
   "source": [
    "res_dict = mb_cal.compute(mc=100, exportFiles=True, filename='output', batch_bulk=True, method='nnl')"
   ]
  },
  {
   "cell_type": "code",
   "execution_count": 10,
   "metadata": {},
   "outputs": [
    {
     "data": {
      "text/plain": [
       "{'02As1':           gl        ol   sp   py  pureFe    pureNa        r2  residues\n",
       " 0   0.980923  0.025478  0.0  0.0     0.0  0.001372  0.546496  0.298658\n",
       " 1   0.983128  0.021868  0.0  0.0     0.0  0.001015  1.144534  1.309958\n",
       " 2   0.983456  0.018662  0.0  0.0     0.0  0.000468  1.022921  1.046367\n",
       " 3   0.984992  0.013149  0.0  0.0     0.0  0.001310  1.445424  2.089251\n",
       " 4   0.983355  0.020246  0.0  0.0     0.0  0.000000  0.653710  0.427337\n",
       " ..       ...       ...  ...  ...     ...       ...       ...       ...\n",
       " 95  0.980024  0.021612  0.0  0.0     0.0  0.000000  0.797076  0.635330\n",
       " 96  0.969907  0.024031  0.0  0.0     0.0  0.001131  1.032617  1.066299\n",
       " 97  0.981355  0.010628  0.0  0.0     0.0  0.001562  1.045658  1.093401\n",
       " 98  0.970985  0.023249  0.0  0.0     0.0  0.000165  0.462804  0.214187\n",
       " 99  0.974963  0.023238  0.0  0.0     0.0  0.000559  0.468069  0.219088\n",
       " \n",
       " [100 rows x 8 columns],\n",
       " '01As1':           gl        ol   sp   py  pureFe    pureNa        r2  residues\n",
       " 0   0.954705  0.045112  0.0  0.0     0.0  0.000469  1.280489  1.639653\n",
       " 1   0.964402  0.039558  0.0  0.0     0.0  0.001555  0.924761  0.855182\n",
       " 2   0.962676  0.045237  0.0  0.0     0.0  0.001121  0.686522  0.471312\n",
       " 3   0.956364  0.046217  0.0  0.0     0.0  0.002256  0.940382  0.884318\n",
       " 4   0.945112  0.050000  0.0  0.0     0.0  0.002245  1.011108  1.022340\n",
       " ..       ...       ...  ...  ...     ...       ...       ...       ...\n",
       " 95  0.945232  0.048577  0.0  0.0     0.0  0.003378  1.116476  1.246518\n",
       " 96  0.946607  0.047585  0.0  0.0     0.0  0.001967  0.836348  0.699478\n",
       " 97  0.936496  0.056728  0.0  0.0     0.0  0.003053  0.662925  0.439470\n",
       " 98  0.951876  0.047888  0.0  0.0     0.0  0.001123  0.720107  0.518554\n",
       " 99  0.939546  0.045281  0.0  0.0     0.0  0.003415  0.962186  0.925802\n",
       " \n",
       " [100 rows x 8 columns],\n",
       " '04As1':           gl        ol        sp   py    pureFe    pureNa        r2  residues\n",
       " 0   0.919122  0.077143  0.001502  0.0  0.006735  0.000606  0.452400  0.204666\n",
       " 1   0.928608  0.071432  0.000000  0.0  0.000000  0.002021  0.513701  0.263888\n",
       " 2   0.913608  0.079798  0.000000  0.0  0.000000  0.003669  0.953197  0.908585\n",
       " 3   0.932717  0.070797  0.000000  0.0  0.000000  0.000847  0.701013  0.491419\n",
       " 4   0.926943  0.074535  0.003826  0.0  0.000971  0.000923  0.602086  0.362507\n",
       " ..       ...       ...       ...  ...       ...       ...       ...       ...\n",
       " 95  0.920948  0.075446  0.000000  0.0  0.000000  0.000441  0.893026  0.797496\n",
       " 96  0.923527  0.076884  0.000000  0.0  0.000000  0.000497  0.405475  0.164410\n",
       " 97  0.920301  0.071444  0.003847  0.0  0.000000  0.000000  0.501564  0.251566\n",
       " 98  0.920083  0.077982  0.005629  0.0  0.002958  0.002824  0.472170  0.222945\n",
       " 99  0.921487  0.071086  0.000000  0.0  0.000000  0.002291  0.975004  0.950633\n",
       " \n",
       " [100 rows x 8 columns],\n",
       " '03As1':           gl        ol        sp   py    pureFe    pureNa        r2  residues\n",
       " 0   0.900069  0.092818  0.000000  0.0  0.000000  0.006204  0.570647  0.325638\n",
       " 1   0.910193  0.094411  0.000000  0.0  0.000000  0.006641  0.748178  0.559771\n",
       " 2   0.898286  0.091360  0.000000  0.0  0.000000  0.006907  0.593974  0.352806\n",
       " 3   0.894249  0.095770  0.002967  0.0  0.000000  0.005776  0.528297  0.279098\n",
       " 4   0.892090  0.101819  0.000000  0.0  0.000000  0.007041  0.496386  0.246399\n",
       " ..       ...       ...       ...  ...       ...       ...       ...       ...\n",
       " 95  0.894551  0.098937  0.000000  0.0  0.000000  0.005975  0.660107  0.435741\n",
       " 96  0.882193  0.105263  0.000000  0.0  0.002496  0.006913  0.443806  0.196964\n",
       " 97  0.894975  0.095324  0.000000  0.0  0.000000  0.006461  0.971545  0.943900\n",
       " 98  0.891604  0.096484  0.000000  0.0  0.000000  0.006208  0.506448  0.256489\n",
       " 99  0.900252  0.093233  0.000223  0.0  0.000000  0.007006  0.806913  0.651109\n",
       " \n",
       " [100 rows x 8 columns],\n",
       " '05As1':           gl        ol   sp   py  pureFe    pureNa        r2  residues\n",
       " 0   0.881038  0.119835  0.0  0.0     0.0  0.001739  0.567107  0.321610\n",
       " 1   0.878443  0.115554  0.0  0.0     0.0  0.001385  1.036677  1.074700\n",
       " 2   0.876365  0.127489  0.0  0.0     0.0  0.002116  0.458884  0.210575\n",
       " 3   0.870378  0.127003  0.0  0.0     0.0  0.000966  0.443420  0.196622\n",
       " 4   0.880536  0.123413  0.0  0.0     0.0  0.000911  0.799274  0.638839\n",
       " ..       ...       ...  ...  ...     ...       ...       ...       ...\n",
       " 95  0.876411  0.119774  0.0  0.0     0.0  0.001475  0.958113  0.917980\n",
       " 96  0.875730  0.125805  0.0  0.0     0.0  0.000556  0.512812  0.262976\n",
       " 97  0.877552  0.120714  0.0  0.0     0.0  0.001247  0.609438  0.371415\n",
       " 98  0.879201  0.123998  0.0  0.0     0.0  0.001816  0.455199  0.207206\n",
       " 99  0.879284  0.131004  0.0  0.0     0.0  0.000980  0.732335  0.536315\n",
       " \n",
       " [100 rows x 8 columns],\n",
       " '06As1':           gl        ol        sp        py    pureFe    pureNa        r2  \\\n",
       " 0   0.795248  0.161316  0.002522  0.039117  0.000000  0.003109  0.541224   \n",
       " 1   0.803875  0.165371  0.000774  0.029416  0.000000  0.002337  0.495802   \n",
       " 2   0.796126  0.155608  0.000000  0.042933  0.000000  0.001725  0.813715   \n",
       " 3   0.810034  0.159129  0.000000  0.024635  0.000000  0.002112  0.736632   \n",
       " 4   0.811965  0.161789  0.000010  0.021870  0.000000  0.001405  0.607055   \n",
       " ..       ...       ...       ...       ...       ...       ...       ...   \n",
       " 95  0.832385  0.147844  0.000000  0.023099  0.000000  0.001630  0.366731   \n",
       " 96  0.810155  0.162791  0.001350  0.023676  0.000000  0.002598  0.515088   \n",
       " 97  0.780225  0.164167  0.003332  0.043853  0.000000  0.002819  0.203282   \n",
       " 98  0.814428  0.166287  0.003811  0.022631  0.000000  0.003028  0.531714   \n",
       " 99  0.799313  0.150492  0.001065  0.042509  0.001642  0.002091  0.466217   \n",
       " \n",
       "     residues  \n",
       " 0   0.292924  \n",
       " 1   0.245819  \n",
       " 2   0.662132  \n",
       " 3   0.542627  \n",
       " 4   0.368516  \n",
       " ..       ...  \n",
       " 95  0.134491  \n",
       " 96  0.265316  \n",
       " 97  0.041324  \n",
       " 98  0.282720  \n",
       " 99  0.217358  \n",
       " \n",
       " [100 rows x 8 columns],\n",
       " '15As1':           gl        ol   sp        py  pureFe    pureNa        r2  residues\n",
       " 0   0.739278  0.170126  0.0  0.102539     0.0  0.001206  0.798180  0.637091\n",
       " 1   0.729830  0.171843  0.0  0.096889     0.0  0.002671  0.532288  0.283330\n",
       " 2   0.721377  0.172331  0.0  0.088233     0.0  0.000757  0.657563  0.432390\n",
       " 3   0.740929  0.170495  0.0  0.082645     0.0  0.001190  0.551733  0.304409\n",
       " 4   0.758485  0.171337  0.0  0.075596     0.0  0.002704  0.418454  0.175104\n",
       " ..       ...       ...  ...       ...     ...       ...       ...       ...\n",
       " 95  0.730319  0.171706  0.0  0.100656     0.0  0.002577  0.490709  0.240795\n",
       " 96  0.714901  0.176924  0.0  0.105757     0.0  0.000579  0.455196  0.207204\n",
       " 97  0.718360  0.164613  0.0  0.118865     0.0  0.002119  0.529865  0.280757\n",
       " 98  0.734678  0.159330  0.0  0.103557     0.0  0.001371  0.431240  0.185968\n",
       " 99  0.734981  0.170556  0.0  0.093950     0.0  0.000000  0.426816  0.182172\n",
       " \n",
       " [100 rows x 8 columns],\n",
       " '17As1':           gl        ol   sp        py    pureFe    pureNa        r2  residues\n",
       " 0   0.711046  0.169137  0.0  0.113920  0.000000  0.002855  0.504068  0.254084\n",
       " 1   0.697151  0.163232  0.0  0.126400  0.000307  0.001018  0.811696  0.658850\n",
       " 2   0.704307  0.166523  0.0  0.121308  0.002522  0.000540  0.711689  0.506501\n",
       " 3   0.701347  0.169459  0.0  0.114970  0.004660  0.001305  0.573339  0.328718\n",
       " 4   0.706809  0.170881  0.0  0.115780  0.003548  0.001629  0.219921  0.048365\n",
       " ..       ...       ...  ...       ...       ...       ...       ...       ...\n",
       " 95  0.729840  0.177328  0.0  0.090191  0.000000  0.001919  0.446355  0.199232\n",
       " 96  0.717707  0.177301  0.0  0.101943  0.001693  0.000000  0.503841  0.253855\n",
       " 97  0.698361  0.172038  0.0  0.116922  0.000000  0.000000  0.704676  0.496569\n",
       " 98  0.695439  0.167001  0.0  0.124376  0.001684  0.000674  0.596689  0.356038\n",
       " 99  0.703511  0.170512  0.0  0.115451  0.000000  0.001390  0.582351  0.339132\n",
       " \n",
       " [100 rows x 8 columns],\n",
       " '14As1':           gl        ol   sp        py    pureFe    pureNa        r2  residues\n",
       " 0   0.651595  0.162722  0.0  0.179629  0.000000  0.002423  0.521101  0.271547\n",
       " 1   0.650593  0.156775  0.0  0.179799  0.000000  0.002954  0.394171  0.155371\n",
       " 2   0.663772  0.170622  0.0  0.165986  0.000000  0.002188  0.260161  0.067684\n",
       " 3   0.634161  0.169919  0.0  0.188812  0.003012  0.003038  0.575398  0.331083\n",
       " 4   0.667939  0.170575  0.0  0.161384  0.000000  0.002336  0.350744  0.123022\n",
       " ..       ...       ...  ...       ...       ...       ...       ...       ...\n",
       " 95  0.670586  0.169819  0.0  0.158257  0.000000  0.001643  0.358449  0.128485\n",
       " 96  0.661636  0.170883  0.0  0.163285  0.002314  0.001843  0.364948  0.133187\n",
       " 97  0.667361  0.160135  0.0  0.164731  0.004704  0.001412  0.231170  0.053440\n",
       " 98  0.677184  0.173538  0.0  0.145019  0.000000  0.002695  0.321922  0.103633\n",
       " 99  0.657519  0.163852  0.0  0.177340  0.000000  0.003272  0.308671  0.095278\n",
       " \n",
       " [100 rows x 8 columns]}"
      ]
     },
     "execution_count": 10,
     "metadata": {},
     "output_type": "execute_result"
    }
   ],
   "source": [
    "res_dict"
   ]
  },
  {
   "cell_type": "code",
   "execution_count": 11,
   "metadata": {},
   "outputs": [
    {
     "data": {
      "text/html": [
       "<div>\n",
       "<style scoped>\n",
       "    .dataframe tbody tr th:only-of-type {\n",
       "        vertical-align: middle;\n",
       "    }\n",
       "\n",
       "    .dataframe tbody tr th {\n",
       "        vertical-align: top;\n",
       "    }\n",
       "\n",
       "    .dataframe thead th {\n",
       "        text-align: right;\n",
       "    }\n",
       "</style>\n",
       "<table border=\"1\" class=\"dataframe\">\n",
       "  <thead>\n",
       "    <tr style=\"text-align: right;\">\n",
       "      <th></th>\n",
       "      <th>gl</th>\n",
       "      <th>ol</th>\n",
       "      <th>sp</th>\n",
       "      <th>py</th>\n",
       "      <th>pureFe</th>\n",
       "      <th>pureNa</th>\n",
       "      <th>r2</th>\n",
       "      <th>residues</th>\n",
       "    </tr>\n",
       "  </thead>\n",
       "  <tbody>\n",
       "    <tr>\n",
       "      <th>0</th>\n",
       "      <td>0.980923</td>\n",
       "      <td>0.025478</td>\n",
       "      <td>0.0</td>\n",
       "      <td>0.0</td>\n",
       "      <td>0.0</td>\n",
       "      <td>0.001372</td>\n",
       "      <td>0.546496</td>\n",
       "      <td>0.298658</td>\n",
       "    </tr>\n",
       "    <tr>\n",
       "      <th>1</th>\n",
       "      <td>0.983128</td>\n",
       "      <td>0.021868</td>\n",
       "      <td>0.0</td>\n",
       "      <td>0.0</td>\n",
       "      <td>0.0</td>\n",
       "      <td>0.001015</td>\n",
       "      <td>1.144534</td>\n",
       "      <td>1.309958</td>\n",
       "    </tr>\n",
       "    <tr>\n",
       "      <th>2</th>\n",
       "      <td>0.983456</td>\n",
       "      <td>0.018662</td>\n",
       "      <td>0.0</td>\n",
       "      <td>0.0</td>\n",
       "      <td>0.0</td>\n",
       "      <td>0.000468</td>\n",
       "      <td>1.022921</td>\n",
       "      <td>1.046367</td>\n",
       "    </tr>\n",
       "    <tr>\n",
       "      <th>3</th>\n",
       "      <td>0.984992</td>\n",
       "      <td>0.013149</td>\n",
       "      <td>0.0</td>\n",
       "      <td>0.0</td>\n",
       "      <td>0.0</td>\n",
       "      <td>0.001310</td>\n",
       "      <td>1.445424</td>\n",
       "      <td>2.089251</td>\n",
       "    </tr>\n",
       "    <tr>\n",
       "      <th>4</th>\n",
       "      <td>0.983355</td>\n",
       "      <td>0.020246</td>\n",
       "      <td>0.0</td>\n",
       "      <td>0.0</td>\n",
       "      <td>0.0</td>\n",
       "      <td>0.000000</td>\n",
       "      <td>0.653710</td>\n",
       "      <td>0.427337</td>\n",
       "    </tr>\n",
       "    <tr>\n",
       "      <th>...</th>\n",
       "      <td>...</td>\n",
       "      <td>...</td>\n",
       "      <td>...</td>\n",
       "      <td>...</td>\n",
       "      <td>...</td>\n",
       "      <td>...</td>\n",
       "      <td>...</td>\n",
       "      <td>...</td>\n",
       "    </tr>\n",
       "    <tr>\n",
       "      <th>95</th>\n",
       "      <td>0.980024</td>\n",
       "      <td>0.021612</td>\n",
       "      <td>0.0</td>\n",
       "      <td>0.0</td>\n",
       "      <td>0.0</td>\n",
       "      <td>0.000000</td>\n",
       "      <td>0.797076</td>\n",
       "      <td>0.635330</td>\n",
       "    </tr>\n",
       "    <tr>\n",
       "      <th>96</th>\n",
       "      <td>0.969907</td>\n",
       "      <td>0.024031</td>\n",
       "      <td>0.0</td>\n",
       "      <td>0.0</td>\n",
       "      <td>0.0</td>\n",
       "      <td>0.001131</td>\n",
       "      <td>1.032617</td>\n",
       "      <td>1.066299</td>\n",
       "    </tr>\n",
       "    <tr>\n",
       "      <th>97</th>\n",
       "      <td>0.981355</td>\n",
       "      <td>0.010628</td>\n",
       "      <td>0.0</td>\n",
       "      <td>0.0</td>\n",
       "      <td>0.0</td>\n",
       "      <td>0.001562</td>\n",
       "      <td>1.045658</td>\n",
       "      <td>1.093401</td>\n",
       "    </tr>\n",
       "    <tr>\n",
       "      <th>98</th>\n",
       "      <td>0.970985</td>\n",
       "      <td>0.023249</td>\n",
       "      <td>0.0</td>\n",
       "      <td>0.0</td>\n",
       "      <td>0.0</td>\n",
       "      <td>0.000165</td>\n",
       "      <td>0.462804</td>\n",
       "      <td>0.214187</td>\n",
       "    </tr>\n",
       "    <tr>\n",
       "      <th>99</th>\n",
       "      <td>0.974963</td>\n",
       "      <td>0.023238</td>\n",
       "      <td>0.0</td>\n",
       "      <td>0.0</td>\n",
       "      <td>0.0</td>\n",
       "      <td>0.000559</td>\n",
       "      <td>0.468069</td>\n",
       "      <td>0.219088</td>\n",
       "    </tr>\n",
       "  </tbody>\n",
       "</table>\n",
       "<p>100 rows × 8 columns</p>\n",
       "</div>"
      ],
      "text/plain": [
       "          gl        ol   sp   py  pureFe    pureNa        r2  residues\n",
       "0   0.980923  0.025478  0.0  0.0     0.0  0.001372  0.546496  0.298658\n",
       "1   0.983128  0.021868  0.0  0.0     0.0  0.001015  1.144534  1.309958\n",
       "2   0.983456  0.018662  0.0  0.0     0.0  0.000468  1.022921  1.046367\n",
       "3   0.984992  0.013149  0.0  0.0     0.0  0.001310  1.445424  2.089251\n",
       "4   0.983355  0.020246  0.0  0.0     0.0  0.000000  0.653710  0.427337\n",
       "..       ...       ...  ...  ...     ...       ...       ...       ...\n",
       "95  0.980024  0.021612  0.0  0.0     0.0  0.000000  0.797076  0.635330\n",
       "96  0.969907  0.024031  0.0  0.0     0.0  0.001131  1.032617  1.066299\n",
       "97  0.981355  0.010628  0.0  0.0     0.0  0.001562  1.045658  1.093401\n",
       "98  0.970985  0.023249  0.0  0.0     0.0  0.000165  0.462804  0.214187\n",
       "99  0.974963  0.023238  0.0  0.0     0.0  0.000559  0.468069  0.219088\n",
       "\n",
       "[100 rows x 8 columns]"
      ]
     },
     "execution_count": 11,
     "metadata": {},
     "output_type": "execute_result"
    }
   ],
   "source": [
    "res_02As1 = res_dict['02As1']\n",
    "res_02As1"
   ]
  },
  {
   "cell_type": "markdown",
   "metadata": {},
   "source": [
    "This is the MC results (100 times), to calculate statistical infos, you can simply call the built-in pandas functions as:"
   ]
  },
  {
   "cell_type": "code",
   "execution_count": 12,
   "metadata": {},
   "outputs": [
    {
     "data": {
      "text/html": [
       "<div>\n",
       "<style scoped>\n",
       "    .dataframe tbody tr th:only-of-type {\n",
       "        vertical-align: middle;\n",
       "    }\n",
       "\n",
       "    .dataframe tbody tr th {\n",
       "        vertical-align: top;\n",
       "    }\n",
       "\n",
       "    .dataframe thead th {\n",
       "        text-align: right;\n",
       "    }\n",
       "</style>\n",
       "<table border=\"1\" class=\"dataframe\">\n",
       "  <thead>\n",
       "    <tr style=\"text-align: right;\">\n",
       "      <th></th>\n",
       "      <th>gl</th>\n",
       "      <th>ol</th>\n",
       "      <th>sp</th>\n",
       "      <th>py</th>\n",
       "      <th>pureFe</th>\n",
       "      <th>pureNa</th>\n",
       "      <th>r2</th>\n",
       "      <th>residues</th>\n",
       "    </tr>\n",
       "  </thead>\n",
       "  <tbody>\n",
       "    <tr>\n",
       "      <th>count</th>\n",
       "      <td>100.000000</td>\n",
       "      <td>100.000000</td>\n",
       "      <td>100.0</td>\n",
       "      <td>100.0</td>\n",
       "      <td>100.000000</td>\n",
       "      <td>100.000000</td>\n",
       "      <td>100.000000</td>\n",
       "      <td>100.000000</td>\n",
       "    </tr>\n",
       "    <tr>\n",
       "      <th>mean</th>\n",
       "      <td>0.981557</td>\n",
       "      <td>0.020660</td>\n",
       "      <td>0.0</td>\n",
       "      <td>0.0</td>\n",
       "      <td>0.000012</td>\n",
       "      <td>0.000698</td>\n",
       "      <td>0.893230</td>\n",
       "      <td>0.884657</td>\n",
       "    </tr>\n",
       "    <tr>\n",
       "      <th>std</th>\n",
       "      <td>0.009537</td>\n",
       "      <td>0.007356</td>\n",
       "      <td>0.0</td>\n",
       "      <td>0.0</td>\n",
       "      <td>0.000103</td>\n",
       "      <td>0.000807</td>\n",
       "      <td>0.296098</td>\n",
       "      <td>0.549663</td>\n",
       "    </tr>\n",
       "    <tr>\n",
       "      <th>min</th>\n",
       "      <td>0.949318</td>\n",
       "      <td>0.003251</td>\n",
       "      <td>0.0</td>\n",
       "      <td>0.0</td>\n",
       "      <td>0.000000</td>\n",
       "      <td>0.000000</td>\n",
       "      <td>0.110979</td>\n",
       "      <td>0.012316</td>\n",
       "    </tr>\n",
       "    <tr>\n",
       "      <th>25%</th>\n",
       "      <td>0.975571</td>\n",
       "      <td>0.015439</td>\n",
       "      <td>0.0</td>\n",
       "      <td>0.0</td>\n",
       "      <td>0.000000</td>\n",
       "      <td>0.000000</td>\n",
       "      <td>0.688635</td>\n",
       "      <td>0.474222</td>\n",
       "    </tr>\n",
       "    <tr>\n",
       "      <th>50%</th>\n",
       "      <td>0.983089</td>\n",
       "      <td>0.021400</td>\n",
       "      <td>0.0</td>\n",
       "      <td>0.0</td>\n",
       "      <td>0.000000</td>\n",
       "      <td>0.000308</td>\n",
       "      <td>0.906339</td>\n",
       "      <td>0.821452</td>\n",
       "    </tr>\n",
       "    <tr>\n",
       "      <th>75%</th>\n",
       "      <td>0.987225</td>\n",
       "      <td>0.024590</td>\n",
       "      <td>0.0</td>\n",
       "      <td>0.0</td>\n",
       "      <td>0.000000</td>\n",
       "      <td>0.001248</td>\n",
       "      <td>1.113908</td>\n",
       "      <td>1.240834</td>\n",
       "    </tr>\n",
       "    <tr>\n",
       "      <th>max</th>\n",
       "      <td>1.010855</td>\n",
       "      <td>0.041983</td>\n",
       "      <td>0.0</td>\n",
       "      <td>0.0</td>\n",
       "      <td>0.001019</td>\n",
       "      <td>0.002972</td>\n",
       "      <td>1.689760</td>\n",
       "      <td>2.855288</td>\n",
       "    </tr>\n",
       "  </tbody>\n",
       "</table>\n",
       "</div>"
      ],
      "text/plain": [
       "               gl          ol     sp     py      pureFe      pureNa  \\\n",
       "count  100.000000  100.000000  100.0  100.0  100.000000  100.000000   \n",
       "mean     0.981557    0.020660    0.0    0.0    0.000012    0.000698   \n",
       "std      0.009537    0.007356    0.0    0.0    0.000103    0.000807   \n",
       "min      0.949318    0.003251    0.0    0.0    0.000000    0.000000   \n",
       "25%      0.975571    0.015439    0.0    0.0    0.000000    0.000000   \n",
       "50%      0.983089    0.021400    0.0    0.0    0.000000    0.000308   \n",
       "75%      0.987225    0.024590    0.0    0.0    0.000000    0.001248   \n",
       "max      1.010855    0.041983    0.0    0.0    0.001019    0.002972   \n",
       "\n",
       "               r2    residues  \n",
       "count  100.000000  100.000000  \n",
       "mean     0.893230    0.884657  \n",
       "std      0.296098    0.549663  \n",
       "min      0.110979    0.012316  \n",
       "25%      0.688635    0.474222  \n",
       "50%      0.906339    0.821452  \n",
       "75%      1.113908    1.240834  \n",
       "max      1.689760    2.855288  "
      ]
     },
     "execution_count": 12,
     "metadata": {},
     "output_type": "execute_result"
    }
   ],
   "source": [
    "res_02As1.describe()"
   ]
  },
  {
   "cell_type": "markdown",
   "metadata": {},
   "source": [
    "or only interested parameters"
   ]
  },
  {
   "cell_type": "code",
   "execution_count": 13,
   "metadata": {},
   "outputs": [
    {
     "data": {
      "text/html": [
       "<div>\n",
       "<style scoped>\n",
       "    .dataframe tbody tr th:only-of-type {\n",
       "        vertical-align: middle;\n",
       "    }\n",
       "\n",
       "    .dataframe tbody tr th {\n",
       "        vertical-align: top;\n",
       "    }\n",
       "\n",
       "    .dataframe thead th {\n",
       "        text-align: right;\n",
       "    }\n",
       "</style>\n",
       "<table border=\"1\" class=\"dataframe\">\n",
       "  <thead>\n",
       "    <tr style=\"text-align: right;\">\n",
       "      <th></th>\n",
       "      <th>gl</th>\n",
       "      <th>ol</th>\n",
       "      <th>sp</th>\n",
       "      <th>py</th>\n",
       "      <th>pureFe</th>\n",
       "      <th>pureNa</th>\n",
       "      <th>r2</th>\n",
       "      <th>residues</th>\n",
       "    </tr>\n",
       "  </thead>\n",
       "  <tbody>\n",
       "    <tr>\n",
       "      <th>mean</th>\n",
       "      <td>0.981557</td>\n",
       "      <td>0.020660</td>\n",
       "      <td>0.0</td>\n",
       "      <td>0.0</td>\n",
       "      <td>0.000012</td>\n",
       "      <td>0.000698</td>\n",
       "      <td>0.893230</td>\n",
       "      <td>0.884657</td>\n",
       "    </tr>\n",
       "    <tr>\n",
       "      <th>median</th>\n",
       "      <td>0.983089</td>\n",
       "      <td>0.021400</td>\n",
       "      <td>0.0</td>\n",
       "      <td>0.0</td>\n",
       "      <td>0.000000</td>\n",
       "      <td>0.000308</td>\n",
       "      <td>0.906339</td>\n",
       "      <td>0.821452</td>\n",
       "    </tr>\n",
       "    <tr>\n",
       "      <th>std</th>\n",
       "      <td>0.009537</td>\n",
       "      <td>0.007356</td>\n",
       "      <td>0.0</td>\n",
       "      <td>0.0</td>\n",
       "      <td>0.000103</td>\n",
       "      <td>0.000807</td>\n",
       "      <td>0.296098</td>\n",
       "      <td>0.549663</td>\n",
       "    </tr>\n",
       "  </tbody>\n",
       "</table>\n",
       "</div>"
      ],
      "text/plain": [
       "              gl        ol   sp   py    pureFe    pureNa        r2  residues\n",
       "mean    0.981557  0.020660  0.0  0.0  0.000012  0.000698  0.893230  0.884657\n",
       "median  0.983089  0.021400  0.0  0.0  0.000000  0.000308  0.906339  0.821452\n",
       "std     0.009537  0.007356  0.0  0.0  0.000103  0.000807  0.296098  0.549663"
      ]
     },
     "execution_count": 13,
     "metadata": {},
     "output_type": "execute_result"
    }
   ],
   "source": [
    "res_02As1.agg(['mean', 'median', 'std'])"
   ]
  },
  {
   "cell_type": "markdown",
   "metadata": {},
   "source": [
    "To plot the result, you can simply do:"
   ]
  },
  {
   "cell_type": "code",
   "execution_count": 14,
   "metadata": {},
   "outputs": [
    {
     "data": {
      "image/png": "[encoded data removed]",
      "text/plain": [
       "<Figure size 432x288 with 2 Axes>"
      ]
     },
     "metadata": {
      "needs_background": "light"
     },
     "output_type": "display_data"
    }
   ],
   "source": [
    "fig, axes = plt.subplots(1,2, constrained_layout=True)\n",
    "axes[0].hist(res_02As1['gl'], density=True)\n",
    "axes[1].hist(res_02As1['ol'], density=True)\n",
    "axes[0].set_xlabel('gl')\n",
    "axes[1].set_xlabel('ol')\n",
    "plt.show()"
   ]
  },
  {
   "cell_type": "markdown",
   "metadata": {},
   "source": [
    "We pre-defined pure FeO and pure Na2O phases as the evaluation of Fe loss and Na loss, if you don't want to check this, simply delete these sheets\n",
    "Below we give an example to calculate Fe loss (%) and Na loss (%) in the first experimental run `02As1`\n"
   ]
  },
  {
   "cell_type": "code",
   "execution_count": 15,
   "metadata": {},
   "outputs": [
    {
     "data": {
      "text/plain": [
       "12.42"
      ]
     },
     "execution_count": 15,
     "metadata": {},
     "output_type": "execute_result"
    }
   ],
   "source": [
    "nat_bulk = nat_dict['bulk'].set_index('Run_no')\n",
    "nat_bulk.loc['02As1', 'FeO']"
   ]
  },
  {
   "cell_type": "code",
   "execution_count": 16,
   "metadata": {},
   "outputs": [
    {
     "data": {
      "text/plain": [
       "1.96"
      ]
     },
     "execution_count": 16,
     "metadata": {},
     "output_type": "execute_result"
    }
   ],
   "source": [
    "nat_bulk.loc['02As1', 'Na2O']"
   ]
  },
  {
   "cell_type": "code",
   "execution_count": 17,
   "metadata": {},
   "outputs": [
    {
     "data": {
      "text/plain": [
       "mean      0.00968\n",
       "median    0.00000\n",
       "std       0.08319\n",
       "Name: Fe_loss, dtype: float64"
      ]
     },
     "execution_count": 17,
     "metadata": {},
     "output_type": "execute_result"
    }
   ],
   "source": [
    "res_02As1['Fe_loss'] = res_02As1['pureFe'] / nat_bulk.loc['02As1', 'FeO'] * 100 * 100\n",
    "res_02As1['Fe_loss'].agg(['mean', 'median', 'std'])"
   ]
  },
  {
   "cell_type": "code",
   "execution_count": 18,
   "metadata": {},
   "outputs": [
    {
     "data": {
      "text/plain": [
       "mean      3.560908\n",
       "median    1.569360\n",
       "std       4.117357\n",
       "Name: Na2O_loss, dtype: float64"
      ]
     },
     "execution_count": 18,
     "metadata": {},
     "output_type": "execute_result"
    }
   ],
   "source": [
    "res_02As1['Na2O_loss'] = res_02As1['pureNa'] / nat_bulk.loc['02As1', 'Na2O'] * 100 * 100\n",
    "res_02As1['Na2O_loss'].agg(['mean', 'median', 'std'])"
   ]
  }
 ],
 "metadata": {
  "kernelspec": {
   "display_name": "base",
   "language": "python",
   "name": "python3"
  },
  "language_info": {
   "codemirror_mode": {
    "name": "ipython",
    "version": 3
   },
   "file_extension": ".py",
   "mimetype": "text/x-python",
   "name": "python",
   "nbconvert_exporter": "python",
   "pygments_lexer": "ipython3",
   "version": "3.9.7"
  },
  "orig_nbformat": 4,
  "vscode": {
   "interpreter": {
    "hash": "4c566c098eec9fbec4424799e98582ea22c022136c3745f40ceaefc42e1b8407"
   }
  }
 },
 "nbformat": 4,
 "nbformat_minor": 2
}
