{
 "cells": [
  {
   "cell_type": "markdown",
   "metadata": {},
   "source": [
    "## This notebook shows a general example mass balance calculations, we currentlt support two alghrithoms\n",
    "1. [Non-negative alghrithom](https://epubs.siam.org/doi/pdf/10.1137/1.9781611971217.bm), it solves KKT (Karush-Kuhn-Tucker) conditions for the non-negative least squares problem\n",
    "2. Matrix decomposition, following [Li et al. (2020)](https://www.sciencedirect.com/science/article/pii/S0009281920300301?casa_token=sT59EIzD3QkAAAAA:bQSW0-dssOb6YRtOMb-69ctkXC0BzW5_zlalxk4EV2GFwhm4apnk73tsq4TKVc4vipPyIImq8Twg) and [Ghiorso 1983](https://www.sciencedirect.com/science/article/pii/0098300483900080). The compositional matrix will be broken down by singular value decomposition, the coefficients will then calculated."
   ]
  },
  {
   "cell_type": "code",
   "execution_count": 1,
   "metadata": {},
   "outputs": [],
   "source": [
    "# import python modules\n",
    "import pandas as pd\n",
    "import matplotlib.pyplot as plt\n",
    "from massbalance.mb_tools import MassBalance "
   ]
  },
  {
   "cell_type": "markdown",
   "metadata": {},
   "source": [
    "### 1. Define elements for calculation"
   ]
  },
  {
   "cell_type": "markdown",
   "metadata": {},
   "source": [
    "We first need to define element list for mass balance calculation, special attention goes to `FeO` term, which we use `FeO`, not ``FeOt`` nor ``FeOtot``, this is consistent with the input excel files. Feel free to change the order of the elements"
   ]
  },
  {
   "cell_type": "code",
   "execution_count": 2,
   "metadata": {},
   "outputs": [],
   "source": [
    "cmpnts = ['SiO2','Al2O3', 'TiO2', 'MgO', 'FeO', 'MnO',  'CaO', 'Na2O', 'K2O', 'P2O5', 'Cr2O3']  # change your desired elements for mass balance calculation"
   ]
  },
  {
   "cell_type": "markdown",
   "metadata": {},
   "source": [
    "if you also want to integrate standard deviation on elements, this can be done manually or by the following line"
   ]
  },
  {
   "cell_type": "code",
   "execution_count": 3,
   "metadata": {},
   "outputs": [
    {
     "data": {
      "text/plain": [
       "['SiO2_std',\n",
       " 'Al2O3_std',\n",
       " 'TiO2_std',\n",
       " 'MgO_std',\n",
       " 'FeO_std',\n",
       " 'MnO_std',\n",
       " 'CaO_std',\n",
       " 'Na2O_std',\n",
       " 'K2O_std',\n",
       " 'P2O5_std',\n",
       " 'Cr2O3_std']"
      ]
     },
     "execution_count": 3,
     "metadata": {},
     "output_type": "execute_result"
    }
   ],
   "source": [
    "cmpnts_std =[x + '_std' for x in cmpnts]  # save columns for std\n",
    "cmpnts_std"
   ]
  },
  {
   "cell_type": "markdown",
   "metadata": {},
   "source": [
    "### 2. Load data"
   ]
  },
  {
   "cell_type": "markdown",
   "metadata": {},
   "source": [
    "The easist way is to copy paste data in the input excel file, please also check README file for details of data prepration"
   ]
  },
  {
   "cell_type": "code",
   "execution_count": 4,
   "metadata": {},
   "outputs": [],
   "source": [
    "nat_comp = pd.ExcelFile(\"input_comp.xlsx\")"
   ]
  },
  {
   "cell_type": "markdown",
   "metadata": {},
   "source": [
    "We load the whole excel spreadsheet to a pandas ExcelFile, to access data in your spreadsheet, you can do so by looping through ExcelFile to a dictionary:"
   ]
  },
  {
   "cell_type": "code",
   "execution_count": 5,
   "metadata": {},
   "outputs": [],
   "source": [
    "nat_dict = {}  # create dictionary to collect compositions of different phases\n",
    "nat_phases = []  # create list to save all phases in the calculation. Note bulk will be the bulk compsition, run_index will be your sample number, or rock id . etc\n",
    "for sheet_name in nat_comp.sheet_names:\n",
    "    nat_phases.append(sheet_name)\n",
    "    nat_dict[sheet_name] = nat_comp.parse(sheet_name)"
   ]
  },
  {
   "cell_type": "markdown",
   "metadata": {},
   "source": [
    "``nat_phases`` stores the sheet names, ``nat_dict`` stores the data of each sheet. "
   ]
  },
  {
   "cell_type": "code",
   "execution_count": 6,
   "metadata": {},
   "outputs": [
    {
     "data": {
      "text/plain": [
       "['gl', 'ol', 'sp', 'py', 'pureFe', 'pureNa', 'bulk', 'run_index']"
      ]
     },
     "execution_count": 6,
     "metadata": {},
     "output_type": "execute_result"
    }
   ],
   "source": [
    "nat_phases"
   ]
  },
  {
   "cell_type": "markdown",
   "metadata": {},
   "source": [
    "Use the sheet name to access data, let's what we have in the ``gl`` phase\n"
   ]
  },
  {
   "cell_type": "code",
   "execution_count": 7,
   "metadata": {},
   "outputs": [
    {
     "data": {
      "text/html": [
       "<div>\n",
       "<style scoped>\n",
       "    .dataframe tbody tr th:only-of-type {\n",
       "        vertical-align: middle;\n",
       "    }\n",
       "\n",
       "    .dataframe tbody tr th {\n",
       "        vertical-align: top;\n",
       "    }\n",
       "\n",
       "    .dataframe thead th {\n",
       "        text-align: right;\n",
       "    }\n",
       "</style>\n",
       "<table border=\"1\" class=\"dataframe\">\n",
       "  <thead>\n",
       "    <tr style=\"text-align: right;\">\n",
       "      <th></th>\n",
       "      <th>Run_no</th>\n",
       "      <th>SiO2</th>\n",
       "      <th>Al2O3</th>\n",
       "      <th>P2O5</th>\n",
       "      <th>CaO</th>\n",
       "      <th>FeO</th>\n",
       "      <th>Na2O</th>\n",
       "      <th>MgO</th>\n",
       "      <th>TiO2</th>\n",
       "      <th>K2O</th>\n",
       "      <th>...</th>\n",
       "      <th>Al2O3_std</th>\n",
       "      <th>P2O5_std</th>\n",
       "      <th>CaO_std</th>\n",
       "      <th>FeO_std</th>\n",
       "      <th>Na2O_std</th>\n",
       "      <th>MgO_std</th>\n",
       "      <th>TiO2_std</th>\n",
       "      <th>K2O_std</th>\n",
       "      <th>MnO_std</th>\n",
       "      <th>Cr2O3_std</th>\n",
       "    </tr>\n",
       "  </thead>\n",
       "  <tbody>\n",
       "    <tr>\n",
       "      <th>0</th>\n",
       "      <td>02As1</td>\n",
       "      <td>46.66</td>\n",
       "      <td>10.16</td>\n",
       "      <td>0.17</td>\n",
       "      <td>11.64</td>\n",
       "      <td>13.06</td>\n",
       "      <td>1.95</td>\n",
       "      <td>13.15</td>\n",
       "      <td>2.43</td>\n",
       "      <td>0.49</td>\n",
       "      <td>...</td>\n",
       "      <td>0.17</td>\n",
       "      <td>0.10</td>\n",
       "      <td>0.22</td>\n",
       "      <td>0.34</td>\n",
       "      <td>0.10</td>\n",
       "      <td>0.26</td>\n",
       "      <td>0.20</td>\n",
       "      <td>0.04</td>\n",
       "      <td>0.04</td>\n",
       "      <td>0.04</td>\n",
       "    </tr>\n",
       "    <tr>\n",
       "      <th>1</th>\n",
       "      <td>01As1</td>\n",
       "      <td>46.96</td>\n",
       "      <td>10.34</td>\n",
       "      <td>0.20</td>\n",
       "      <td>11.81</td>\n",
       "      <td>13.21</td>\n",
       "      <td>1.84</td>\n",
       "      <td>12.16</td>\n",
       "      <td>2.53</td>\n",
       "      <td>0.44</td>\n",
       "      <td>...</td>\n",
       "      <td>0.11</td>\n",
       "      <td>0.07</td>\n",
       "      <td>0.20</td>\n",
       "      <td>0.21</td>\n",
       "      <td>0.10</td>\n",
       "      <td>0.12</td>\n",
       "      <td>0.14</td>\n",
       "      <td>0.05</td>\n",
       "      <td>0.03</td>\n",
       "      <td>0.08</td>\n",
       "    </tr>\n",
       "    <tr>\n",
       "      <th>2</th>\n",
       "      <td>04As1</td>\n",
       "      <td>47.20</td>\n",
       "      <td>10.80</td>\n",
       "      <td>0.23</td>\n",
       "      <td>12.13</td>\n",
       "      <td>12.77</td>\n",
       "      <td>1.87</td>\n",
       "      <td>11.04</td>\n",
       "      <td>2.65</td>\n",
       "      <td>0.48</td>\n",
       "      <td>...</td>\n",
       "      <td>0.11</td>\n",
       "      <td>0.05</td>\n",
       "      <td>0.21</td>\n",
       "      <td>0.45</td>\n",
       "      <td>0.14</td>\n",
       "      <td>0.09</td>\n",
       "      <td>0.16</td>\n",
       "      <td>0.05</td>\n",
       "      <td>0.05</td>\n",
       "      <td>0.03</td>\n",
       "    </tr>\n",
       "    <tr>\n",
       "      <th>3</th>\n",
       "      <td>03As1</td>\n",
       "      <td>48.38</td>\n",
       "      <td>11.36</td>\n",
       "      <td>0.18</td>\n",
       "      <td>12.63</td>\n",
       "      <td>13.03</td>\n",
       "      <td>1.42</td>\n",
       "      <td>10.35</td>\n",
       "      <td>2.54</td>\n",
       "      <td>0.43</td>\n",
       "      <td>...</td>\n",
       "      <td>0.16</td>\n",
       "      <td>0.06</td>\n",
       "      <td>0.12</td>\n",
       "      <td>0.27</td>\n",
       "      <td>0.07</td>\n",
       "      <td>0.19</td>\n",
       "      <td>0.27</td>\n",
       "      <td>0.05</td>\n",
       "      <td>0.05</td>\n",
       "      <td>0.05</td>\n",
       "    </tr>\n",
       "    <tr>\n",
       "      <th>4</th>\n",
       "      <td>05As1</td>\n",
       "      <td>47.18</td>\n",
       "      <td>11.63</td>\n",
       "      <td>0.23</td>\n",
       "      <td>12.84</td>\n",
       "      <td>12.57</td>\n",
       "      <td>2.04</td>\n",
       "      <td>9.42</td>\n",
       "      <td>2.60</td>\n",
       "      <td>0.51</td>\n",
       "      <td>...</td>\n",
       "      <td>0.12</td>\n",
       "      <td>0.05</td>\n",
       "      <td>0.25</td>\n",
       "      <td>0.20</td>\n",
       "      <td>0.12</td>\n",
       "      <td>0.18</td>\n",
       "      <td>0.23</td>\n",
       "      <td>0.05</td>\n",
       "      <td>0.04</td>\n",
       "      <td>0.05</td>\n",
       "    </tr>\n",
       "  </tbody>\n",
       "</table>\n",
       "<p>5 rows × 25 columns</p>\n",
       "</div>"
      ],
      "text/plain": [
       "  Run_no   SiO2  Al2O3  P2O5    CaO    FeO  Na2O    MgO  TiO2   K2O  ...  \\\n",
       "0  02As1  46.66  10.16  0.17  11.64  13.06  1.95  13.15  2.43  0.49  ...   \n",
       "1  01As1  46.96  10.34  0.20  11.81  13.21  1.84  12.16  2.53  0.44  ...   \n",
       "2  04As1  47.20  10.80  0.23  12.13  12.77  1.87  11.04  2.65  0.48  ...   \n",
       "3  03As1  48.38  11.36  0.18  12.63  13.03  1.42  10.35  2.54  0.43  ...   \n",
       "4  05As1  47.18  11.63  0.23  12.84  12.57  2.04   9.42  2.60  0.51  ...   \n",
       "\n",
       "   Al2O3_std  P2O5_std  CaO_std  FeO_std  Na2O_std  MgO_std  TiO2_std  \\\n",
       "0       0.17      0.10     0.22     0.34      0.10     0.26      0.20   \n",
       "1       0.11      0.07     0.20     0.21      0.10     0.12      0.14   \n",
       "2       0.11      0.05     0.21     0.45      0.14     0.09      0.16   \n",
       "3       0.16      0.06     0.12     0.27      0.07     0.19      0.27   \n",
       "4       0.12      0.05     0.25     0.20      0.12     0.18      0.23   \n",
       "\n",
       "   K2O_std  MnO_std  Cr2O3_std  \n",
       "0     0.04     0.04       0.04  \n",
       "1     0.05     0.03       0.08  \n",
       "2     0.05     0.05       0.03  \n",
       "3     0.05     0.05       0.05  \n",
       "4     0.05     0.04       0.05  \n",
       "\n",
       "[5 rows x 25 columns]"
      ]
     },
     "execution_count": 7,
     "metadata": {},
     "output_type": "execute_result"
    }
   ],
   "source": [
    "nat_dict['gl'].head()"
   ]
  },
  {
   "cell_type": "markdown",
   "metadata": {},
   "source": [
    "we use `run_index` sheet to store all runs we wish to perform mass balance with, we can check by doing:"
   ]
  },
  {
   "cell_type": "code",
   "execution_count": 8,
   "metadata": {},
   "outputs": [
    {
     "data": {
      "text/html": [
       "<div>\n",
       "<style scoped>\n",
       "    .dataframe tbody tr th:only-of-type {\n",
       "        vertical-align: middle;\n",
       "    }\n",
       "\n",
       "    .dataframe tbody tr th {\n",
       "        vertical-align: top;\n",
       "    }\n",
       "\n",
       "    .dataframe thead th {\n",
       "        text-align: right;\n",
       "    }\n",
       "</style>\n",
       "<table border=\"1\" class=\"dataframe\">\n",
       "  <thead>\n",
       "    <tr style=\"text-align: right;\">\n",
       "      <th></th>\n",
       "      <th>Run_no</th>\n",
       "      <th>T_C</th>\n",
       "      <th>fO2</th>\n",
       "    </tr>\n",
       "  </thead>\n",
       "  <tbody>\n",
       "    <tr>\n",
       "      <th>0</th>\n",
       "      <td>02As1</td>\n",
       "      <td>1320</td>\n",
       "      <td>QFM</td>\n",
       "    </tr>\n",
       "    <tr>\n",
       "      <th>1</th>\n",
       "      <td>01As1</td>\n",
       "      <td>1302</td>\n",
       "      <td>QFM</td>\n",
       "    </tr>\n",
       "    <tr>\n",
       "      <th>2</th>\n",
       "      <td>04As1</td>\n",
       "      <td>1280</td>\n",
       "      <td>QFM</td>\n",
       "    </tr>\n",
       "    <tr>\n",
       "      <th>3</th>\n",
       "      <td>03As1</td>\n",
       "      <td>1260</td>\n",
       "      <td>QFM</td>\n",
       "    </tr>\n",
       "    <tr>\n",
       "      <th>4</th>\n",
       "      <td>05As1</td>\n",
       "      <td>1240</td>\n",
       "      <td>QFM</td>\n",
       "    </tr>\n",
       "    <tr>\n",
       "      <th>5</th>\n",
       "      <td>06As1</td>\n",
       "      <td>1200</td>\n",
       "      <td>QFM</td>\n",
       "    </tr>\n",
       "    <tr>\n",
       "      <th>6</th>\n",
       "      <td>15As1</td>\n",
       "      <td>1180</td>\n",
       "      <td>QFM</td>\n",
       "    </tr>\n",
       "    <tr>\n",
       "      <th>7</th>\n",
       "      <td>17As1</td>\n",
       "      <td>1170</td>\n",
       "      <td>QFM</td>\n",
       "    </tr>\n",
       "    <tr>\n",
       "      <th>8</th>\n",
       "      <td>14As1</td>\n",
       "      <td>1160</td>\n",
       "      <td>QFM</td>\n",
       "    </tr>\n",
       "  </tbody>\n",
       "</table>\n",
       "</div>"
      ],
      "text/plain": [
       "  Run_no   T_C  fO2\n",
       "0  02As1  1320  QFM\n",
       "1  01As1  1302  QFM\n",
       "2  04As1  1280  QFM\n",
       "3  03As1  1260  QFM\n",
       "4  05As1  1240  QFM\n",
       "5  06As1  1200  QFM\n",
       "6  15As1  1180  QFM\n",
       "7  17As1  1170  QFM\n",
       "8  14As1  1160  QFM"
      ]
     },
     "execution_count": 8,
     "metadata": {},
     "output_type": "execute_result"
    }
   ],
   "source": [
    "nat_dict['run_index']"
   ]
  },
  {
   "cell_type": "markdown",
   "metadata": {},
   "source": [
    "### 3. Mass balance calculation"
   ]
  },
  {
   "cell_type": "markdown",
   "metadata": {},
   "source": [
    "``MassBalance`` class does the core calculation.\n",
    "To start the calculation, we need to define the ``MassBalance`` class by passing all necessary infos for calculations:\n",
    "1. `input_comp` -- load the ExcelFile variable\n",
    "2. `comp_col` -- load element list\n",
    "3. `comp_std_col` -- load element std list (if avaiable), default is ``None``\n",
    "4. `match_column` -- this is the column name that saves your expts run no., sample no., or rock id. in each spreadsheet\n",
    "5. `bulk_sheet` -- sheet name of which saves bulk composition(s)\n",
    "6. `index_sheet` -- sheet name stores entire infos about expts run numbers ± condition, sample numbers or rock id.\n",
    "7. `normalize` -- normalize your data to 100 during calculation, default is ``True``"
   ]
  },
  {
   "cell_type": "code",
   "execution_count": 9,
   "metadata": {},
   "outputs": [],
   "source": [
    "mb_cal = MassBalance(\n",
    "    input_comp=nat_comp,\n",
    "    comp_col=cmpnts,\n",
    "    comp_std_col=cmpnts_std,\n",
    "    match_column=\"Run_no\",\n",
    "    bulk_sheet=\"bulk\",\n",
    "    index_sheet=\"run_index\",\n",
    "    normalize=True,\n",
    ")"
   ]
  },
  {
   "cell_type": "markdown",
   "metadata": {},
   "source": [
    "``mb_cal`` is a variable we create for mass balance calculation\n",
    "The calculation is done by calling the compute method in the `MassBalance` class as `mb_cal.compute()`\n",
    "Four parameters can be tuned during computing:\n",
    "1. `mc` -- define the number of MC calculations, the default is None, which will be a one time calculation\n",
    "2. `exportFiles` -- we can export the results to excel file `output.xlsx` and `output_mean_median_std.xlsx`. If `mc` is given, `output_mean_median_std.xlsx`stores statistical infos for mc results\n",
    "3. `batch_bulk`: define if you have different bulk for each group of phases, this is useful for layers in layered intrusions or expts with variable starting compositions for different runs. If you only have one bulk composition, can turn it to `False`\n",
    "4. `method`: use `nnl` for non-negative method, `svd` for matrix decomposition method"
   ]
  },
  {
   "cell_type": "markdown",
   "metadata": {},
   "source": [
    "Below we give examples to perform 100 times MC calculation with non-negative method, export files, and we have pre-defined a batch bulk composition in the input file. More examples are given in the python scipt along with this code"
   ]
  },
  {
   "cell_type": "code",
   "execution_count": 10,
   "metadata": {},
   "outputs": [],
   "source": [
    "res_dict = mb_cal.compute(mc=100, exportFiles=True, batch_bulk=True, method='nnl')"
   ]
  },
  {
   "cell_type": "markdown",
   "metadata": {},
   "source": [
    "The result is saved in a python dictionary, with each key responses to the expts run no., sample no, or rock id you defined in the index sheet\n",
    "Let's take a look the results of first experimental run `02As1`"
   ]
  },
  {
   "cell_type": "code",
   "execution_count": 11,
   "metadata": {},
   "outputs": [
    {
     "data": {
      "text/html": [
       "<div>\n",
       "<style scoped>\n",
       "    .dataframe tbody tr th:only-of-type {\n",
       "        vertical-align: middle;\n",
       "    }\n",
       "\n",
       "    .dataframe tbody tr th {\n",
       "        vertical-align: top;\n",
       "    }\n",
       "\n",
       "    .dataframe thead th {\n",
       "        text-align: right;\n",
       "    }\n",
       "</style>\n",
       "<table border=\"1\" class=\"dataframe\">\n",
       "  <thead>\n",
       "    <tr style=\"text-align: right;\">\n",
       "      <th></th>\n",
       "      <th>gl</th>\n",
       "      <th>ol</th>\n",
       "      <th>sp</th>\n",
       "      <th>py</th>\n",
       "      <th>pureFe</th>\n",
       "      <th>pureNa</th>\n",
       "      <th>r2</th>\n",
       "      <th>residues</th>\n",
       "    </tr>\n",
       "  </thead>\n",
       "  <tbody>\n",
       "    <tr>\n",
       "      <th>0</th>\n",
       "      <td>0.973827</td>\n",
       "      <td>0.014084</td>\n",
       "      <td>0.0</td>\n",
       "      <td>0.0</td>\n",
       "      <td>0.0</td>\n",
       "      <td>0.000890</td>\n",
       "      <td>0.411102</td>\n",
       "      <td>0.169005</td>\n",
       "    </tr>\n",
       "    <tr>\n",
       "      <th>1</th>\n",
       "      <td>0.987386</td>\n",
       "      <td>0.020730</td>\n",
       "      <td>0.0</td>\n",
       "      <td>0.0</td>\n",
       "      <td>0.0</td>\n",
       "      <td>0.000334</td>\n",
       "      <td>0.461887</td>\n",
       "      <td>0.213339</td>\n",
       "    </tr>\n",
       "    <tr>\n",
       "      <th>2</th>\n",
       "      <td>0.994594</td>\n",
       "      <td>0.016852</td>\n",
       "      <td>0.0</td>\n",
       "      <td>0.0</td>\n",
       "      <td>0.0</td>\n",
       "      <td>0.002554</td>\n",
       "      <td>0.427829</td>\n",
       "      <td>0.183038</td>\n",
       "    </tr>\n",
       "    <tr>\n",
       "      <th>3</th>\n",
       "      <td>0.995982</td>\n",
       "      <td>0.015473</td>\n",
       "      <td>0.0</td>\n",
       "      <td>0.0</td>\n",
       "      <td>0.0</td>\n",
       "      <td>0.000000</td>\n",
       "      <td>0.697354</td>\n",
       "      <td>0.486302</td>\n",
       "    </tr>\n",
       "    <tr>\n",
       "      <th>4</th>\n",
       "      <td>0.997207</td>\n",
       "      <td>0.006591</td>\n",
       "      <td>0.0</td>\n",
       "      <td>0.0</td>\n",
       "      <td>0.0</td>\n",
       "      <td>0.001316</td>\n",
       "      <td>0.739671</td>\n",
       "      <td>0.547114</td>\n",
       "    </tr>\n",
       "    <tr>\n",
       "      <th>...</th>\n",
       "      <td>...</td>\n",
       "      <td>...</td>\n",
       "      <td>...</td>\n",
       "      <td>...</td>\n",
       "      <td>...</td>\n",
       "      <td>...</td>\n",
       "      <td>...</td>\n",
       "      <td>...</td>\n",
       "    </tr>\n",
       "    <tr>\n",
       "      <th>95</th>\n",
       "      <td>0.988748</td>\n",
       "      <td>0.026186</td>\n",
       "      <td>0.0</td>\n",
       "      <td>0.0</td>\n",
       "      <td>0.0</td>\n",
       "      <td>0.000000</td>\n",
       "      <td>0.737431</td>\n",
       "      <td>0.543805</td>\n",
       "    </tr>\n",
       "    <tr>\n",
       "      <th>96</th>\n",
       "      <td>0.990204</td>\n",
       "      <td>0.007745</td>\n",
       "      <td>0.0</td>\n",
       "      <td>0.0</td>\n",
       "      <td>0.0</td>\n",
       "      <td>0.000000</td>\n",
       "      <td>0.782154</td>\n",
       "      <td>0.611765</td>\n",
       "    </tr>\n",
       "    <tr>\n",
       "      <th>97</th>\n",
       "      <td>0.983643</td>\n",
       "      <td>0.023384</td>\n",
       "      <td>0.0</td>\n",
       "      <td>0.0</td>\n",
       "      <td>0.0</td>\n",
       "      <td>0.000932</td>\n",
       "      <td>0.659334</td>\n",
       "      <td>0.434722</td>\n",
       "    </tr>\n",
       "    <tr>\n",
       "      <th>98</th>\n",
       "      <td>0.975479</td>\n",
       "      <td>0.025803</td>\n",
       "      <td>0.0</td>\n",
       "      <td>0.0</td>\n",
       "      <td>0.0</td>\n",
       "      <td>0.000000</td>\n",
       "      <td>0.867180</td>\n",
       "      <td>0.752001</td>\n",
       "    </tr>\n",
       "    <tr>\n",
       "      <th>99</th>\n",
       "      <td>0.972947</td>\n",
       "      <td>0.027595</td>\n",
       "      <td>0.0</td>\n",
       "      <td>0.0</td>\n",
       "      <td>0.0</td>\n",
       "      <td>0.002237</td>\n",
       "      <td>1.048314</td>\n",
       "      <td>1.098962</td>\n",
       "    </tr>\n",
       "  </tbody>\n",
       "</table>\n",
       "<p>100 rows × 8 columns</p>\n",
       "</div>"
      ],
      "text/plain": [
       "          gl        ol   sp   py  pureFe    pureNa        r2  residues\n",
       "0   0.973827  0.014084  0.0  0.0     0.0  0.000890  0.411102  0.169005\n",
       "1   0.987386  0.020730  0.0  0.0     0.0  0.000334  0.461887  0.213339\n",
       "2   0.994594  0.016852  0.0  0.0     0.0  0.002554  0.427829  0.183038\n",
       "3   0.995982  0.015473  0.0  0.0     0.0  0.000000  0.697354  0.486302\n",
       "4   0.997207  0.006591  0.0  0.0     0.0  0.001316  0.739671  0.547114\n",
       "..       ...       ...  ...  ...     ...       ...       ...       ...\n",
       "95  0.988748  0.026186  0.0  0.0     0.0  0.000000  0.737431  0.543805\n",
       "96  0.990204  0.007745  0.0  0.0     0.0  0.000000  0.782154  0.611765\n",
       "97  0.983643  0.023384  0.0  0.0     0.0  0.000932  0.659334  0.434722\n",
       "98  0.975479  0.025803  0.0  0.0     0.0  0.000000  0.867180  0.752001\n",
       "99  0.972947  0.027595  0.0  0.0     0.0  0.002237  1.048314  1.098962\n",
       "\n",
       "[100 rows x 8 columns]"
      ]
     },
     "execution_count": 11,
     "metadata": {},
     "output_type": "execute_result"
    }
   ],
   "source": [
    "res_02As1 = res_dict['02As1']\n",
    "res_02As1"
   ]
  },
  {
   "cell_type": "markdown",
   "metadata": {},
   "source": [
    "This is the MC results (100 times), to calculate statistical infos, you can simply call the built-in pandas functions as:"
   ]
  },
  {
   "cell_type": "code",
   "execution_count": 12,
   "metadata": {},
   "outputs": [
    {
     "data": {
      "text/html": [
       "<div>\n",
       "<style scoped>\n",
       "    .dataframe tbody tr th:only-of-type {\n",
       "        vertical-align: middle;\n",
       "    }\n",
       "\n",
       "    .dataframe tbody tr th {\n",
       "        vertical-align: top;\n",
       "    }\n",
       "\n",
       "    .dataframe thead th {\n",
       "        text-align: right;\n",
       "    }\n",
       "</style>\n",
       "<table border=\"1\" class=\"dataframe\">\n",
       "  <thead>\n",
       "    <tr style=\"text-align: right;\">\n",
       "      <th></th>\n",
       "      <th>gl</th>\n",
       "      <th>ol</th>\n",
       "      <th>sp</th>\n",
       "      <th>py</th>\n",
       "      <th>pureFe</th>\n",
       "      <th>pureNa</th>\n",
       "      <th>r2</th>\n",
       "      <th>residues</th>\n",
       "    </tr>\n",
       "  </thead>\n",
       "  <tbody>\n",
       "    <tr>\n",
       "      <th>count</th>\n",
       "      <td>100.000000</td>\n",
       "      <td>100.000000</td>\n",
       "      <td>100.0</td>\n",
       "      <td>100.0</td>\n",
       "      <td>100.000000</td>\n",
       "      <td>100.000000</td>\n",
       "      <td>100.000000</td>\n",
       "      <td>100.000000</td>\n",
       "    </tr>\n",
       "    <tr>\n",
       "      <th>mean</th>\n",
       "      <td>0.982405</td>\n",
       "      <td>0.020120</td>\n",
       "      <td>0.0</td>\n",
       "      <td>0.0</td>\n",
       "      <td>0.000025</td>\n",
       "      <td>0.000700</td>\n",
       "      <td>0.819529</td>\n",
       "      <td>0.774158</td>\n",
       "    </tr>\n",
       "    <tr>\n",
       "      <th>std</th>\n",
       "      <td>0.010240</td>\n",
       "      <td>0.007914</td>\n",
       "      <td>0.0</td>\n",
       "      <td>0.0</td>\n",
       "      <td>0.000161</td>\n",
       "      <td>0.000813</td>\n",
       "      <td>0.321816</td>\n",
       "      <td>0.605820</td>\n",
       "    </tr>\n",
       "    <tr>\n",
       "      <th>min</th>\n",
       "      <td>0.959026</td>\n",
       "      <td>0.000000</td>\n",
       "      <td>0.0</td>\n",
       "      <td>0.0</td>\n",
       "      <td>0.000000</td>\n",
       "      <td>0.000000</td>\n",
       "      <td>0.336643</td>\n",
       "      <td>0.113329</td>\n",
       "    </tr>\n",
       "    <tr>\n",
       "      <th>25%</th>\n",
       "      <td>0.974091</td>\n",
       "      <td>0.015429</td>\n",
       "      <td>0.0</td>\n",
       "      <td>0.0</td>\n",
       "      <td>0.000000</td>\n",
       "      <td>0.000000</td>\n",
       "      <td>0.570326</td>\n",
       "      <td>0.325311</td>\n",
       "    </tr>\n",
       "    <tr>\n",
       "      <th>50%</th>\n",
       "      <td>0.981767</td>\n",
       "      <td>0.020412</td>\n",
       "      <td>0.0</td>\n",
       "      <td>0.0</td>\n",
       "      <td>0.000000</td>\n",
       "      <td>0.000409</td>\n",
       "      <td>0.754215</td>\n",
       "      <td>0.568854</td>\n",
       "    </tr>\n",
       "    <tr>\n",
       "      <th>75%</th>\n",
       "      <td>0.988952</td>\n",
       "      <td>0.025891</td>\n",
       "      <td>0.0</td>\n",
       "      <td>0.0</td>\n",
       "      <td>0.000000</td>\n",
       "      <td>0.001154</td>\n",
       "      <td>1.045755</td>\n",
       "      <td>1.093605</td>\n",
       "    </tr>\n",
       "    <tr>\n",
       "      <th>max</th>\n",
       "      <td>1.008468</td>\n",
       "      <td>0.035688</td>\n",
       "      <td>0.0</td>\n",
       "      <td>0.0</td>\n",
       "      <td>0.001410</td>\n",
       "      <td>0.003031</td>\n",
       "      <td>1.808683</td>\n",
       "      <td>3.271333</td>\n",
       "    </tr>\n",
       "  </tbody>\n",
       "</table>\n",
       "</div>"
      ],
      "text/plain": [
       "               gl          ol     sp     py      pureFe      pureNa  \\\n",
       "count  100.000000  100.000000  100.0  100.0  100.000000  100.000000   \n",
       "mean     0.982405    0.020120    0.0    0.0    0.000025    0.000700   \n",
       "std      0.010240    0.007914    0.0    0.0    0.000161    0.000813   \n",
       "min      0.959026    0.000000    0.0    0.0    0.000000    0.000000   \n",
       "25%      0.974091    0.015429    0.0    0.0    0.000000    0.000000   \n",
       "50%      0.981767    0.020412    0.0    0.0    0.000000    0.000409   \n",
       "75%      0.988952    0.025891    0.0    0.0    0.000000    0.001154   \n",
       "max      1.008468    0.035688    0.0    0.0    0.001410    0.003031   \n",
       "\n",
       "               r2    residues  \n",
       "count  100.000000  100.000000  \n",
       "mean     0.819529    0.774158  \n",
       "std      0.321816    0.605820  \n",
       "min      0.336643    0.113329  \n",
       "25%      0.570326    0.325311  \n",
       "50%      0.754215    0.568854  \n",
       "75%      1.045755    1.093605  \n",
       "max      1.808683    3.271333  "
      ]
     },
     "execution_count": 12,
     "metadata": {},
     "output_type": "execute_result"
    }
   ],
   "source": [
    "res_02As1.describe()"
   ]
  },
  {
   "cell_type": "markdown",
   "metadata": {},
   "source": [
    "or only interested parameters"
   ]
  },
  {
   "cell_type": "code",
   "execution_count": 13,
   "metadata": {},
   "outputs": [
    {
     "data": {
      "text/html": [
       "<div>\n",
       "<style scoped>\n",
       "    .dataframe tbody tr th:only-of-type {\n",
       "        vertical-align: middle;\n",
       "    }\n",
       "\n",
       "    .dataframe tbody tr th {\n",
       "        vertical-align: top;\n",
       "    }\n",
       "\n",
       "    .dataframe thead th {\n",
       "        text-align: right;\n",
       "    }\n",
       "</style>\n",
       "<table border=\"1\" class=\"dataframe\">\n",
       "  <thead>\n",
       "    <tr style=\"text-align: right;\">\n",
       "      <th></th>\n",
       "      <th>gl</th>\n",
       "      <th>ol</th>\n",
       "      <th>sp</th>\n",
       "      <th>py</th>\n",
       "      <th>pureFe</th>\n",
       "      <th>pureNa</th>\n",
       "      <th>r2</th>\n",
       "      <th>residues</th>\n",
       "    </tr>\n",
       "  </thead>\n",
       "  <tbody>\n",
       "    <tr>\n",
       "      <th>mean</th>\n",
       "      <td>0.982405</td>\n",
       "      <td>0.020120</td>\n",
       "      <td>0.0</td>\n",
       "      <td>0.0</td>\n",
       "      <td>0.000025</td>\n",
       "      <td>0.000700</td>\n",
       "      <td>0.819529</td>\n",
       "      <td>0.774158</td>\n",
       "    </tr>\n",
       "    <tr>\n",
       "      <th>median</th>\n",
       "      <td>0.981767</td>\n",
       "      <td>0.020412</td>\n",
       "      <td>0.0</td>\n",
       "      <td>0.0</td>\n",
       "      <td>0.000000</td>\n",
       "      <td>0.000409</td>\n",
       "      <td>0.754215</td>\n",
       "      <td>0.568854</td>\n",
       "    </tr>\n",
       "    <tr>\n",
       "      <th>std</th>\n",
       "      <td>0.010240</td>\n",
       "      <td>0.007914</td>\n",
       "      <td>0.0</td>\n",
       "      <td>0.0</td>\n",
       "      <td>0.000161</td>\n",
       "      <td>0.000813</td>\n",
       "      <td>0.321816</td>\n",
       "      <td>0.605820</td>\n",
       "    </tr>\n",
       "  </tbody>\n",
       "</table>\n",
       "</div>"
      ],
      "text/plain": [
       "              gl        ol   sp   py    pureFe    pureNa        r2  residues\n",
       "mean    0.982405  0.020120  0.0  0.0  0.000025  0.000700  0.819529  0.774158\n",
       "median  0.981767  0.020412  0.0  0.0  0.000000  0.000409  0.754215  0.568854\n",
       "std     0.010240  0.007914  0.0  0.0  0.000161  0.000813  0.321816  0.605820"
      ]
     },
     "execution_count": 13,
     "metadata": {},
     "output_type": "execute_result"
    }
   ],
   "source": [
    "res_02As1.agg(['mean', 'median', 'std'])"
   ]
  },
  {
   "cell_type": "markdown",
   "metadata": {},
   "source": [
    "To plot the result, you can simply do:"
   ]
  },
  {
   "cell_type": "code",
   "execution_count": 14,
   "metadata": {},
   "outputs": [
    {
     "data": {
      "image/png": "[encoded data removed]",
      "text/plain": [
       "<Figure size 432x288 with 2 Axes>"
      ]
     },
     "metadata": {
      "needs_background": "light"
     },
     "output_type": "display_data"
    }
   ],
   "source": [
    "fig, axes = plt.subplots(1,2, constrained_layout=True)\n",
    "axes[0].hist(res_02As1['gl'], density=True)\n",
    "axes[1].hist(res_02As1['ol'], density=True)\n",
    "axes[0].set_xlabel('gl')\n",
    "axes[1].set_xlabel('ol')\n",
    "plt.show()"
   ]
  },
  {
   "cell_type": "markdown",
   "metadata": {},
   "source": [
    "We pre-defined pure FeO and pure Na2O phases as the evaluation of Fe loss and Na loss, if you don't want to check this, simply delete these sheets\n",
    "Below we give an example to calculate Fe loss (%) and Na loss (%) in the first experimental run `02As1`\n"
   ]
  },
  {
   "cell_type": "code",
   "execution_count": 15,
   "metadata": {},
   "outputs": [
    {
     "data": {
      "text/plain": [
       "12.42"
      ]
     },
     "execution_count": 15,
     "metadata": {},
     "output_type": "execute_result"
    }
   ],
   "source": [
    "nat_bulk = nat_dict['bulk'].set_index('Run_no')\n",
    "nat_bulk.loc['02As1', 'FeO']"
   ]
  },
  {
   "cell_type": "code",
   "execution_count": 16,
   "metadata": {},
   "outputs": [
    {
     "data": {
      "text/plain": [
       "1.96"
      ]
     },
     "execution_count": 16,
     "metadata": {},
     "output_type": "execute_result"
    }
   ],
   "source": [
    "nat_bulk.loc['02As1', 'Na2O']"
   ]
  },
  {
   "cell_type": "code",
   "execution_count": 17,
   "metadata": {},
   "outputs": [
    {
     "data": {
      "text/plain": [
       "mean      0.02049\n",
       "median    0.00000\n",
       "std       0.12976\n",
       "Name: Fe_loss, dtype: float64"
      ]
     },
     "execution_count": 17,
     "metadata": {},
     "output_type": "execute_result"
    }
   ],
   "source": [
    "res_02As1['Fe_loss'] = res_02As1['pureFe'] / nat_bulk.loc['02As1', 'FeO'] * 100 * 100\n",
    "res_02As1['Fe_loss'].agg(['mean', 'median', 'std'])"
   ]
  },
  {
   "cell_type": "code",
   "execution_count": 18,
   "metadata": {},
   "outputs": [
    {
     "data": {
      "text/plain": [
       "mean      3.573236\n",
       "median    2.088435\n",
       "std       4.148095\n",
       "Name: Na2O_loss, dtype: float64"
      ]
     },
     "execution_count": 18,
     "metadata": {},
     "output_type": "execute_result"
    }
   ],
   "source": [
    "res_02As1['Na2O_loss'] = res_02As1['pureNa'] / nat_bulk.loc['02As1', 'Na2O'] * 100 * 100\n",
    "res_02As1['Na2O_loss'].agg(['mean', 'median', 'std'])"
   ]
  },
  {
   "cell_type": "markdown",
   "metadata": {},
   "source": [
    "# Fin ~ happy coding!"
   ]
  }
 ],
 "metadata": {
  "kernelspec": {
   "display_name": "Python 3.9.6 ('base')",
   "language": "python",
   "name": "python3"
  },
  "language_info": {
   "codemirror_mode": {
    "name": "ipython",
    "version": 3
   },
   "file_extension": ".py",
   "mimetype": "text/x-python",
   "name": "python",
   "nbconvert_exporter": "python",
   "pygments_lexer": "ipython3",
   "version": "3.9.6"
  },
  "orig_nbformat": 4,
  "vscode": {
   "interpreter": {
    "hash": "dbfc26f88d4be79d14d7fd08a335d9cb9196b9d1da0cd3f4e161d45a5650b80a"
   }
  }
 },
 "nbformat": 4,
 "nbformat_minor": 2
}
