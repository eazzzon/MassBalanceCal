{
 "cells": [
  {
   "cell_type": "code",
   "execution_count": 1,
   "metadata": {},
   "outputs": [],
   "source": [
    "import pandas as pd\n",
    "import matplotlib.pyplot as plt\n",
    "import os, sys\n",
    "if not os.path.exists('massbalance') and os.path.exists('../massbalance'):    # hack to allow scripts to be placed in subdirectories next to pyAp\n",
    "    sys.path.insert(1, os.path.abspath('..'))\n",
    "from massbalance.mb_tools import MassBalance  # this is the core class of the mb calculation"
   ]
  },
  {
   "cell_type": "markdown",
   "metadata": {},
   "source": [
    "### 1. Define elements for calculation"
   ]
  },
  {
   "cell_type": "code",
   "execution_count": 3,
   "metadata": {},
   "outputs": [],
   "source": [
    "cmpnts = ['SiO2','Al2O3', 'TiO2', 'MgO', 'FeO', 'MnO',  'CaO', 'Na2O', 'K2O', 'P2O5', 'Cr2O3']  # change your desired elements for mass balance calculation"
   ]
  },
  {
   "cell_type": "code",
   "execution_count": 4,
   "metadata": {},
   "outputs": [
    {
     "data": {
      "text/plain": [
       "['SiO2_std',\n",
       " 'Al2O3_std',\n",
       " 'TiO2_std',\n",
       " 'MgO_std',\n",
       " 'FeO_std',\n",
       " 'MnO_std',\n",
       " 'CaO_std',\n",
       " 'Na2O_std',\n",
       " 'K2O_std',\n",
       " 'P2O5_std',\n",
       " 'Cr2O3_std']"
      ]
     },
     "execution_count": 4,
     "metadata": {},
     "output_type": "execute_result"
    }
   ],
   "source": [
    "cmpnts_std =[x + '_std' for x in cmpnts]  # save columns for std\n",
    "cmpnts_std"
   ]
  },
  {
   "cell_type": "markdown",
   "metadata": {},
   "source": [
    "### 2. Load data"
   ]
  },
  {
   "cell_type": "code",
   "execution_count": 5,
   "metadata": {},
   "outputs": [],
   "source": [
    "nat_comp = pd.ExcelFile(\"input_comp.xlsx\")"
   ]
  },
  {
   "cell_type": "markdown",
   "metadata": {},
   "source": [
    "We load the whole excel spreadsheet to a pandas ExcelFile, to access data in your spreadsheet, you can do so by looping through ExcelFile to a dictionary:"
   ]
  },
  {
   "cell_type": "code",
   "execution_count": 6,
   "metadata": {},
   "outputs": [],
   "source": [
    "nat_dict = {}  # create dictionary to collect compositions of different phases\n",
    "nat_phases = []  # create list to save all phases in the calculation. Note bulk will be the bulk compsition, run_index will be your sample number, or rock id . etc\n",
    "for sheet_name in nat_comp.sheet_names:\n",
    "    nat_phases.append(sheet_name)\n",
    "    nat_dict[sheet_name] = nat_comp.parse(sheet_name)"
   ]
  },
  {
   "cell_type": "markdown",
   "metadata": {},
   "source": [
    "``nat_phases`` stores the sheet names, ``nat_dict`` stores the data of each sheet. "
   ]
  },
  {
   "cell_type": "code",
   "execution_count": 7,
   "metadata": {},
   "outputs": [
    {
     "data": {
      "text/plain": [
       "['gl', 'ol', 'sp', 'py', 'pureFe', 'pureNa', 'bulk', 'run_index']"
      ]
     },
     "execution_count": 7,
     "metadata": {},
     "output_type": "execute_result"
    }
   ],
   "source": [
    "nat_phases"
   ]
  },
  {
   "cell_type": "markdown",
   "metadata": {},
   "source": [
    "Use the sheet name to access data, let's what we have in the ``gl`` phase\n"
   ]
  },
  {
   "cell_type": "code",
   "execution_count": 8,
   "metadata": {},
   "outputs": [
    {
     "data": {
      "text/html": [
       "<div>\n",
       "<style scoped>\n",
       "    .dataframe tbody tr th:only-of-type {\n",
       "        vertical-align: middle;\n",
       "    }\n",
       "\n",
       "    .dataframe tbody tr th {\n",
       "        vertical-align: top;\n",
       "    }\n",
       "\n",
       "    .dataframe thead th {\n",
       "        text-align: right;\n",
       "    }\n",
       "</style>\n",
       "<table border=\"1\" class=\"dataframe\">\n",
       "  <thead>\n",
       "    <tr style=\"text-align: right;\">\n",
       "      <th></th>\n",
       "      <th>Run_no</th>\n",
       "      <th>SiO2</th>\n",
       "      <th>Al2O3</th>\n",
       "      <th>P2O5</th>\n",
       "      <th>CaO</th>\n",
       "      <th>FeO</th>\n",
       "      <th>Na2O</th>\n",
       "      <th>MgO</th>\n",
       "      <th>TiO2</th>\n",
       "      <th>K2O</th>\n",
       "      <th>...</th>\n",
       "      <th>Al2O3_std</th>\n",
       "      <th>P2O5_std</th>\n",
       "      <th>CaO_std</th>\n",
       "      <th>FeO_std</th>\n",
       "      <th>Na2O_std</th>\n",
       "      <th>MgO_std</th>\n",
       "      <th>TiO2_std</th>\n",
       "      <th>K2O_std</th>\n",
       "      <th>MnO_std</th>\n",
       "      <th>Cr2O3_std</th>\n",
       "    </tr>\n",
       "  </thead>\n",
       "  <tbody>\n",
       "    <tr>\n",
       "      <th>0</th>\n",
       "      <td>02As1</td>\n",
       "      <td>46.66</td>\n",
       "      <td>10.16</td>\n",
       "      <td>0.17</td>\n",
       "      <td>11.64</td>\n",
       "      <td>13.06</td>\n",
       "      <td>1.95</td>\n",
       "      <td>13.15</td>\n",
       "      <td>2.43</td>\n",
       "      <td>0.49</td>\n",
       "      <td>...</td>\n",
       "      <td>0.17</td>\n",
       "      <td>0.10</td>\n",
       "      <td>0.22</td>\n",
       "      <td>0.34</td>\n",
       "      <td>0.10</td>\n",
       "      <td>0.26</td>\n",
       "      <td>0.20</td>\n",
       "      <td>0.04</td>\n",
       "      <td>0.04</td>\n",
       "      <td>0.04</td>\n",
       "    </tr>\n",
       "    <tr>\n",
       "      <th>1</th>\n",
       "      <td>01As1</td>\n",
       "      <td>46.96</td>\n",
       "      <td>10.34</td>\n",
       "      <td>0.20</td>\n",
       "      <td>11.81</td>\n",
       "      <td>13.21</td>\n",
       "      <td>1.84</td>\n",
       "      <td>12.16</td>\n",
       "      <td>2.53</td>\n",
       "      <td>0.44</td>\n",
       "      <td>...</td>\n",
       "      <td>0.11</td>\n",
       "      <td>0.07</td>\n",
       "      <td>0.20</td>\n",
       "      <td>0.21</td>\n",
       "      <td>0.10</td>\n",
       "      <td>0.12</td>\n",
       "      <td>0.14</td>\n",
       "      <td>0.05</td>\n",
       "      <td>0.03</td>\n",
       "      <td>0.08</td>\n",
       "    </tr>\n",
       "    <tr>\n",
       "      <th>2</th>\n",
       "      <td>04As1</td>\n",
       "      <td>47.20</td>\n",
       "      <td>10.80</td>\n",
       "      <td>0.23</td>\n",
       "      <td>12.13</td>\n",
       "      <td>12.77</td>\n",
       "      <td>1.87</td>\n",
       "      <td>11.04</td>\n",
       "      <td>2.65</td>\n",
       "      <td>0.48</td>\n",
       "      <td>...</td>\n",
       "      <td>0.11</td>\n",
       "      <td>0.05</td>\n",
       "      <td>0.21</td>\n",
       "      <td>0.45</td>\n",
       "      <td>0.14</td>\n",
       "      <td>0.09</td>\n",
       "      <td>0.16</td>\n",
       "      <td>0.05</td>\n",
       "      <td>0.05</td>\n",
       "      <td>0.03</td>\n",
       "    </tr>\n",
       "    <tr>\n",
       "      <th>3</th>\n",
       "      <td>03As1</td>\n",
       "      <td>48.38</td>\n",
       "      <td>11.36</td>\n",
       "      <td>0.18</td>\n",
       "      <td>12.63</td>\n",
       "      <td>13.03</td>\n",
       "      <td>1.42</td>\n",
       "      <td>10.35</td>\n",
       "      <td>2.54</td>\n",
       "      <td>0.43</td>\n",
       "      <td>...</td>\n",
       "      <td>0.16</td>\n",
       "      <td>0.06</td>\n",
       "      <td>0.12</td>\n",
       "      <td>0.27</td>\n",
       "      <td>0.07</td>\n",
       "      <td>0.19</td>\n",
       "      <td>0.27</td>\n",
       "      <td>0.05</td>\n",
       "      <td>0.05</td>\n",
       "      <td>0.05</td>\n",
       "    </tr>\n",
       "    <tr>\n",
       "      <th>4</th>\n",
       "      <td>05As1</td>\n",
       "      <td>47.18</td>\n",
       "      <td>11.63</td>\n",
       "      <td>0.23</td>\n",
       "      <td>12.84</td>\n",
       "      <td>12.57</td>\n",
       "      <td>2.04</td>\n",
       "      <td>9.42</td>\n",
       "      <td>2.60</td>\n",
       "      <td>0.51</td>\n",
       "      <td>...</td>\n",
       "      <td>0.12</td>\n",
       "      <td>0.05</td>\n",
       "      <td>0.25</td>\n",
       "      <td>0.20</td>\n",
       "      <td>0.12</td>\n",
       "      <td>0.18</td>\n",
       "      <td>0.23</td>\n",
       "      <td>0.05</td>\n",
       "      <td>0.04</td>\n",
       "      <td>0.05</td>\n",
       "    </tr>\n",
       "  </tbody>\n",
       "</table>\n",
       "<p>5 rows × 25 columns</p>\n",
       "</div>"
      ],
      "text/plain": [
       "  Run_no   SiO2  Al2O3  P2O5    CaO    FeO  Na2O    MgO  TiO2   K2O  ...  \\\n",
       "0  02As1  46.66  10.16  0.17  11.64  13.06  1.95  13.15  2.43  0.49  ...   \n",
       "1  01As1  46.96  10.34  0.20  11.81  13.21  1.84  12.16  2.53  0.44  ...   \n",
       "2  04As1  47.20  10.80  0.23  12.13  12.77  1.87  11.04  2.65  0.48  ...   \n",
       "3  03As1  48.38  11.36  0.18  12.63  13.03  1.42  10.35  2.54  0.43  ...   \n",
       "4  05As1  47.18  11.63  0.23  12.84  12.57  2.04   9.42  2.60  0.51  ...   \n",
       "\n",
       "   Al2O3_std  P2O5_std  CaO_std  FeO_std  Na2O_std  MgO_std  TiO2_std  \\\n",
       "0       0.17      0.10     0.22     0.34      0.10     0.26      0.20   \n",
       "1       0.11      0.07     0.20     0.21      0.10     0.12      0.14   \n",
       "2       0.11      0.05     0.21     0.45      0.14     0.09      0.16   \n",
       "3       0.16      0.06     0.12     0.27      0.07     0.19      0.27   \n",
       "4       0.12      0.05     0.25     0.20      0.12     0.18      0.23   \n",
       "\n",
       "   K2O_std  MnO_std  Cr2O3_std  \n",
       "0     0.04     0.04       0.04  \n",
       "1     0.05     0.03       0.08  \n",
       "2     0.05     0.05       0.03  \n",
       "3     0.05     0.05       0.05  \n",
       "4     0.05     0.04       0.05  \n",
       "\n",
       "[5 rows x 25 columns]"
      ]
     },
     "execution_count": 8,
     "metadata": {},
     "output_type": "execute_result"
    }
   ],
   "source": [
    "nat_dict['gl'].head()"
   ]
  },
  {
   "cell_type": "markdown",
   "metadata": {},
   "source": [
    "### 3. Mass balance calculation"
   ]
  },
  {
   "cell_type": "code",
   "execution_count": 19,
   "metadata": {},
   "outputs": [],
   "source": [
    "mb_cal = MassBalance(\n",
    "    input_comp=nat_comp,\n",
    "    comp_col=cmpnts,\n",
    "    comp_std_col=cmpnts_std,\n",
    "    match_column=\"Run_no\",\n",
    "    bulk_sheet=\"bulk\",\n",
    "    index_sheet=\"run_index\",\n",
    "    normalize=True,\n",
    ")"
   ]
  },
  {
   "cell_type": "code",
   "execution_count": 20,
   "metadata": {},
   "outputs": [],
   "source": [
    "res_dict = mb_cal.compute(mc=100, exportFiles=True, batch_bulk=True, method='nnl')"
   ]
  },
  {
   "cell_type": "code",
   "execution_count": 21,
   "metadata": {},
   "outputs": [
    {
     "data": {
      "text/plain": [
       "{'02As1':           gl        ol   sp   py  pureFe    pureNa        r2  residues\n",
       " 0   0.991460  0.021747  0.0  0.0     0.0  0.001608  0.356634  0.127188\n",
       " 1   0.974926  0.024034  0.0  0.0     0.0  0.001542  0.684709  0.468826\n",
       " 2   0.977975  0.024399  0.0  0.0     0.0  0.000000  0.549462  0.301908\n",
       " 3   0.998584  0.018338  0.0  0.0     0.0  0.000000  0.623763  0.389080\n",
       " 4   0.978460  0.027727  0.0  0.0     0.0  0.000000  0.791784  0.626923\n",
       " ..       ...       ...  ...  ...     ...       ...       ...       ...\n",
       " 95  0.973279  0.024162  0.0  0.0     0.0  0.000455  0.445936  0.198859\n",
       " 96  0.972869  0.029593  0.0  0.0     0.0  0.001926  0.818117  0.669315\n",
       " 97  0.974119  0.025947  0.0  0.0     0.0  0.000379  0.612259  0.374861\n",
       " 98  0.976495  0.021593  0.0  0.0     0.0  0.000000  0.447712  0.200446\n",
       " 99  1.005494  0.006703  0.0  0.0     0.0  0.001379  0.887912  0.788388\n",
       " \n",
       " [100 rows x 8 columns],\n",
       " '01As1':           gl        ol   sp   py  pureFe    pureNa        r2  residues\n",
       " 0   0.957238  0.043361  0.0  0.0     0.0  0.003427  1.040239  1.082097\n",
       " 1   0.942547  0.050710  0.0  0.0     0.0  0.001240  1.063822  1.131717\n",
       " 2   0.939691  0.054554  0.0  0.0     0.0  0.005157  1.093782  1.196360\n",
       " 3   0.965064  0.043282  0.0  0.0     0.0  0.000796  0.969914  0.940732\n",
       " 4   0.942531  0.049470  0.0  0.0     0.0  0.001463  0.851077  0.724332\n",
       " ..       ...       ...  ...  ...     ...       ...       ...       ...\n",
       " 95  0.955382  0.044321  0.0  0.0     0.0  0.002460  0.803322  0.645326\n",
       " 96  0.949485  0.052843  0.0  0.0     0.0  0.001741  0.756304  0.571996\n",
       " 97  0.958075  0.041933  0.0  0.0     0.0  0.001951  1.099968  1.209929\n",
       " 98  0.965140  0.046856  0.0  0.0     0.0  0.001969  0.605652  0.366814\n",
       " 99  0.961083  0.049532  0.0  0.0     0.0  0.003663  0.890764  0.793460\n",
       " \n",
       " [100 rows x 8 columns],\n",
       " '04As1':           gl        ol        sp   py    pureFe    pureNa        r2  residues\n",
       " 0   0.920267  0.080722  0.000000  0.0  0.000000  0.004672  0.723221  0.523049\n",
       " 1   0.918527  0.074419  0.000000  0.0  0.000000  0.003471  0.650025  0.422532\n",
       " 2   0.921890  0.071306  0.001445  0.0  0.004254  0.003746  0.481772  0.232104\n",
       " 3   0.921961  0.073955  0.002700  0.0  0.002293  0.002657  0.554546  0.307521\n",
       " 4   0.922077  0.071315  0.000000  0.0  0.000000  0.002416  0.681688  0.464698\n",
       " ..       ...       ...       ...  ...       ...       ...       ...       ...\n",
       " 95  0.917924  0.078683  0.000000  0.0  0.000000  0.001695  0.627370  0.393594\n",
       " 96  0.921501  0.078238  0.000000  0.0  0.000000  0.001365  0.602195  0.362639\n",
       " 97  0.908307  0.079167  0.000000  0.0  0.000000  0.002594  0.810653  0.657159\n",
       " 98  0.912765  0.073202  0.000000  0.0  0.000000  0.001781  0.577260  0.333229\n",
       " 99  0.918712  0.077907  0.000000  0.0  0.000000  0.003387  1.066985  1.138457\n",
       " \n",
       " [100 rows x 8 columns],\n",
       " '03As1':           gl        ol        sp   py  pureFe    pureNa        r2  residues\n",
       " 0   0.886243  0.098046  0.000000  0.0     0.0  0.008276  0.684161  0.468077\n",
       " 1   0.897290  0.095946  0.000000  0.0     0.0  0.007484  0.605729  0.366907\n",
       " 2   0.891678  0.091774  0.000000  0.0     0.0  0.007078  0.672283  0.451965\n",
       " 3   0.891340  0.092542  0.000000  0.0     0.0  0.006733  0.731944  0.535741\n",
       " 4   0.891061  0.094519  0.000000  0.0     0.0  0.007262  1.038850  1.079209\n",
       " ..       ...       ...       ...  ...     ...       ...       ...       ...\n",
       " 95  0.892859  0.096879  0.000006  0.0     0.0  0.006957  0.400924  0.160740\n",
       " 96  0.889093  0.099277  0.000000  0.0     0.0  0.007684  0.800637  0.641019\n",
       " 97  0.888998  0.104433  0.000000  0.0     0.0  0.006110  0.616060  0.379530\n",
       " 98  0.884803  0.100208  0.000000  0.0     0.0  0.008231  0.661062  0.437003\n",
       " 99  0.880384  0.102657  0.000000  0.0     0.0  0.006988  0.271413  0.073665\n",
       " \n",
       " [100 rows x 8 columns],\n",
       " '05As1':           gl        ol   sp   py  pureFe    pureNa        r2  residues\n",
       " 0   0.879404  0.121900  0.0  0.0     0.0  0.001261  0.616612  0.380210\n",
       " 1   0.882394  0.123007  0.0  0.0     0.0  0.001032  0.660729  0.436563\n",
       " 2   0.863528  0.130578  0.0  0.0     0.0  0.001597  0.873720  0.763386\n",
       " 3   0.867461  0.131189  0.0  0.0     0.0  0.001906  0.789412  0.623171\n",
       " 4   0.881629  0.120726  0.0  0.0     0.0  0.002486  1.204542  1.450922\n",
       " ..       ...       ...  ...  ...     ...       ...       ...       ...\n",
       " 95  0.884418  0.116713  0.0  0.0     0.0  0.001140  0.572758  0.328051\n",
       " 96  0.872999  0.123603  0.0  0.0     0.0  0.001566  0.846638  0.716796\n",
       " 97  0.875359  0.132903  0.0  0.0     0.0  0.002071  0.535454  0.286711\n",
       " 98  0.883310  0.119831  0.0  0.0     0.0  0.002049  0.738639  0.545588\n",
       " 99  0.881399  0.123682  0.0  0.0     0.0  0.001493  0.654277  0.428079\n",
       " \n",
       " [100 rows x 8 columns],\n",
       " '06As1':           gl        ol        sp        py    pureFe    pureNa        r2  \\\n",
       " 0   0.802547  0.163481  0.002324  0.023824  0.000000  0.000955  0.659456   \n",
       " 1   0.820126  0.161463  0.002453  0.017601  0.000000  0.001829  0.675395   \n",
       " 2   0.807453  0.158274  0.000000  0.030586  0.000000  0.002321  0.498174   \n",
       " 3   0.790603  0.160668  0.002618  0.043321  0.000000  0.003147  0.410376   \n",
       " 4   0.823363  0.172369  0.000107  0.006703  0.000000  0.001690  0.476994   \n",
       " ..       ...       ...       ...       ...       ...       ...       ...   \n",
       " 95  0.802275  0.159603  0.000000  0.022643  0.000000  0.002387  0.945166   \n",
       " 96  0.811217  0.168524  0.001236  0.012649  0.000000  0.002270  0.346051   \n",
       " 97  0.788527  0.155125  0.001037  0.045725  0.000000  0.001405  0.306589   \n",
       " 98  0.789715  0.147137  0.002168  0.047579  0.000000  0.002911  0.767109   \n",
       " 99  0.792670  0.166356  0.000000  0.036077  0.005607  0.002245  0.379725   \n",
       " \n",
       "     residues  \n",
       " 0   0.434882  \n",
       " 1   0.456158  \n",
       " 2   0.248178  \n",
       " 3   0.168409  \n",
       " 4   0.227523  \n",
       " ..       ...  \n",
       " 95  0.893338  \n",
       " 96  0.119751  \n",
       " 97  0.093997  \n",
       " 98  0.588456  \n",
       " 99  0.144191  \n",
       " \n",
       " [100 rows x 8 columns],\n",
       " '15As1':           gl        ol   sp        py  pureFe    pureNa        r2  residues\n",
       " 0   0.736769  0.159387  0.0  0.100162     0.0  0.002069  0.813561  0.661882\n",
       " 1   0.716908  0.160551  0.0  0.107559     0.0  0.003526  0.803766  0.646039\n",
       " 2   0.736326  0.168213  0.0  0.096921     0.0  0.001006  0.388710  0.151096\n",
       " 3   0.717550  0.166846  0.0  0.118000     0.0  0.001364  0.847781  0.718732\n",
       " 4   0.735553  0.162164  0.0  0.101295     0.0  0.002550  0.408576  0.166935\n",
       " ..       ...       ...  ...       ...     ...       ...       ...       ...\n",
       " 95  0.730441  0.165353  0.0  0.099418     0.0  0.002144  0.413129  0.170676\n",
       " 96  0.696003  0.158839  0.0  0.134801     0.0  0.001598  0.845857  0.715474\n",
       " 97  0.758603  0.166560  0.0  0.072418     0.0  0.001245  0.413683  0.171133\n",
       " 98  0.745521  0.150988  0.0  0.100016     0.0  0.000000  0.432179  0.186779\n",
       " 99  0.694481  0.159440  0.0  0.137976     0.0  0.003185  0.503541  0.253554\n",
       " \n",
       " [100 rows x 8 columns],\n",
       " '17As1':           gl        ol   sp        py    pureFe    pureNa        r2  residues\n",
       " 0   0.699235  0.169952  0.0  0.107978  0.001213  0.002798  0.583785  0.340805\n",
       " 1   0.716910  0.172344  0.0  0.109153  0.000000  0.002546  0.239184  0.057209\n",
       " 2   0.700821  0.167973  0.0  0.113175  0.004142  0.000966  0.591291  0.349625\n",
       " 3   0.722466  0.173445  0.0  0.101873  0.000000  0.000300  0.362569  0.131457\n",
       " 4   0.717917  0.176097  0.0  0.103920  0.000000  0.001817  0.269362  0.072556\n",
       " ..       ...       ...  ...       ...       ...       ...       ...       ...\n",
       " 95  0.703655  0.165453  0.0  0.116943  0.001447  0.003574  0.330030  0.108920\n",
       " 96  0.709313  0.171088  0.0  0.105006  0.000000  0.000907  0.891697  0.795123\n",
       " 97  0.690898  0.165004  0.0  0.115739  0.000438  0.003116  0.573244  0.328609\n",
       " 98  0.700364  0.168957  0.0  0.129130  0.003780  0.001569  0.454126  0.206230\n",
       " 99  0.712212  0.178798  0.0  0.106100  0.003356  0.000391  0.371218  0.137803\n",
       " \n",
       " [100 rows x 8 columns],\n",
       " '14As1':           gl        ol   sp        py    pureFe    pureNa        r2  residues\n",
       " 0   0.653417  0.162823  0.0  0.175703  0.003009  0.002663  0.656275  0.430696\n",
       " 1   0.692721  0.168518  0.0  0.132750  0.000000  0.001567  0.431972  0.186600\n",
       " 2   0.678724  0.165575  0.0  0.146778  0.000000  0.002178  0.210203  0.044185\n",
       " 3   0.670355  0.168855  0.0  0.157775  0.000000  0.001988  0.269736  0.072757\n",
       " 4   0.651598  0.166220  0.0  0.179957  0.000000  0.001929  0.370323  0.137139\n",
       " ..       ...       ...  ...       ...       ...       ...       ...       ...\n",
       " 95  0.660084  0.161865  0.0  0.173917  0.000000  0.001322  0.576010  0.331787\n",
       " 96  0.663728  0.171797  0.0  0.161435  0.000000  0.002295  0.577871  0.333935\n",
       " 97  0.674590  0.175028  0.0  0.145679  0.000000  0.001977  0.433609  0.188017\n",
       " 98  0.676801  0.170211  0.0  0.157501  0.000000  0.002097  0.422208  0.178260\n",
       " 99  0.660520  0.167489  0.0  0.166013  0.000000  0.002159  0.623244  0.388434\n",
       " \n",
       " [100 rows x 8 columns]}"
      ]
     },
     "execution_count": 21,
     "metadata": {},
     "output_type": "execute_result"
    }
   ],
   "source": [
    "res_dict"
   ]
  },
  {
   "cell_type": "code",
   "execution_count": 11,
   "metadata": {},
   "outputs": [
    {
     "data": {
      "text/html": [
       "<div>\n",
       "<style scoped>\n",
       "    .dataframe tbody tr th:only-of-type {\n",
       "        vertical-align: middle;\n",
       "    }\n",
       "\n",
       "    .dataframe tbody tr th {\n",
       "        vertical-align: top;\n",
       "    }\n",
       "\n",
       "    .dataframe thead th {\n",
       "        text-align: right;\n",
       "    }\n",
       "</style>\n",
       "<table border=\"1\" class=\"dataframe\">\n",
       "  <thead>\n",
       "    <tr style=\"text-align: right;\">\n",
       "      <th></th>\n",
       "      <th>gl</th>\n",
       "      <th>ol</th>\n",
       "      <th>sp</th>\n",
       "      <th>py</th>\n",
       "      <th>pureFe</th>\n",
       "      <th>pureNa</th>\n",
       "      <th>r2</th>\n",
       "      <th>residues</th>\n",
       "    </tr>\n",
       "  </thead>\n",
       "  <tbody>\n",
       "    <tr>\n",
       "      <th>0</th>\n",
       "      <td>0.973176</td>\n",
       "      <td>0.019715</td>\n",
       "      <td>0.0</td>\n",
       "      <td>0.0</td>\n",
       "      <td>0.0</td>\n",
       "      <td>0.002498</td>\n",
       "      <td>0.484440</td>\n",
       "      <td>0.234682</td>\n",
       "    </tr>\n",
       "    <tr>\n",
       "      <th>1</th>\n",
       "      <td>0.966235</td>\n",
       "      <td>0.036826</td>\n",
       "      <td>0.0</td>\n",
       "      <td>0.0</td>\n",
       "      <td>0.0</td>\n",
       "      <td>0.000498</td>\n",
       "      <td>0.892664</td>\n",
       "      <td>0.796848</td>\n",
       "    </tr>\n",
       "    <tr>\n",
       "      <th>2</th>\n",
       "      <td>0.980381</td>\n",
       "      <td>0.023393</td>\n",
       "      <td>0.0</td>\n",
       "      <td>0.0</td>\n",
       "      <td>0.0</td>\n",
       "      <td>0.001340</td>\n",
       "      <td>0.973339</td>\n",
       "      <td>0.947389</td>\n",
       "    </tr>\n",
       "    <tr>\n",
       "      <th>3</th>\n",
       "      <td>0.987117</td>\n",
       "      <td>0.021411</td>\n",
       "      <td>0.0</td>\n",
       "      <td>0.0</td>\n",
       "      <td>0.0</td>\n",
       "      <td>0.000512</td>\n",
       "      <td>1.261967</td>\n",
       "      <td>1.592560</td>\n",
       "    </tr>\n",
       "    <tr>\n",
       "      <th>4</th>\n",
       "      <td>0.982864</td>\n",
       "      <td>0.021373</td>\n",
       "      <td>0.0</td>\n",
       "      <td>0.0</td>\n",
       "      <td>0.0</td>\n",
       "      <td>0.000670</td>\n",
       "      <td>1.379474</td>\n",
       "      <td>1.902949</td>\n",
       "    </tr>\n",
       "    <tr>\n",
       "      <th>...</th>\n",
       "      <td>...</td>\n",
       "      <td>...</td>\n",
       "      <td>...</td>\n",
       "      <td>...</td>\n",
       "      <td>...</td>\n",
       "      <td>...</td>\n",
       "      <td>...</td>\n",
       "      <td>...</td>\n",
       "    </tr>\n",
       "    <tr>\n",
       "      <th>95</th>\n",
       "      <td>0.982980</td>\n",
       "      <td>0.016666</td>\n",
       "      <td>0.0</td>\n",
       "      <td>0.0</td>\n",
       "      <td>0.0</td>\n",
       "      <td>0.000119</td>\n",
       "      <td>1.110129</td>\n",
       "      <td>1.232386</td>\n",
       "    </tr>\n",
       "    <tr>\n",
       "      <th>96</th>\n",
       "      <td>0.975976</td>\n",
       "      <td>0.026063</td>\n",
       "      <td>0.0</td>\n",
       "      <td>0.0</td>\n",
       "      <td>0.0</td>\n",
       "      <td>0.000000</td>\n",
       "      <td>0.851714</td>\n",
       "      <td>0.725417</td>\n",
       "    </tr>\n",
       "    <tr>\n",
       "      <th>97</th>\n",
       "      <td>0.984092</td>\n",
       "      <td>0.015631</td>\n",
       "      <td>0.0</td>\n",
       "      <td>0.0</td>\n",
       "      <td>0.0</td>\n",
       "      <td>0.000609</td>\n",
       "      <td>1.128356</td>\n",
       "      <td>1.273188</td>\n",
       "    </tr>\n",
       "    <tr>\n",
       "      <th>98</th>\n",
       "      <td>0.970248</td>\n",
       "      <td>0.024932</td>\n",
       "      <td>0.0</td>\n",
       "      <td>0.0</td>\n",
       "      <td>0.0</td>\n",
       "      <td>0.000000</td>\n",
       "      <td>1.084596</td>\n",
       "      <td>1.176348</td>\n",
       "    </tr>\n",
       "    <tr>\n",
       "      <th>99</th>\n",
       "      <td>0.974616</td>\n",
       "      <td>0.025389</td>\n",
       "      <td>0.0</td>\n",
       "      <td>0.0</td>\n",
       "      <td>0.0</td>\n",
       "      <td>0.000000</td>\n",
       "      <td>0.475042</td>\n",
       "      <td>0.225664</td>\n",
       "    </tr>\n",
       "  </tbody>\n",
       "</table>\n",
       "<p>100 rows × 8 columns</p>\n",
       "</div>"
      ],
      "text/plain": [
       "          gl        ol   sp   py  pureFe    pureNa        r2  residues\n",
       "0   0.973176  0.019715  0.0  0.0     0.0  0.002498  0.484440  0.234682\n",
       "1   0.966235  0.036826  0.0  0.0     0.0  0.000498  0.892664  0.796848\n",
       "2   0.980381  0.023393  0.0  0.0     0.0  0.001340  0.973339  0.947389\n",
       "3   0.987117  0.021411  0.0  0.0     0.0  0.000512  1.261967  1.592560\n",
       "4   0.982864  0.021373  0.0  0.0     0.0  0.000670  1.379474  1.902949\n",
       "..       ...       ...  ...  ...     ...       ...       ...       ...\n",
       "95  0.982980  0.016666  0.0  0.0     0.0  0.000119  1.110129  1.232386\n",
       "96  0.975976  0.026063  0.0  0.0     0.0  0.000000  0.851714  0.725417\n",
       "97  0.984092  0.015631  0.0  0.0     0.0  0.000609  1.128356  1.273188\n",
       "98  0.970248  0.024932  0.0  0.0     0.0  0.000000  1.084596  1.176348\n",
       "99  0.974616  0.025389  0.0  0.0     0.0  0.000000  0.475042  0.225664\n",
       "\n",
       "[100 rows x 8 columns]"
      ]
     },
     "execution_count": 11,
     "metadata": {},
     "output_type": "execute_result"
    }
   ],
   "source": [
    "res_02As1 = res_dict['02As1']\n",
    "res_02As1"
   ]
  },
  {
   "cell_type": "markdown",
   "metadata": {},
   "source": [
    "This is the MC results (100 times), to calculate statistical infos, you can simply call the built-in pandas functions as:"
   ]
  },
  {
   "cell_type": "code",
   "execution_count": 12,
   "metadata": {},
   "outputs": [
    {
     "data": {
      "text/html": [
       "<div>\n",
       "<style scoped>\n",
       "    .dataframe tbody tr th:only-of-type {\n",
       "        vertical-align: middle;\n",
       "    }\n",
       "\n",
       "    .dataframe tbody tr th {\n",
       "        vertical-align: top;\n",
       "    }\n",
       "\n",
       "    .dataframe thead th {\n",
       "        text-align: right;\n",
       "    }\n",
       "</style>\n",
       "<table border=\"1\" class=\"dataframe\">\n",
       "  <thead>\n",
       "    <tr style=\"text-align: right;\">\n",
       "      <th></th>\n",
       "      <th>gl</th>\n",
       "      <th>ol</th>\n",
       "      <th>sp</th>\n",
       "      <th>py</th>\n",
       "      <th>pureFe</th>\n",
       "      <th>pureNa</th>\n",
       "      <th>r2</th>\n",
       "      <th>residues</th>\n",
       "    </tr>\n",
       "  </thead>\n",
       "  <tbody>\n",
       "    <tr>\n",
       "      <th>count</th>\n",
       "      <td>100.000000</td>\n",
       "      <td>100.000000</td>\n",
       "      <td>100.0</td>\n",
       "      <td>100.0</td>\n",
       "      <td>100.000000</td>\n",
       "      <td>100.000000</td>\n",
       "      <td>100.000000</td>\n",
       "      <td>100.000000</td>\n",
       "    </tr>\n",
       "    <tr>\n",
       "      <th>mean</th>\n",
       "      <td>0.979243</td>\n",
       "      <td>0.022744</td>\n",
       "      <td>0.0</td>\n",
       "      <td>0.0</td>\n",
       "      <td>0.000054</td>\n",
       "      <td>0.000524</td>\n",
       "      <td>0.812893</td>\n",
       "      <td>0.767074</td>\n",
       "    </tr>\n",
       "    <tr>\n",
       "      <th>std</th>\n",
       "      <td>0.009672</td>\n",
       "      <td>0.006799</td>\n",
       "      <td>0.0</td>\n",
       "      <td>0.0</td>\n",
       "      <td>0.000328</td>\n",
       "      <td>0.000704</td>\n",
       "      <td>0.327647</td>\n",
       "      <td>0.587718</td>\n",
       "    </tr>\n",
       "    <tr>\n",
       "      <th>min</th>\n",
       "      <td>0.960060</td>\n",
       "      <td>0.006024</td>\n",
       "      <td>0.0</td>\n",
       "      <td>0.0</td>\n",
       "      <td>0.000000</td>\n",
       "      <td>0.000000</td>\n",
       "      <td>0.191910</td>\n",
       "      <td>0.036829</td>\n",
       "    </tr>\n",
       "    <tr>\n",
       "      <th>25%</th>\n",
       "      <td>0.973027</td>\n",
       "      <td>0.017675</td>\n",
       "      <td>0.0</td>\n",
       "      <td>0.0</td>\n",
       "      <td>0.000000</td>\n",
       "      <td>0.000000</td>\n",
       "      <td>0.563707</td>\n",
       "      <td>0.317767</td>\n",
       "    </tr>\n",
       "    <tr>\n",
       "      <th>50%</th>\n",
       "      <td>0.978517</td>\n",
       "      <td>0.022876</td>\n",
       "      <td>0.0</td>\n",
       "      <td>0.0</td>\n",
       "      <td>0.000000</td>\n",
       "      <td>0.000240</td>\n",
       "      <td>0.767086</td>\n",
       "      <td>0.588507</td>\n",
       "    </tr>\n",
       "    <tr>\n",
       "      <th>75%</th>\n",
       "      <td>0.984920</td>\n",
       "      <td>0.026260</td>\n",
       "      <td>0.0</td>\n",
       "      <td>0.0</td>\n",
       "      <td>0.000000</td>\n",
       "      <td>0.000761</td>\n",
       "      <td>1.053219</td>\n",
       "      <td>1.109313</td>\n",
       "    </tr>\n",
       "    <tr>\n",
       "      <th>max</th>\n",
       "      <td>1.000465</td>\n",
       "      <td>0.039245</td>\n",
       "      <td>0.0</td>\n",
       "      <td>0.0</td>\n",
       "      <td>0.002663</td>\n",
       "      <td>0.003195</td>\n",
       "      <td>1.698585</td>\n",
       "      <td>2.885192</td>\n",
       "    </tr>\n",
       "  </tbody>\n",
       "</table>\n",
       "</div>"
      ],
      "text/plain": [
       "               gl          ol     sp     py      pureFe      pureNa  \\\n",
       "count  100.000000  100.000000  100.0  100.0  100.000000  100.000000   \n",
       "mean     0.979243    0.022744    0.0    0.0    0.000054    0.000524   \n",
       "std      0.009672    0.006799    0.0    0.0    0.000328    0.000704   \n",
       "min      0.960060    0.006024    0.0    0.0    0.000000    0.000000   \n",
       "25%      0.973027    0.017675    0.0    0.0    0.000000    0.000000   \n",
       "50%      0.978517    0.022876    0.0    0.0    0.000000    0.000240   \n",
       "75%      0.984920    0.026260    0.0    0.0    0.000000    0.000761   \n",
       "max      1.000465    0.039245    0.0    0.0    0.002663    0.003195   \n",
       "\n",
       "               r2    residues  \n",
       "count  100.000000  100.000000  \n",
       "mean     0.812893    0.767074  \n",
       "std      0.327647    0.587718  \n",
       "min      0.191910    0.036829  \n",
       "25%      0.563707    0.317767  \n",
       "50%      0.767086    0.588507  \n",
       "75%      1.053219    1.109313  \n",
       "max      1.698585    2.885192  "
      ]
     },
     "execution_count": 12,
     "metadata": {},
     "output_type": "execute_result"
    }
   ],
   "source": [
    "res_02As1.describe()"
   ]
  },
  {
   "cell_type": "markdown",
   "metadata": {},
   "source": [
    "or only interested parameters"
   ]
  },
  {
   "cell_type": "code",
   "execution_count": 13,
   "metadata": {},
   "outputs": [
    {
     "data": {
      "text/html": [
       "<div>\n",
       "<style scoped>\n",
       "    .dataframe tbody tr th:only-of-type {\n",
       "        vertical-align: middle;\n",
       "    }\n",
       "\n",
       "    .dataframe tbody tr th {\n",
       "        vertical-align: top;\n",
       "    }\n",
       "\n",
       "    .dataframe thead th {\n",
       "        text-align: right;\n",
       "    }\n",
       "</style>\n",
       "<table border=\"1\" class=\"dataframe\">\n",
       "  <thead>\n",
       "    <tr style=\"text-align: right;\">\n",
       "      <th></th>\n",
       "      <th>gl</th>\n",
       "      <th>ol</th>\n",
       "      <th>sp</th>\n",
       "      <th>py</th>\n",
       "      <th>pureFe</th>\n",
       "      <th>pureNa</th>\n",
       "      <th>r2</th>\n",
       "      <th>residues</th>\n",
       "    </tr>\n",
       "  </thead>\n",
       "  <tbody>\n",
       "    <tr>\n",
       "      <th>mean</th>\n",
       "      <td>0.979243</td>\n",
       "      <td>0.022744</td>\n",
       "      <td>0.0</td>\n",
       "      <td>0.0</td>\n",
       "      <td>0.000054</td>\n",
       "      <td>0.000524</td>\n",
       "      <td>0.812893</td>\n",
       "      <td>0.767074</td>\n",
       "    </tr>\n",
       "    <tr>\n",
       "      <th>median</th>\n",
       "      <td>0.978517</td>\n",
       "      <td>0.022876</td>\n",
       "      <td>0.0</td>\n",
       "      <td>0.0</td>\n",
       "      <td>0.000000</td>\n",
       "      <td>0.000240</td>\n",
       "      <td>0.767086</td>\n",
       "      <td>0.588507</td>\n",
       "    </tr>\n",
       "    <tr>\n",
       "      <th>std</th>\n",
       "      <td>0.009672</td>\n",
       "      <td>0.006799</td>\n",
       "      <td>0.0</td>\n",
       "      <td>0.0</td>\n",
       "      <td>0.000328</td>\n",
       "      <td>0.000704</td>\n",
       "      <td>0.327647</td>\n",
       "      <td>0.587718</td>\n",
       "    </tr>\n",
       "  </tbody>\n",
       "</table>\n",
       "</div>"
      ],
      "text/plain": [
       "              gl        ol   sp   py    pureFe    pureNa        r2  residues\n",
       "mean    0.979243  0.022744  0.0  0.0  0.000054  0.000524  0.812893  0.767074\n",
       "median  0.978517  0.022876  0.0  0.0  0.000000  0.000240  0.767086  0.588507\n",
       "std     0.009672  0.006799  0.0  0.0  0.000328  0.000704  0.327647  0.587718"
      ]
     },
     "execution_count": 13,
     "metadata": {},
     "output_type": "execute_result"
    }
   ],
   "source": [
    "res_02As1.agg(['mean', 'median', 'std'])"
   ]
  },
  {
   "cell_type": "markdown",
   "metadata": {},
   "source": [
    "To plot the result, you can simply do:"
   ]
  },
  {
   "cell_type": "code",
   "execution_count": 14,
   "metadata": {},
   "outputs": [
    {
     "data": {
      "image/png": "[encoded data removed]",
      "text/plain": [
       "<Figure size 432x288 with 2 Axes>"
      ]
     },
     "metadata": {
      "needs_background": "light"
     },
     "output_type": "display_data"
    }
   ],
   "source": [
    "fig, axes = plt.subplots(1,2, constrained_layout=True)\n",
    "axes[0].hist(res_02As1['gl'], density=True)\n",
    "axes[1].hist(res_02As1['ol'], density=True)\n",
    "axes[0].set_xlabel('gl')\n",
    "axes[1].set_xlabel('ol')\n",
    "plt.show()"
   ]
  },
  {
   "cell_type": "markdown",
   "metadata": {},
   "source": [
    "We pre-defined pure FeO and pure Na2O phases as the evaluation of Fe loss and Na loss, if you don't want to check this, simply delete these sheets\n",
    "Below we give an example to calculate Fe loss (%) and Na loss (%) in the first experimental run `02As1`\n"
   ]
  },
  {
   "cell_type": "code",
   "execution_count": 15,
   "metadata": {},
   "outputs": [
    {
     "data": {
      "text/plain": [
       "12.42"
      ]
     },
     "execution_count": 15,
     "metadata": {},
     "output_type": "execute_result"
    }
   ],
   "source": [
    "nat_bulk = nat_dict['bulk'].set_index('Run_no')\n",
    "nat_bulk.loc['02As1', 'FeO']"
   ]
  },
  {
   "cell_type": "code",
   "execution_count": 16,
   "metadata": {},
   "outputs": [
    {
     "data": {
      "text/plain": [
       "1.96"
      ]
     },
     "execution_count": 16,
     "metadata": {},
     "output_type": "execute_result"
    }
   ],
   "source": [
    "nat_bulk.loc['02As1', 'Na2O']"
   ]
  },
  {
   "cell_type": "code",
   "execution_count": 17,
   "metadata": {},
   "outputs": [
    {
     "data": {
      "text/plain": [
       "mean      0.043493\n",
       "median    0.000000\n",
       "std       0.264184\n",
       "Name: Fe_loss, dtype: float64"
      ]
     },
     "execution_count": 17,
     "metadata": {},
     "output_type": "execute_result"
    }
   ],
   "source": [
    "res_02As1['Fe_loss'] = res_02As1['pureFe'] / nat_bulk.loc['02As1', 'FeO'] * 100 * 100\n",
    "res_02As1['Fe_loss'].agg(['mean', 'median', 'std'])"
   ]
  },
  {
   "cell_type": "code",
   "execution_count": 18,
   "metadata": {},
   "outputs": [
    {
     "data": {
      "text/plain": [
       "mean      2.672525\n",
       "median    1.225675\n",
       "std       3.591108\n",
       "Name: Na2O_loss, dtype: float64"
      ]
     },
     "execution_count": 18,
     "metadata": {},
     "output_type": "execute_result"
    }
   ],
   "source": [
    "res_02As1['Na2O_loss'] = res_02As1['pureNa'] / nat_bulk.loc['02As1', 'Na2O'] * 100 * 100\n",
    "res_02As1['Na2O_loss'].agg(['mean', 'median', 'std'])"
   ]
  }
 ],
 "metadata": {
  "kernelspec": {
   "display_name": "Python 3.9.6 ('base')",
   "language": "python",
   "name": "python3"
  },
  "language_info": {
   "codemirror_mode": {
    "name": "ipython",
    "version": 3
   },
   "file_extension": ".py",
   "mimetype": "text/x-python",
   "name": "python",
   "nbconvert_exporter": "python",
   "pygments_lexer": "ipython3",
   "version": "3.9.6"
  },
  "orig_nbformat": 4,
  "vscode": {
   "interpreter": {
    "hash": "dbfc26f88d4be79d14d7fd08a335d9cb9196b9d1da0cd3f4e161d45a5650b80a"
   }
  }
 },
 "nbformat": 4,
 "nbformat_minor": 2
}
