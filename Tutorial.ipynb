{
 "cells": [
  {
   "cell_type": "markdown",
   "metadata": {},
   "source": [
    "## This notebook shows a general example mass balance calculations, we currentlt support two alghrithoms\n",
    "1. [Non-negative alghrithom](https://epubs.siam.org/doi/pdf/10.1137/1.9781611971217.bm), it solves KKT (Karush-Kuhn-Tucker) conditions for the non-negative least squares problem\n",
    "2. Matrix decomposition, following [Li et al. (2020)](https://www.sciencedirect.com/science/article/pii/S0009281920300301?casa_token=sT59EIzD3QkAAAAA:bQSW0-dssOb6YRtOMb-69ctkXC0BzW5_zlalxk4EV2GFwhm4apnk73tsq4TKVc4vipPyIImq8Twg) and [Ghiorso 1983](https://www.sciencedirect.com/science/article/pii/0098300483900080). The compositional matrix will be broken down by singular value decomposition, the coefficients will then calculated."
   ]
  },
  {
   "cell_type": "code",
   "execution_count": 1,
   "metadata": {},
   "outputs": [],
   "source": [
    "# import python modules\n",
    "import pandas as pd\n",
    "import matplotlib.pyplot as plt\n",
    "from MassBalance.mb_tools import MassBalance  # this is the core object of the mb calculation"
   ]
  },
  {
   "cell_type": "markdown",
   "metadata": {},
   "source": [
    "### 1. Define elements for calculation"
   ]
  },
  {
   "cell_type": "markdown",
   "metadata": {},
   "source": [
    "We first need to define element list for mass balance calculation, special attention goes to `FeO` term, which we use `FeO`, not ``FeOt`` nor ``FeOtot``, this is consistent with the input excel files. Feel free to change the order of the elements"
   ]
  },
  {
   "cell_type": "code",
   "execution_count": 2,
   "metadata": {},
   "outputs": [],
   "source": [
    "cmpnts = ['SiO2','Al2O3', 'TiO2', 'MgO', 'FeO', 'MnO',  'CaO', 'Na2O', 'K2O', 'P2O5', 'Cr2O3']  # change your desired elements for mass balance calculation"
   ]
  },
  {
   "cell_type": "markdown",
   "metadata": {},
   "source": [
    "if you also want to integrate standard deviation on elements, this can be done manually or by the following line"
   ]
  },
  {
   "cell_type": "code",
   "execution_count": 3,
   "metadata": {},
   "outputs": [
    {
     "data": {
      "text/plain": [
       "['SiO2_std',\n",
       " 'Al2O3_std',\n",
       " 'TiO2_std',\n",
       " 'MgO_std',\n",
       " 'FeO_std',\n",
       " 'MnO_std',\n",
       " 'CaO_std',\n",
       " 'Na2O_std',\n",
       " 'K2O_std',\n",
       " 'P2O5_std',\n",
       " 'Cr2O3_std']"
      ]
     },
     "execution_count": 3,
     "metadata": {},
     "output_type": "execute_result"
    }
   ],
   "source": [
    "cmpnts_std =[x + '_std' for x in cmpnts]  # save columns for std\n",
    "cmpnts_std"
   ]
  },
  {
   "cell_type": "markdown",
   "metadata": {},
   "source": [
    "### 2. Load data"
   ]
  },
  {
   "cell_type": "markdown",
   "metadata": {},
   "source": [
    "The easist way is to copy paste data in the input excel file, please also check README file for details of data prepration"
   ]
  },
  {
   "cell_type": "code",
   "execution_count": 4,
   "metadata": {},
   "outputs": [],
   "source": [
    "nat_comp = pd.ExcelFile(\"input_comp.xlsx\")"
   ]
  },
  {
   "cell_type": "markdown",
   "metadata": {},
   "source": [
    "We load the whole excel spreadsheet to a pandas ExcelFile, to access data in your spreadsheet, you can do so by looping through ExcelFile to a dictionary:"
   ]
  },
  {
   "cell_type": "code",
   "execution_count": 5,
   "metadata": {},
   "outputs": [],
   "source": [
    "nat_dict = {}  # create dictionary to collect compositions of different phases\n",
    "nat_phases = []  # create list to save all phases in the calculation. Note bulk will be the bulk compsition, run_index will be your sample number, or rock id . etc\n",
    "for sheet_name in nat_comp.sheet_names:\n",
    "    nat_phases.append(sheet_name)\n",
    "    nat_dict[sheet_name] = nat_comp.parse(sheet_name)"
   ]
  },
  {
   "cell_type": "markdown",
   "metadata": {},
   "source": [
    "``nat_phases`` stores the sheet names, ``nat_dict`` stores the data of each sheet. "
   ]
  },
  {
   "cell_type": "code",
   "execution_count": 6,
   "metadata": {},
   "outputs": [
    {
     "data": {
      "text/plain": [
       "['gl', 'ol', 'sp', 'py', 'pureFe', 'pureNa', 'bulk', 'run_index']"
      ]
     },
     "execution_count": 6,
     "metadata": {},
     "output_type": "execute_result"
    }
   ],
   "source": [
    "nat_phases"
   ]
  },
  {
   "cell_type": "markdown",
   "metadata": {},
   "source": [
    "Use the sheet name to access data, let's what we have in the ``gl`` phase\n"
   ]
  },
  {
   "cell_type": "code",
   "execution_count": 7,
   "metadata": {},
   "outputs": [
    {
     "data": {
      "text/html": [
       "<div>\n",
       "<style scoped>\n",
       "    .dataframe tbody tr th:only-of-type {\n",
       "        vertical-align: middle;\n",
       "    }\n",
       "\n",
       "    .dataframe tbody tr th {\n",
       "        vertical-align: top;\n",
       "    }\n",
       "\n",
       "    .dataframe thead th {\n",
       "        text-align: right;\n",
       "    }\n",
       "</style>\n",
       "<table border=\"1\" class=\"dataframe\">\n",
       "  <thead>\n",
       "    <tr style=\"text-align: right;\">\n",
       "      <th></th>\n",
       "      <th>Run_no</th>\n",
       "      <th>SiO2</th>\n",
       "      <th>Al2O3</th>\n",
       "      <th>P2O5</th>\n",
       "      <th>CaO</th>\n",
       "      <th>FeO</th>\n",
       "      <th>Na2O</th>\n",
       "      <th>MgO</th>\n",
       "      <th>TiO2</th>\n",
       "      <th>K2O</th>\n",
       "      <th>...</th>\n",
       "      <th>Al2O3_std</th>\n",
       "      <th>P2O5_std</th>\n",
       "      <th>CaO_std</th>\n",
       "      <th>FeO_std</th>\n",
       "      <th>Na2O_std</th>\n",
       "      <th>MgO_std</th>\n",
       "      <th>TiO2_std</th>\n",
       "      <th>K2O_std</th>\n",
       "      <th>MnO_std</th>\n",
       "      <th>Cr2O3_std</th>\n",
       "    </tr>\n",
       "  </thead>\n",
       "  <tbody>\n",
       "    <tr>\n",
       "      <th>0</th>\n",
       "      <td>02As1</td>\n",
       "      <td>46.66</td>\n",
       "      <td>10.16</td>\n",
       "      <td>0.17</td>\n",
       "      <td>11.64</td>\n",
       "      <td>13.06</td>\n",
       "      <td>1.95</td>\n",
       "      <td>13.15</td>\n",
       "      <td>2.43</td>\n",
       "      <td>0.49</td>\n",
       "      <td>...</td>\n",
       "      <td>0.17</td>\n",
       "      <td>0.10</td>\n",
       "      <td>0.22</td>\n",
       "      <td>0.34</td>\n",
       "      <td>0.10</td>\n",
       "      <td>0.26</td>\n",
       "      <td>0.20</td>\n",
       "      <td>0.04</td>\n",
       "      <td>0.04</td>\n",
       "      <td>0.04</td>\n",
       "    </tr>\n",
       "    <tr>\n",
       "      <th>1</th>\n",
       "      <td>01As1</td>\n",
       "      <td>46.96</td>\n",
       "      <td>10.34</td>\n",
       "      <td>0.20</td>\n",
       "      <td>11.81</td>\n",
       "      <td>13.21</td>\n",
       "      <td>1.84</td>\n",
       "      <td>12.16</td>\n",
       "      <td>2.53</td>\n",
       "      <td>0.44</td>\n",
       "      <td>...</td>\n",
       "      <td>0.11</td>\n",
       "      <td>0.07</td>\n",
       "      <td>0.20</td>\n",
       "      <td>0.21</td>\n",
       "      <td>0.10</td>\n",
       "      <td>0.12</td>\n",
       "      <td>0.14</td>\n",
       "      <td>0.05</td>\n",
       "      <td>0.03</td>\n",
       "      <td>0.08</td>\n",
       "    </tr>\n",
       "    <tr>\n",
       "      <th>2</th>\n",
       "      <td>04As1</td>\n",
       "      <td>47.20</td>\n",
       "      <td>10.80</td>\n",
       "      <td>0.23</td>\n",
       "      <td>12.13</td>\n",
       "      <td>12.77</td>\n",
       "      <td>1.87</td>\n",
       "      <td>11.04</td>\n",
       "      <td>2.65</td>\n",
       "      <td>0.48</td>\n",
       "      <td>...</td>\n",
       "      <td>0.11</td>\n",
       "      <td>0.05</td>\n",
       "      <td>0.21</td>\n",
       "      <td>0.45</td>\n",
       "      <td>0.14</td>\n",
       "      <td>0.09</td>\n",
       "      <td>0.16</td>\n",
       "      <td>0.05</td>\n",
       "      <td>0.05</td>\n",
       "      <td>0.03</td>\n",
       "    </tr>\n",
       "    <tr>\n",
       "      <th>3</th>\n",
       "      <td>03As1</td>\n",
       "      <td>48.38</td>\n",
       "      <td>11.36</td>\n",
       "      <td>0.18</td>\n",
       "      <td>12.63</td>\n",
       "      <td>13.03</td>\n",
       "      <td>1.42</td>\n",
       "      <td>10.35</td>\n",
       "      <td>2.54</td>\n",
       "      <td>0.43</td>\n",
       "      <td>...</td>\n",
       "      <td>0.16</td>\n",
       "      <td>0.06</td>\n",
       "      <td>0.12</td>\n",
       "      <td>0.27</td>\n",
       "      <td>0.07</td>\n",
       "      <td>0.19</td>\n",
       "      <td>0.27</td>\n",
       "      <td>0.05</td>\n",
       "      <td>0.05</td>\n",
       "      <td>0.05</td>\n",
       "    </tr>\n",
       "    <tr>\n",
       "      <th>4</th>\n",
       "      <td>05As1</td>\n",
       "      <td>47.18</td>\n",
       "      <td>11.63</td>\n",
       "      <td>0.23</td>\n",
       "      <td>12.84</td>\n",
       "      <td>12.57</td>\n",
       "      <td>2.04</td>\n",
       "      <td>9.42</td>\n",
       "      <td>2.60</td>\n",
       "      <td>0.51</td>\n",
       "      <td>...</td>\n",
       "      <td>0.12</td>\n",
       "      <td>0.05</td>\n",
       "      <td>0.25</td>\n",
       "      <td>0.20</td>\n",
       "      <td>0.12</td>\n",
       "      <td>0.18</td>\n",
       "      <td>0.23</td>\n",
       "      <td>0.05</td>\n",
       "      <td>0.04</td>\n",
       "      <td>0.05</td>\n",
       "    </tr>\n",
       "  </tbody>\n",
       "</table>\n",
       "<p>5 rows × 25 columns</p>\n",
       "</div>"
      ],
      "text/plain": [
       "  Run_no   SiO2  Al2O3  P2O5    CaO    FeO  Na2O    MgO  TiO2   K2O  ...  \\\n",
       "0  02As1  46.66  10.16  0.17  11.64  13.06  1.95  13.15  2.43  0.49  ...   \n",
       "1  01As1  46.96  10.34  0.20  11.81  13.21  1.84  12.16  2.53  0.44  ...   \n",
       "2  04As1  47.20  10.80  0.23  12.13  12.77  1.87  11.04  2.65  0.48  ...   \n",
       "3  03As1  48.38  11.36  0.18  12.63  13.03  1.42  10.35  2.54  0.43  ...   \n",
       "4  05As1  47.18  11.63  0.23  12.84  12.57  2.04   9.42  2.60  0.51  ...   \n",
       "\n",
       "   Al2O3_std  P2O5_std  CaO_std  FeO_std  Na2O_std  MgO_std  TiO2_std  \\\n",
       "0       0.17      0.10     0.22     0.34      0.10     0.26      0.20   \n",
       "1       0.11      0.07     0.20     0.21      0.10     0.12      0.14   \n",
       "2       0.11      0.05     0.21     0.45      0.14     0.09      0.16   \n",
       "3       0.16      0.06     0.12     0.27      0.07     0.19      0.27   \n",
       "4       0.12      0.05     0.25     0.20      0.12     0.18      0.23   \n",
       "\n",
       "   K2O_std  MnO_std  Cr2O3_std  \n",
       "0     0.04     0.04       0.04  \n",
       "1     0.05     0.03       0.08  \n",
       "2     0.05     0.05       0.03  \n",
       "3     0.05     0.05       0.05  \n",
       "4     0.05     0.04       0.05  \n",
       "\n",
       "[5 rows x 25 columns]"
      ]
     },
     "execution_count": 7,
     "metadata": {},
     "output_type": "execute_result"
    }
   ],
   "source": [
    "nat_dict['gl'].head()"
   ]
  },
  {
   "cell_type": "markdown",
   "metadata": {},
   "source": [
    "### 3. Mass balance calculation"
   ]
  },
  {
   "cell_type": "markdown",
   "metadata": {},
   "source": [
    "``MassBalance`` class does the core calculation.\n",
    "To start the calculation, we need to define the ``MassBalance`` class by passing all necessary infos for calculations:\n",
    "1. `input_comp` -- load the ExcelFile variable\n",
    "2. `comp_col` -- load element list\n",
    "3. `comp_std_col` -- load element std list (if avaiable), default is ``None``\n",
    "4. `match_column` -- this is the column name that saves your expts run no., sample no., or rock id. in each spreadsheet\n",
    "5. `bulk_sheet` -- sheet name of which saves bulk composition(s)\n",
    "6. `index_sheet` -- sheet name stores entire infos about expts run numbers ± condition, sample numbers or rock id.\n",
    "7. `normalize` -- normalize your data to 100 during calculation, default is ``True``"
   ]
  },
  {
   "cell_type": "code",
   "execution_count": 8,
   "metadata": {},
   "outputs": [],
   "source": [
    "mb_cal = MassBalance(\n",
    "    input_comp=nat_comp,\n",
    "    comp_col=cmpnts,\n",
    "    comp_std_col=cmpnts_std,\n",
    "    match_column=\"Run_no\",\n",
    "    bulk_sheet=\"bulk\",\n",
    "    index_sheet=\"run_index\",\n",
    "    normalize=True,\n",
    ")"
   ]
  },
  {
   "cell_type": "markdown",
   "metadata": {},
   "source": [
    "``mb_cal`` is variable we create for mass balance calculation\n",
    "The calculation is done by calling the compute method in the `MassBalance` class as `mb_cal.compute()`\n",
    "Four parameters can be tuned during computing:\n",
    "1. `mc` -- define the number of MC calculations, the default is None, which will be a one time calculation\n",
    "2. `exportFiles` -- we can export the results to excel file `output.xlsx` and `output_mean_median_std.xlsx`. If `mc` is given, `output_mean_median_std.xlsx`stores statistical infos for mc results\n",
    "3. `batch_bulk`: define if you have different bulk for each group of phases, this is useful for layers in layered intrusions or expts with variable starting compositions for different runs. If you only have one bulk composition, can turn it to `False`\n",
    "4. `method`: use `nnl` for non-negative method, `svd` for matrix decomposition method"
   ]
  },
  {
   "cell_type": "markdown",
   "metadata": {},
   "source": [
    "Below we give examples to perform 100 times MC calculation with non-negative method, export files, and we have pre-defined a batch bulk composition in the input file. More examples are given in the python scipt along with this code"
   ]
  },
  {
   "cell_type": "code",
   "execution_count": 9,
   "metadata": {},
   "outputs": [],
   "source": [
    "res_dict = mb_cal.compute(mc=100, exportFiles=True, batch_bulk=True, method='nnl')"
   ]
  },
  {
   "cell_type": "markdown",
   "metadata": {},
   "source": [
    "The result is saved in a python dictionary, with each key responses to the expts run no., sample no, or rock id you defined in the index sheet\n",
    "Let's take a look the results of first experimental run `02As1`"
   ]
  },
  {
   "cell_type": "code",
   "execution_count": 10,
   "metadata": {},
   "outputs": [
    {
     "data": {
      "text/html": [
       "<div>\n",
       "<style scoped>\n",
       "    .dataframe tbody tr th:only-of-type {\n",
       "        vertical-align: middle;\n",
       "    }\n",
       "\n",
       "    .dataframe tbody tr th {\n",
       "        vertical-align: top;\n",
       "    }\n",
       "\n",
       "    .dataframe thead th {\n",
       "        text-align: right;\n",
       "    }\n",
       "</style>\n",
       "<table border=\"1\" class=\"dataframe\">\n",
       "  <thead>\n",
       "    <tr style=\"text-align: right;\">\n",
       "      <th></th>\n",
       "      <th>gl</th>\n",
       "      <th>ol</th>\n",
       "      <th>sp</th>\n",
       "      <th>py</th>\n",
       "      <th>pureFe</th>\n",
       "      <th>pureNa</th>\n",
       "      <th>r2</th>\n",
       "      <th>residues</th>\n",
       "    </tr>\n",
       "  </thead>\n",
       "  <tbody>\n",
       "    <tr>\n",
       "      <th>0</th>\n",
       "      <td>0.972856</td>\n",
       "      <td>0.021906</td>\n",
       "      <td>0.0</td>\n",
       "      <td>0.0</td>\n",
       "      <td>0.0</td>\n",
       "      <td>0.000158</td>\n",
       "      <td>0.703634</td>\n",
       "      <td>0.495101</td>\n",
       "    </tr>\n",
       "    <tr>\n",
       "      <th>1</th>\n",
       "      <td>0.983275</td>\n",
       "      <td>0.012069</td>\n",
       "      <td>0.0</td>\n",
       "      <td>0.0</td>\n",
       "      <td>0.0</td>\n",
       "      <td>0.000075</td>\n",
       "      <td>0.704760</td>\n",
       "      <td>0.496686</td>\n",
       "    </tr>\n",
       "    <tr>\n",
       "      <th>2</th>\n",
       "      <td>0.987853</td>\n",
       "      <td>0.017529</td>\n",
       "      <td>0.0</td>\n",
       "      <td>0.0</td>\n",
       "      <td>0.0</td>\n",
       "      <td>0.000668</td>\n",
       "      <td>0.855129</td>\n",
       "      <td>0.731245</td>\n",
       "    </tr>\n",
       "    <tr>\n",
       "      <th>3</th>\n",
       "      <td>0.964934</td>\n",
       "      <td>0.029281</td>\n",
       "      <td>0.0</td>\n",
       "      <td>0.0</td>\n",
       "      <td>0.0</td>\n",
       "      <td>0.000205</td>\n",
       "      <td>0.674667</td>\n",
       "      <td>0.455176</td>\n",
       "    </tr>\n",
       "    <tr>\n",
       "      <th>4</th>\n",
       "      <td>0.979656</td>\n",
       "      <td>0.026223</td>\n",
       "      <td>0.0</td>\n",
       "      <td>0.0</td>\n",
       "      <td>0.0</td>\n",
       "      <td>0.000130</td>\n",
       "      <td>0.875085</td>\n",
       "      <td>0.765774</td>\n",
       "    </tr>\n",
       "    <tr>\n",
       "      <th>...</th>\n",
       "      <td>...</td>\n",
       "      <td>...</td>\n",
       "      <td>...</td>\n",
       "      <td>...</td>\n",
       "      <td>...</td>\n",
       "      <td>...</td>\n",
       "      <td>...</td>\n",
       "      <td>...</td>\n",
       "    </tr>\n",
       "    <tr>\n",
       "      <th>95</th>\n",
       "      <td>0.975669</td>\n",
       "      <td>0.032786</td>\n",
       "      <td>0.0</td>\n",
       "      <td>0.0</td>\n",
       "      <td>0.0</td>\n",
       "      <td>0.001784</td>\n",
       "      <td>0.558486</td>\n",
       "      <td>0.311906</td>\n",
       "    </tr>\n",
       "    <tr>\n",
       "      <th>96</th>\n",
       "      <td>0.984592</td>\n",
       "      <td>0.027391</td>\n",
       "      <td>0.0</td>\n",
       "      <td>0.0</td>\n",
       "      <td>0.0</td>\n",
       "      <td>0.000174</td>\n",
       "      <td>0.767013</td>\n",
       "      <td>0.588309</td>\n",
       "    </tr>\n",
       "    <tr>\n",
       "      <th>97</th>\n",
       "      <td>0.984631</td>\n",
       "      <td>0.015275</td>\n",
       "      <td>0.0</td>\n",
       "      <td>0.0</td>\n",
       "      <td>0.0</td>\n",
       "      <td>0.000560</td>\n",
       "      <td>0.591091</td>\n",
       "      <td>0.349388</td>\n",
       "    </tr>\n",
       "    <tr>\n",
       "      <th>98</th>\n",
       "      <td>0.983975</td>\n",
       "      <td>0.023029</td>\n",
       "      <td>0.0</td>\n",
       "      <td>0.0</td>\n",
       "      <td>0.0</td>\n",
       "      <td>0.000000</td>\n",
       "      <td>1.128175</td>\n",
       "      <td>1.272778</td>\n",
       "    </tr>\n",
       "    <tr>\n",
       "      <th>99</th>\n",
       "      <td>0.969826</td>\n",
       "      <td>0.031071</td>\n",
       "      <td>0.0</td>\n",
       "      <td>0.0</td>\n",
       "      <td>0.0</td>\n",
       "      <td>0.001626</td>\n",
       "      <td>0.749474</td>\n",
       "      <td>0.561711</td>\n",
       "    </tr>\n",
       "  </tbody>\n",
       "</table>\n",
       "<p>100 rows × 8 columns</p>\n",
       "</div>"
      ],
      "text/plain": [
       "          gl        ol   sp   py  pureFe    pureNa        r2  residues\n",
       "0   0.972856  0.021906  0.0  0.0     0.0  0.000158  0.703634  0.495101\n",
       "1   0.983275  0.012069  0.0  0.0     0.0  0.000075  0.704760  0.496686\n",
       "2   0.987853  0.017529  0.0  0.0     0.0  0.000668  0.855129  0.731245\n",
       "3   0.964934  0.029281  0.0  0.0     0.0  0.000205  0.674667  0.455176\n",
       "4   0.979656  0.026223  0.0  0.0     0.0  0.000130  0.875085  0.765774\n",
       "..       ...       ...  ...  ...     ...       ...       ...       ...\n",
       "95  0.975669  0.032786  0.0  0.0     0.0  0.001784  0.558486  0.311906\n",
       "96  0.984592  0.027391  0.0  0.0     0.0  0.000174  0.767013  0.588309\n",
       "97  0.984631  0.015275  0.0  0.0     0.0  0.000560  0.591091  0.349388\n",
       "98  0.983975  0.023029  0.0  0.0     0.0  0.000000  1.128175  1.272778\n",
       "99  0.969826  0.031071  0.0  0.0     0.0  0.001626  0.749474  0.561711\n",
       "\n",
       "[100 rows x 8 columns]"
      ]
     },
     "execution_count": 10,
     "metadata": {},
     "output_type": "execute_result"
    }
   ],
   "source": [
    "res_02As1 = res_dict['02As1']\n",
    "res_02As1"
   ]
  },
  {
   "cell_type": "markdown",
   "metadata": {},
   "source": [
    "This is the MC results (100 times), to calculate statistical infos, you can simply call the built-in pandas functions as:"
   ]
  },
  {
   "cell_type": "code",
   "execution_count": 11,
   "metadata": {},
   "outputs": [
    {
     "data": {
      "text/html": [
       "<div>\n",
       "<style scoped>\n",
       "    .dataframe tbody tr th:only-of-type {\n",
       "        vertical-align: middle;\n",
       "    }\n",
       "\n",
       "    .dataframe tbody tr th {\n",
       "        vertical-align: top;\n",
       "    }\n",
       "\n",
       "    .dataframe thead th {\n",
       "        text-align: right;\n",
       "    }\n",
       "</style>\n",
       "<table border=\"1\" class=\"dataframe\">\n",
       "  <thead>\n",
       "    <tr style=\"text-align: right;\">\n",
       "      <th></th>\n",
       "      <th>gl</th>\n",
       "      <th>ol</th>\n",
       "      <th>sp</th>\n",
       "      <th>py</th>\n",
       "      <th>pureFe</th>\n",
       "      <th>pureNa</th>\n",
       "      <th>r2</th>\n",
       "      <th>residues</th>\n",
       "    </tr>\n",
       "  </thead>\n",
       "  <tbody>\n",
       "    <tr>\n",
       "      <th>count</th>\n",
       "      <td>100.000000</td>\n",
       "      <td>100.000000</td>\n",
       "      <td>100.0</td>\n",
       "      <td>100.0</td>\n",
       "      <td>100.0</td>\n",
       "      <td>100.000000</td>\n",
       "      <td>100.000000</td>\n",
       "      <td>100.000000</td>\n",
       "    </tr>\n",
       "    <tr>\n",
       "      <th>mean</th>\n",
       "      <td>0.980573</td>\n",
       "      <td>0.020721</td>\n",
       "      <td>0.0</td>\n",
       "      <td>0.0</td>\n",
       "      <td>0.0</td>\n",
       "      <td>0.000708</td>\n",
       "      <td>0.819810</td>\n",
       "      <td>0.737976</td>\n",
       "    </tr>\n",
       "    <tr>\n",
       "      <th>std</th>\n",
       "      <td>0.009371</td>\n",
       "      <td>0.007229</td>\n",
       "      <td>0.0</td>\n",
       "      <td>0.0</td>\n",
       "      <td>0.0</td>\n",
       "      <td>0.000756</td>\n",
       "      <td>0.257979</td>\n",
       "      <td>0.444507</td>\n",
       "    </tr>\n",
       "    <tr>\n",
       "      <th>min</th>\n",
       "      <td>0.954178</td>\n",
       "      <td>0.000035</td>\n",
       "      <td>0.0</td>\n",
       "      <td>0.0</td>\n",
       "      <td>0.0</td>\n",
       "      <td>0.000000</td>\n",
       "      <td>0.304618</td>\n",
       "      <td>0.092792</td>\n",
       "    </tr>\n",
       "    <tr>\n",
       "      <th>25%</th>\n",
       "      <td>0.975013</td>\n",
       "      <td>0.015463</td>\n",
       "      <td>0.0</td>\n",
       "      <td>0.0</td>\n",
       "      <td>0.0</td>\n",
       "      <td>0.000000</td>\n",
       "      <td>0.602213</td>\n",
       "      <td>0.362675</td>\n",
       "    </tr>\n",
       "    <tr>\n",
       "      <th>50%</th>\n",
       "      <td>0.981619</td>\n",
       "      <td>0.020839</td>\n",
       "      <td>0.0</td>\n",
       "      <td>0.0</td>\n",
       "      <td>0.0</td>\n",
       "      <td>0.000506</td>\n",
       "      <td>0.818477</td>\n",
       "      <td>0.669904</td>\n",
       "    </tr>\n",
       "    <tr>\n",
       "      <th>75%</th>\n",
       "      <td>0.986480</td>\n",
       "      <td>0.025259</td>\n",
       "      <td>0.0</td>\n",
       "      <td>0.0</td>\n",
       "      <td>0.0</td>\n",
       "      <td>0.001208</td>\n",
       "      <td>1.020251</td>\n",
       "      <td>1.040923</td>\n",
       "    </tr>\n",
       "    <tr>\n",
       "      <th>max</th>\n",
       "      <td>1.010885</td>\n",
       "      <td>0.041295</td>\n",
       "      <td>0.0</td>\n",
       "      <td>0.0</td>\n",
       "      <td>0.0</td>\n",
       "      <td>0.002939</td>\n",
       "      <td>1.566041</td>\n",
       "      <td>2.452484</td>\n",
       "    </tr>\n",
       "  </tbody>\n",
       "</table>\n",
       "</div>"
      ],
      "text/plain": [
       "               gl          ol     sp     py  pureFe      pureNa          r2  \\\n",
       "count  100.000000  100.000000  100.0  100.0   100.0  100.000000  100.000000   \n",
       "mean     0.980573    0.020721    0.0    0.0     0.0    0.000708    0.819810   \n",
       "std      0.009371    0.007229    0.0    0.0     0.0    0.000756    0.257979   \n",
       "min      0.954178    0.000035    0.0    0.0     0.0    0.000000    0.304618   \n",
       "25%      0.975013    0.015463    0.0    0.0     0.0    0.000000    0.602213   \n",
       "50%      0.981619    0.020839    0.0    0.0     0.0    0.000506    0.818477   \n",
       "75%      0.986480    0.025259    0.0    0.0     0.0    0.001208    1.020251   \n",
       "max      1.010885    0.041295    0.0    0.0     0.0    0.002939    1.566041   \n",
       "\n",
       "         residues  \n",
       "count  100.000000  \n",
       "mean     0.737976  \n",
       "std      0.444507  \n",
       "min      0.092792  \n",
       "25%      0.362675  \n",
       "50%      0.669904  \n",
       "75%      1.040923  \n",
       "max      2.452484  "
      ]
     },
     "execution_count": 11,
     "metadata": {},
     "output_type": "execute_result"
    }
   ],
   "source": [
    "res_02As1.describe()"
   ]
  },
  {
   "cell_type": "markdown",
   "metadata": {},
   "source": [
    "or only interested parameters"
   ]
  },
  {
   "cell_type": "code",
   "execution_count": 12,
   "metadata": {},
   "outputs": [
    {
     "data": {
      "text/html": [
       "<div>\n",
       "<style scoped>\n",
       "    .dataframe tbody tr th:only-of-type {\n",
       "        vertical-align: middle;\n",
       "    }\n",
       "\n",
       "    .dataframe tbody tr th {\n",
       "        vertical-align: top;\n",
       "    }\n",
       "\n",
       "    .dataframe thead th {\n",
       "        text-align: right;\n",
       "    }\n",
       "</style>\n",
       "<table border=\"1\" class=\"dataframe\">\n",
       "  <thead>\n",
       "    <tr style=\"text-align: right;\">\n",
       "      <th></th>\n",
       "      <th>gl</th>\n",
       "      <th>ol</th>\n",
       "      <th>sp</th>\n",
       "      <th>py</th>\n",
       "      <th>pureFe</th>\n",
       "      <th>pureNa</th>\n",
       "      <th>r2</th>\n",
       "      <th>residues</th>\n",
       "    </tr>\n",
       "  </thead>\n",
       "  <tbody>\n",
       "    <tr>\n",
       "      <th>mean</th>\n",
       "      <td>0.980573</td>\n",
       "      <td>0.020721</td>\n",
       "      <td>0.0</td>\n",
       "      <td>0.0</td>\n",
       "      <td>0.0</td>\n",
       "      <td>0.000708</td>\n",
       "      <td>0.819810</td>\n",
       "      <td>0.737976</td>\n",
       "    </tr>\n",
       "    <tr>\n",
       "      <th>median</th>\n",
       "      <td>0.981619</td>\n",
       "      <td>0.020839</td>\n",
       "      <td>0.0</td>\n",
       "      <td>0.0</td>\n",
       "      <td>0.0</td>\n",
       "      <td>0.000506</td>\n",
       "      <td>0.818477</td>\n",
       "      <td>0.669904</td>\n",
       "    </tr>\n",
       "    <tr>\n",
       "      <th>std</th>\n",
       "      <td>0.009371</td>\n",
       "      <td>0.007229</td>\n",
       "      <td>0.0</td>\n",
       "      <td>0.0</td>\n",
       "      <td>0.0</td>\n",
       "      <td>0.000756</td>\n",
       "      <td>0.257979</td>\n",
       "      <td>0.444507</td>\n",
       "    </tr>\n",
       "  </tbody>\n",
       "</table>\n",
       "</div>"
      ],
      "text/plain": [
       "              gl        ol   sp   py  pureFe    pureNa        r2  residues\n",
       "mean    0.980573  0.020721  0.0  0.0     0.0  0.000708  0.819810  0.737976\n",
       "median  0.981619  0.020839  0.0  0.0     0.0  0.000506  0.818477  0.669904\n",
       "std     0.009371  0.007229  0.0  0.0     0.0  0.000756  0.257979  0.444507"
      ]
     },
     "execution_count": 12,
     "metadata": {},
     "output_type": "execute_result"
    }
   ],
   "source": [
    "res_02As1.agg(['mean', 'median', 'std'])"
   ]
  },
  {
   "cell_type": "markdown",
   "metadata": {},
   "source": [
    "To plot the result, you can simply do:"
   ]
  },
  {
   "cell_type": "code",
   "execution_count": 13,
   "metadata": {},
   "outputs": [
    {
     "data": {
      "image/png": "[encoded data removed]",
      "text/plain": [
       "<Figure size 432x288 with 2 Axes>"
      ]
     },
     "metadata": {
      "needs_background": "light"
     },
     "output_type": "display_data"
    }
   ],
   "source": [
    "fig, axes = plt.subplots(1,2, constrained_layout=True)\n",
    "axes[0].hist(res_02As1['gl'], density=True)\n",
    "axes[1].hist(res_02As1['ol'], density=True)\n",
    "axes[0].set_xlabel('gl')\n",
    "axes[1].set_xlabel('ol')\n",
    "plt.show()"
   ]
  },
  {
   "cell_type": "markdown",
   "metadata": {},
   "source": [
    "We pre-defined pure FeO and pure Na2O phases as the evaluation of Fe loss and Na loss, if you don't want to check this, simply delete these sheets\n",
    "Below we give an example to calculate Fe loss (%) and Na loss (%) in the first experimental run `02As1`\n"
   ]
  },
  {
   "cell_type": "code",
   "execution_count": 14,
   "metadata": {},
   "outputs": [
    {
     "data": {
      "text/plain": [
       "12.42"
      ]
     },
     "execution_count": 14,
     "metadata": {},
     "output_type": "execute_result"
    }
   ],
   "source": [
    "nat_bulk = nat_dict['bulk'].set_index('Run_no')\n",
    "nat_bulk.loc['02As1', 'FeO']"
   ]
  },
  {
   "cell_type": "code",
   "execution_count": 15,
   "metadata": {},
   "outputs": [
    {
     "data": {
      "text/plain": [
       "1.96"
      ]
     },
     "execution_count": 15,
     "metadata": {},
     "output_type": "execute_result"
    }
   ],
   "source": [
    "nat_bulk.loc['02As1', 'Na2O']"
   ]
  },
  {
   "cell_type": "code",
   "execution_count": 16,
   "metadata": {},
   "outputs": [
    {
     "data": {
      "text/plain": [
       "mean      0.0\n",
       "median    0.0\n",
       "std       0.0\n",
       "Name: Fe_loss, dtype: float64"
      ]
     },
     "execution_count": 16,
     "metadata": {},
     "output_type": "execute_result"
    }
   ],
   "source": [
    "res_02As1['Fe_loss'] = res_02As1['pureFe'] / nat_bulk.loc['02As1', 'FeO'] * 100 * 100\n",
    "res_02As1['Fe_loss'].agg(['mean', 'median', 'std'])"
   ]
  },
  {
   "cell_type": "code",
   "execution_count": 17,
   "metadata": {},
   "outputs": [
    {
     "data": {
      "text/plain": [
       "mean      3.610424\n",
       "median    2.581412\n",
       "std       3.857087\n",
       "Name: Na2O_loss, dtype: float64"
      ]
     },
     "execution_count": 17,
     "metadata": {},
     "output_type": "execute_result"
    }
   ],
   "source": [
    "res_02As1['Na2O_loss'] = res_02As1['pureNa'] / nat_bulk.loc['02As1', 'Na2O'] * 100 * 100\n",
    "res_02As1['Na2O_loss'].agg(['mean', 'median', 'std'])"
   ]
  },
  {
   "cell_type": "markdown",
   "metadata": {},
   "source": [
    "# Fin ~ happy coding!"
   ]
  }
 ],
 "metadata": {
  "kernelspec": {
   "display_name": "Python 3.9.6 ('base')",
   "language": "python",
   "name": "python3"
  },
  "language_info": {
   "codemirror_mode": {
    "name": "ipython",
    "version": 3
   },
   "file_extension": ".py",
   "mimetype": "text/x-python",
   "name": "python",
   "nbconvert_exporter": "python",
   "pygments_lexer": "ipython3",
   "version": "3.9.6"
  },
  "orig_nbformat": 4,
  "vscode": {
   "interpreter": {
    "hash": "dbfc26f88d4be79d14d7fd08a335d9cb9196b9d1da0cd3f4e161d45a5650b80a"
   }
  }
 },
 "nbformat": 4,
 "nbformat_minor": 2
}
